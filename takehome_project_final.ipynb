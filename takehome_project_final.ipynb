{
 "cells": [
  {
   "cell_type": "code",
   "execution_count": 1,
   "metadata": {},
   "outputs": [
    {
     "name": "stderr",
     "output_type": "stream",
     "text": [
      "Using TensorFlow backend.\n"
     ]
    }
   ],
   "source": [
    "import numpy as np\n",
    "import pandas as pd\n",
    "from sklearn.preprocessing import OneHotEncoder\n",
    "import re\n",
    "from sklearn.metrics import classification_report, confusion_matrix\n",
    "import matplotlib.pyplot as plt\n",
    "import itertools\n",
    "from sklearn.metrics import accuracy_score\n",
    "from sklearn.neighbors import KNeighborsClassifier\n",
    "from sklearn.model_selection import train_test_split\n",
    "from sklearn.ensemble import RandomForestClassifier\n",
    "from keras.models import Sequential\n",
    "from keras.layers import Dense, Dropout\n",
    "from keras.wrappers.scikit_learn import KerasClassifier\n",
    "from sklearn.model_selection import StratifiedKFold, cross_val_score, KFold\n",
    "from keras.utils import np_utils\n",
    "from sklearn.preprocessing import LabelEncoder\n",
    "from sklearn.tree import DecisionTreeClassifier\n",
    "import xgboost\n",
    "from sklearn.naive_bayes import GaussianNB\n",
    "from sklearn.svm import SVC\n",
    "\n"
   ]
  },
  {
   "cell_type": "markdown",
   "metadata": {},
   "source": [
    "# Tasks \n",
    "\n",
    "### Generate a model in any DL/ML frameworks and use this data to learn to classify a 60 element DNA sequence into the categories of IE, EI or neither.\n",
    "### Compare performance of classical machine learning models and deep learning models.\n",
    "__Focus on making a thoughtful analysis on the comparison than raising the absolute perfomances of the methods.__\n",
    "\n",
    "\n",
    "\n",
    "# Dataset\n",
    "\n",
    "This is a dataset of DNA sequences that define the boundaries between regions that are spliced out during protein creation (introns) or retained for protein creation (exons).\n",
    "\n",
    "There are 3 classes: boundaries between exon and intron sequences (EI), boundaries between intron and exon sequences (IE), or sequences that are neither.\n",
    "\n",
    "The dataset has 3190 examples of DNA sequences.\n",
    "Each sequence is 60 base-pairs long.\n",
    "\n",
    "\n"
   ]
  },
  {
   "cell_type": "markdown",
   "metadata": {},
   "source": [
    "# Approaches\n",
    "\n",
    "### 1. Classical machine learning algorithms\n",
    "### 2. Deep learning algorithms using Keras neural network\n"
   ]
  },
  {
   "cell_type": "markdown",
   "metadata": {},
   "source": [
    "# Feature selection and preprocessing"
   ]
  },
  {
   "cell_type": "code",
   "execution_count": 2,
   "metadata": {},
   "outputs": [],
   "source": [
    "label_encoder = LabelEncoder()\n",
    "label_encoder.fit(np.array(['A','C','G','T','Z']))\n",
    "#Z for variables that are not A C G T , \n",
    "#Variables other than 4 characters are regarded equally.\n",
    "\n",
    "def one_hot_encoder(array):\n",
    "    integer_encoded = label_encoder.transform(array)\n",
    "    onehot_encoder = OneHotEncoder(sparse=False, dtype=int, categories=[range(5)])\n",
    "    integer_encoded = integer_encoded.reshape(len(integer_encoded), 1)\n",
    "    onehot_encoded = onehot_encoder.fit_transform(integer_encoded)\n",
    "    onehot_encoded = np.delete(onehot_encoded, -1, 1)\n",
    "    return onehot_encoded\n",
    "\n",
    "def dummy_data(data, columns):\n",
    "    for column in columns:\n",
    "        data = pd.concat([data, pd.get_dummies(data[column], prefix = column )], axis=1 )\n",
    "        data = data.drop(column, axis=1 )\n",
    "    return data\n",
    "\n",
    "\n",
    "    "
   ]
  },
  {
   "cell_type": "code",
   "execution_count": 3,
   "metadata": {},
   "outputs": [],
   "source": [
    "#label encoder to float numbers\n",
    "def ordinal_encoder(my_array):\n",
    "    integer_encoded = label_encoder.transform(my_array)\n",
    "    float_encoded = integer_encoded.astype(float)\n",
    "    float_encoded[float_encoded == 0] = 0.25 # A\n",
    "    float_encoded[float_encoded == 1] = 0.50 # C\n",
    "    float_encoded[float_encoded == 2] = 0.75 # G\n",
    "    float_encoded[float_encoded == 3] = 1.00 # T\n",
    "    float_encoded[float_encoded == 4] = 0.00 # anything else, z\n",
    "    return float_encoded\n",
    "\n",
    "#change the string sequence to array\n",
    "def string_to_array(my_string):\n",
    "    my_string = re.sub('[^ACGT]', 'Z', my_string)\n",
    "    my_array = np.array(list(my_string))\n",
    "    return my_array\n"
   ]
  },
  {
   "cell_type": "code",
   "execution_count": 4,
   "metadata": {},
   "outputs": [],
   "source": [
    "# read data with pandas\n",
    "data = pd.read_csv(\"splice.data\",names = [\"label\", \"attributes\", \"sequence\"])\n",
    "data2 = data.copy()"
   ]
  },
  {
   "cell_type": "code",
   "execution_count": 5,
   "metadata": {},
   "outputs": [
    {
     "data": {
      "text/plain": [
       "(3190, 3)"
      ]
     },
     "execution_count": 5,
     "metadata": {},
     "output_type": "execute_result"
    }
   ],
   "source": [
    "data.shape"
   ]
  },
  {
   "cell_type": "code",
   "execution_count": 6,
   "metadata": {},
   "outputs": [
    {
     "data": {
      "text/html": [
       "<div>\n",
       "<style scoped>\n",
       "    .dataframe tbody tr th:only-of-type {\n",
       "        vertical-align: middle;\n",
       "    }\n",
       "\n",
       "    .dataframe tbody tr th {\n",
       "        vertical-align: top;\n",
       "    }\n",
       "\n",
       "    .dataframe thead th {\n",
       "        text-align: right;\n",
       "    }\n",
       "</style>\n",
       "<table border=\"1\" class=\"dataframe\">\n",
       "  <thead>\n",
       "    <tr style=\"text-align: right;\">\n",
       "      <th></th>\n",
       "      <th>label</th>\n",
       "      <th>attributes</th>\n",
       "      <th>sequence</th>\n",
       "    </tr>\n",
       "  </thead>\n",
       "  <tbody>\n",
       "    <tr>\n",
       "      <th>0</th>\n",
       "      <td>EI</td>\n",
       "      <td>ATRINS-DONOR-521</td>\n",
       "      <td>CCAGCTGCATCACAGGAGGCCAGCGAGCAGG...</td>\n",
       "    </tr>\n",
       "    <tr>\n",
       "      <th>1</th>\n",
       "      <td>EI</td>\n",
       "      <td>ATRINS-DONOR-905</td>\n",
       "      <td>AGACCCGCCGGGAGGCGGAGGACCTGCAGGG...</td>\n",
       "    </tr>\n",
       "    <tr>\n",
       "      <th>2</th>\n",
       "      <td>EI</td>\n",
       "      <td>BABAPOE-DONOR-30</td>\n",
       "      <td>GAGGTGAAGGACGTCCTTCCCCAGGAGCCGG...</td>\n",
       "    </tr>\n",
       "    <tr>\n",
       "      <th>3</th>\n",
       "      <td>EI</td>\n",
       "      <td>BABAPOE-DONOR-867</td>\n",
       "      <td>GGGCTGCGTTGCTGGTCACATTCCTGGCAGGT...</td>\n",
       "    </tr>\n",
       "    <tr>\n",
       "      <th>4</th>\n",
       "      <td>EI</td>\n",
       "      <td>BABAPOE-DONOR-2817</td>\n",
       "      <td>GCTCAGCCCCCAGGTCACCCAGGAACTGACGTG...</td>\n",
       "    </tr>\n",
       "  </tbody>\n",
       "</table>\n",
       "</div>"
      ],
      "text/plain": [
       "  label              attributes  \\\n",
       "0    EI        ATRINS-DONOR-521   \n",
       "1    EI        ATRINS-DONOR-905   \n",
       "2    EI        BABAPOE-DONOR-30   \n",
       "3    EI       BABAPOE-DONOR-867   \n",
       "4    EI      BABAPOE-DONOR-2817   \n",
       "\n",
       "                                            sequence  \n",
       "0                 CCAGCTGCATCACAGGAGGCCAGCGAGCAGG...  \n",
       "1                 AGACCCGCCGGGAGGCGGAGGACCTGCAGGG...  \n",
       "2                 GAGGTGAAGGACGTCCTTCCCCAGGAGCCGG...  \n",
       "3                GGGCTGCGTTGCTGGTCACATTCCTGGCAGGT...  \n",
       "4               GCTCAGCCCCCAGGTCACCCAGGAACTGACGTG...  "
      ]
     },
     "execution_count": 6,
     "metadata": {},
     "output_type": "execute_result"
    }
   ],
   "source": [
    "data.head()"
   ]
  },
  {
   "cell_type": "markdown",
   "metadata": {},
   "source": [
    "---\n",
    "\n",
    "### The attributes column was not reliable for the analysis.\n",
    "\n",
    "The column consisted of data that was stricted related to the label. \n",
    "(e.g. the DONOR -> EI , NEG -> N ) \n",
    "\n",
    "__Therefore, in this task the column should be deleted__ \n",
    "\n",
    "---"
   ]
  },
  {
   "cell_type": "code",
   "execution_count": 7,
   "metadata": {},
   "outputs": [],
   "source": [
    "data.sequence = data.sequence.str.lstrip()\n",
    "#erase the empty space in front of sequence column\n",
    "\n",
    "def getKmers(sequence, size=6):\n",
    "    return [sequence[x:x+size].lower() for x in range(len(sequence) - size + 1)]\n",
    "\n",
    "data['words'] = data.apply(lambda x: getKmers(x['sequence']), axis=1)\n",
    "data = data.drop('sequence', axis=1)\n"
   ]
  },
  {
   "cell_type": "code",
   "execution_count": 8,
   "metadata": {},
   "outputs": [],
   "source": [
    "dna_texts = list(data['words'])"
   ]
  },
  {
   "cell_type": "code",
   "execution_count": 9,
   "metadata": {},
   "outputs": [],
   "source": [
    "for item in range(len(dna_texts)):\n",
    "    dna_texts[item] = ' '.join(dna_texts[item])\n",
    "y_dna = data.iloc[:, 0].values"
   ]
  },
  {
   "cell_type": "code",
   "execution_count": 10,
   "metadata": {},
   "outputs": [
    {
     "data": {
      "text/plain": [
       "'ccagct cagctg agctgc gctgca ctgcat tgcatc gcatca catcac atcaca tcacag cacagg acagga caggag aggagg ggaggc gaggcc aggcca ggccag gccagc ccagcg cagcga agcgag gcgagc cgagca gagcag agcagg gcaggt caggtc aggtct ggtctg gtctgt tctgtt ctgttc tgttcc gttcca ttccaa tccaag ccaagg caaggg aagggc agggcc gggcct ggcctt gccttc ccttcg cttcga ttcgag tcgagc cgagcc gagcca agccag gccagt ccagtc cagtct agtctg'"
      ]
     },
     "execution_count": 10,
     "metadata": {},
     "output_type": "execute_result"
    }
   ],
   "source": [
    "dna_texts[0]"
   ]
  },
  {
   "cell_type": "code",
   "execution_count": 11,
   "metadata": {},
   "outputs": [],
   "source": [
    "from sklearn.feature_extraction.text import CountVectorizer\n",
    "cv = CountVectorizer()\n",
    "X = cv.fit_transform(dna_texts)\n",
    "#use count vectorizer to vectorize and count sequences of equal length "
   ]
  },
  {
   "cell_type": "code",
   "execution_count": 12,
   "metadata": {},
   "outputs": [],
   "source": [
    "from sklearn.model_selection import train_test_split\n",
    "X_train, X_test, y_train, y_test = train_test_split(X, \n",
    "                                                    y_dna, \n",
    "                                                    test_size = 0.20)\n",
    "\n",
    "# print(y_train)"
   ]
  },
  {
   "cell_type": "code",
   "execution_count": 15,
   "metadata": {},
   "outputs": [
    {
     "name": "stdout",
     "output_type": "stream",
     "text": [
      "Confusion matrix\n",
      "\n",
      "Predicted  EI  IE    N\n",
      "Actual                \n",
      "EI         97   6   33\n",
      "IE          5  99   49\n",
      "N          76  65  208\n",
      "accuracy = 0.633 \n",
      "precision = 0.648 \n",
      "recall = 0.633 \n",
      "f1 = 0.635\n"
     ]
    }
   ],
   "source": [
    "from sklearn.naive_bayes import MultinomialNB\n",
    "classifier = MultinomialNB()\n",
    "classifier.fit(X_train, y_train)\n",
    "y_pred = classifier.predict(X_test)\n",
    "from sklearn.metrics import accuracy_score, f1_score, precision_score, recall_score\n",
    "print(\"Confusion matrix\\n\")\n",
    "print(pd.crosstab(pd.Series(y_test, name='Actual'), pd.Series(y_pred, name='Predicted')))\n",
    "def get_metrics(y_test, y_predicted):\n",
    "    accuracy = accuracy_score(y_test, y_predicted)\n",
    "    precision = precision_score(y_test, y_predicted, average='weighted')\n",
    "    recall = recall_score(y_test, y_predicted, average='weighted')\n",
    "    f1 = f1_score(y_test, y_predicted, average='weighted')\n",
    "    return accuracy, precision, recall, f1\n",
    "accuracy, precision, recall, f1 = get_metrics(y_test, y_pred)\n",
    "print(\"accuracy = %.3f \\nprecision = %.3f \\nrecall = %.3f \\nf1 = %.3f\" % (accuracy, precision, recall, f1))\n"
   ]
  },
  {
   "cell_type": "markdown",
   "metadata": {},
   "source": [
    "### Above codes only demonstrates that using kmer algorithm to group dna sequences into groups were not very successful in achieving classification \n",
    "---\n",
    "### Therefore, the onehot encoding and label encoding were used in feature selection process\n",
    "\n",
    "---"
   ]
  },
  {
   "cell_type": "code",
   "execution_count": 16,
   "metadata": {},
   "outputs": [
    {
     "data": {
      "text/html": [
       "<div>\n",
       "<style scoped>\n",
       "    .dataframe tbody tr th:only-of-type {\n",
       "        vertical-align: middle;\n",
       "    }\n",
       "\n",
       "    .dataframe tbody tr th {\n",
       "        vertical-align: top;\n",
       "    }\n",
       "\n",
       "    .dataframe thead th {\n",
       "        text-align: right;\n",
       "    }\n",
       "</style>\n",
       "<table border=\"1\" class=\"dataframe\">\n",
       "  <thead>\n",
       "    <tr style=\"text-align: right;\">\n",
       "      <th></th>\n",
       "      <th>label</th>\n",
       "      <th>attributes</th>\n",
       "      <th>sequence</th>\n",
       "    </tr>\n",
       "  </thead>\n",
       "  <tbody>\n",
       "    <tr>\n",
       "      <th>0</th>\n",
       "      <td>EI</td>\n",
       "      <td>ATRINS-DONOR-521</td>\n",
       "      <td>[C, C, A, G, C, T, G, C, A, T, C, A, C, A, G, ...</td>\n",
       "    </tr>\n",
       "    <tr>\n",
       "      <th>1</th>\n",
       "      <td>EI</td>\n",
       "      <td>ATRINS-DONOR-905</td>\n",
       "      <td>[A, G, A, C, C, C, G, C, C, G, G, G, A, G, G, ...</td>\n",
       "    </tr>\n",
       "    <tr>\n",
       "      <th>2</th>\n",
       "      <td>EI</td>\n",
       "      <td>BABAPOE-DONOR-30</td>\n",
       "      <td>[G, A, G, G, T, G, A, A, G, G, A, C, G, T, C, ...</td>\n",
       "    </tr>\n",
       "    <tr>\n",
       "      <th>3</th>\n",
       "      <td>EI</td>\n",
       "      <td>BABAPOE-DONOR-867</td>\n",
       "      <td>[G, G, G, C, T, G, C, G, T, T, G, C, T, G, G, ...</td>\n",
       "    </tr>\n",
       "    <tr>\n",
       "      <th>4</th>\n",
       "      <td>EI</td>\n",
       "      <td>BABAPOE-DONOR-2817</td>\n",
       "      <td>[G, C, T, C, A, G, C, C, C, C, C, A, G, G, T, ...</td>\n",
       "    </tr>\n",
       "  </tbody>\n",
       "</table>\n",
       "</div>"
      ],
      "text/plain": [
       "  label              attributes  \\\n",
       "0    EI        ATRINS-DONOR-521   \n",
       "1    EI        ATRINS-DONOR-905   \n",
       "2    EI        BABAPOE-DONOR-30   \n",
       "3    EI       BABAPOE-DONOR-867   \n",
       "4    EI      BABAPOE-DONOR-2817   \n",
       "\n",
       "                                            sequence  \n",
       "0  [C, C, A, G, C, T, G, C, A, T, C, A, C, A, G, ...  \n",
       "1  [A, G, A, C, C, C, G, C, C, G, G, G, A, G, G, ...  \n",
       "2  [G, A, G, G, T, G, A, A, G, G, A, C, G, T, C, ...  \n",
       "3  [G, G, G, C, T, G, C, G, T, T, G, C, T, G, G, ...  \n",
       "4  [G, C, T, C, A, G, C, C, C, C, C, A, G, G, T, ...  "
      ]
     },
     "execution_count": 16,
     "metadata": {},
     "output_type": "execute_result"
    }
   ],
   "source": [
    "#erase empty space on the left\n",
    "data2.sequence = data2.sequence.str.lstrip()\n",
    "\n",
    "#change string sequence into array\n",
    "data2[\"sequence\"]= data2[\"sequence\"].apply(string_to_array)\n",
    "\n",
    "data2.head()"
   ]
  },
  {
   "cell_type": "code",
   "execution_count": 17,
   "metadata": {},
   "outputs": [
    {
     "data": {
      "text/html": [
       "<div>\n",
       "<style scoped>\n",
       "    .dataframe tbody tr th:only-of-type {\n",
       "        vertical-align: middle;\n",
       "    }\n",
       "\n",
       "    .dataframe tbody tr th {\n",
       "        vertical-align: top;\n",
       "    }\n",
       "\n",
       "    .dataframe thead th {\n",
       "        text-align: right;\n",
       "    }\n",
       "</style>\n",
       "<table border=\"1\" class=\"dataframe\">\n",
       "  <thead>\n",
       "    <tr style=\"text-align: right;\">\n",
       "      <th></th>\n",
       "      <th>0</th>\n",
       "      <th>1</th>\n",
       "      <th>2</th>\n",
       "      <th>3</th>\n",
       "      <th>4</th>\n",
       "      <th>5</th>\n",
       "      <th>6</th>\n",
       "      <th>7</th>\n",
       "      <th>8</th>\n",
       "      <th>9</th>\n",
       "      <th>...</th>\n",
       "      <th>50</th>\n",
       "      <th>51</th>\n",
       "      <th>52</th>\n",
       "      <th>53</th>\n",
       "      <th>54</th>\n",
       "      <th>55</th>\n",
       "      <th>56</th>\n",
       "      <th>57</th>\n",
       "      <th>58</th>\n",
       "      <th>59</th>\n",
       "    </tr>\n",
       "  </thead>\n",
       "  <tbody>\n",
       "    <tr>\n",
       "      <th>0</th>\n",
       "      <td>0.50</td>\n",
       "      <td>0.50</td>\n",
       "      <td>0.25</td>\n",
       "      <td>0.75</td>\n",
       "      <td>0.50</td>\n",
       "      <td>1.00</td>\n",
       "      <td>0.75</td>\n",
       "      <td>0.50</td>\n",
       "      <td>0.25</td>\n",
       "      <td>1.00</td>\n",
       "      <td>...</td>\n",
       "      <td>0.25</td>\n",
       "      <td>0.75</td>\n",
       "      <td>0.50</td>\n",
       "      <td>0.50</td>\n",
       "      <td>0.25</td>\n",
       "      <td>0.75</td>\n",
       "      <td>1.00</td>\n",
       "      <td>0.50</td>\n",
       "      <td>1.00</td>\n",
       "      <td>0.75</td>\n",
       "    </tr>\n",
       "    <tr>\n",
       "      <th>1</th>\n",
       "      <td>0.25</td>\n",
       "      <td>0.75</td>\n",
       "      <td>0.25</td>\n",
       "      <td>0.50</td>\n",
       "      <td>0.50</td>\n",
       "      <td>0.50</td>\n",
       "      <td>0.75</td>\n",
       "      <td>0.50</td>\n",
       "      <td>0.50</td>\n",
       "      <td>0.75</td>\n",
       "      <td>...</td>\n",
       "      <td>0.75</td>\n",
       "      <td>1.00</td>\n",
       "      <td>0.75</td>\n",
       "      <td>0.50</td>\n",
       "      <td>0.50</td>\n",
       "      <td>0.50</td>\n",
       "      <td>0.50</td>\n",
       "      <td>0.50</td>\n",
       "      <td>0.75</td>\n",
       "      <td>0.50</td>\n",
       "    </tr>\n",
       "    <tr>\n",
       "      <th>2</th>\n",
       "      <td>0.75</td>\n",
       "      <td>0.25</td>\n",
       "      <td>0.75</td>\n",
       "      <td>0.75</td>\n",
       "      <td>1.00</td>\n",
       "      <td>0.75</td>\n",
       "      <td>0.25</td>\n",
       "      <td>0.25</td>\n",
       "      <td>0.75</td>\n",
       "      <td>0.75</td>\n",
       "      <td>...</td>\n",
       "      <td>0.50</td>\n",
       "      <td>0.25</td>\n",
       "      <td>0.50</td>\n",
       "      <td>0.75</td>\n",
       "      <td>0.75</td>\n",
       "      <td>0.75</td>\n",
       "      <td>0.75</td>\n",
       "      <td>0.25</td>\n",
       "      <td>1.00</td>\n",
       "      <td>0.75</td>\n",
       "    </tr>\n",
       "    <tr>\n",
       "      <th>3</th>\n",
       "      <td>0.75</td>\n",
       "      <td>0.75</td>\n",
       "      <td>0.75</td>\n",
       "      <td>0.50</td>\n",
       "      <td>1.00</td>\n",
       "      <td>0.75</td>\n",
       "      <td>0.50</td>\n",
       "      <td>0.75</td>\n",
       "      <td>1.00</td>\n",
       "      <td>1.00</td>\n",
       "      <td>...</td>\n",
       "      <td>0.75</td>\n",
       "      <td>0.75</td>\n",
       "      <td>1.00</td>\n",
       "      <td>1.00</td>\n",
       "      <td>1.00</td>\n",
       "      <td>1.00</td>\n",
       "      <td>0.50</td>\n",
       "      <td>0.50</td>\n",
       "      <td>0.50</td>\n",
       "      <td>0.50</td>\n",
       "    </tr>\n",
       "    <tr>\n",
       "      <th>4</th>\n",
       "      <td>0.75</td>\n",
       "      <td>0.50</td>\n",
       "      <td>1.00</td>\n",
       "      <td>0.50</td>\n",
       "      <td>0.25</td>\n",
       "      <td>0.75</td>\n",
       "      <td>0.50</td>\n",
       "      <td>0.50</td>\n",
       "      <td>0.50</td>\n",
       "      <td>0.50</td>\n",
       "      <td>...</td>\n",
       "      <td>0.50</td>\n",
       "      <td>0.50</td>\n",
       "      <td>1.00</td>\n",
       "      <td>1.00</td>\n",
       "      <td>0.75</td>\n",
       "      <td>0.25</td>\n",
       "      <td>0.50</td>\n",
       "      <td>0.50</td>\n",
       "      <td>0.50</td>\n",
       "      <td>1.00</td>\n",
       "    </tr>\n",
       "  </tbody>\n",
       "</table>\n",
       "<p>5 rows × 60 columns</p>\n",
       "</div>"
      ],
      "text/plain": [
       "     0     1     2     3     4     5     6     7     8     9   ...     50  \\\n",
       "0  0.50  0.50  0.25  0.75  0.50  1.00  0.75  0.50  0.25  1.00  ...   0.25   \n",
       "1  0.25  0.75  0.25  0.50  0.50  0.50  0.75  0.50  0.50  0.75  ...   0.75   \n",
       "2  0.75  0.25  0.75  0.75  1.00  0.75  0.25  0.25  0.75  0.75  ...   0.50   \n",
       "3  0.75  0.75  0.75  0.50  1.00  0.75  0.50  0.75  1.00  1.00  ...   0.75   \n",
       "4  0.75  0.50  1.00  0.50  0.25  0.75  0.50  0.50  0.50  0.50  ...   0.50   \n",
       "\n",
       "     51    52    53    54    55    56    57    58    59  \n",
       "0  0.75  0.50  0.50  0.25  0.75  1.00  0.50  1.00  0.75  \n",
       "1  1.00  0.75  0.50  0.50  0.50  0.50  0.50  0.75  0.50  \n",
       "2  0.25  0.50  0.75  0.75  0.75  0.75  0.25  1.00  0.75  \n",
       "3  0.75  1.00  1.00  1.00  1.00  0.50  0.50  0.50  0.50  \n",
       "4  0.50  1.00  1.00  0.75  0.25  0.50  0.50  0.50  1.00  \n",
       "\n",
       "[5 rows x 60 columns]"
      ]
     },
     "execution_count": 17,
     "metadata": {},
     "output_type": "execute_result"
    }
   ],
   "source": [
    "#for each array index create a column\n",
    "OHEdata= data2.sequence.apply(pd.Series, index=list(range(0,60)))\n",
    "\n",
    "data2[\"sequence\"]= data2[\"sequence\"].apply(ordinal_encoder) \n",
    "#comment out for the case of label encoding\n",
    "\n",
    "labeldata= data2.sequence.apply(pd.Series, index=list(range(0,60)))\n",
    "\n",
    "labeldata.head()"
   ]
  },
  {
   "cell_type": "markdown",
   "metadata": {},
   "source": [
    "# **Label encoded data were tested\n",
    "\n",
    "*__OneHot encoded dummy data performed better in classification tasks both for ML and DL__*\n",
    "\n",
    "---"
   ]
  },
  {
   "cell_type": "code",
   "execution_count": 18,
   "metadata": {},
   "outputs": [],
   "source": [
    "\n",
    "col = [OHEdata.columns]\n",
    "dummy= dummy_data(OHEdata, col)\n",
    "#make a dummy onehot encoded dataset\n",
    "\n",
    "dummy[\"label\"]=data[\"label\"]\n",
    "\n"
   ]
  },
  {
   "cell_type": "code",
   "execution_count": 19,
   "metadata": {},
   "outputs": [
    {
     "data": {
      "text/html": [
       "<div>\n",
       "<style scoped>\n",
       "    .dataframe tbody tr th:only-of-type {\n",
       "        vertical-align: middle;\n",
       "    }\n",
       "\n",
       "    .dataframe tbody tr th {\n",
       "        vertical-align: top;\n",
       "    }\n",
       "\n",
       "    .dataframe thead th {\n",
       "        text-align: right;\n",
       "    }\n",
       "</style>\n",
       "<table border=\"1\" class=\"dataframe\">\n",
       "  <thead>\n",
       "    <tr style=\"text-align: right;\">\n",
       "      <th></th>\n",
       "      <th>0_A</th>\n",
       "      <th>0_C</th>\n",
       "      <th>0_G</th>\n",
       "      <th>0_T</th>\n",
       "      <th>0_Z</th>\n",
       "      <th>1_A</th>\n",
       "      <th>1_C</th>\n",
       "      <th>1_G</th>\n",
       "      <th>1_T</th>\n",
       "      <th>1_Z</th>\n",
       "      <th>...</th>\n",
       "      <th>58_C</th>\n",
       "      <th>58_G</th>\n",
       "      <th>58_T</th>\n",
       "      <th>58_Z</th>\n",
       "      <th>59_A</th>\n",
       "      <th>59_C</th>\n",
       "      <th>59_G</th>\n",
       "      <th>59_T</th>\n",
       "      <th>59_Z</th>\n",
       "      <th>label</th>\n",
       "    </tr>\n",
       "  </thead>\n",
       "  <tbody>\n",
       "    <tr>\n",
       "      <th>0</th>\n",
       "      <td>0</td>\n",
       "      <td>1</td>\n",
       "      <td>0</td>\n",
       "      <td>0</td>\n",
       "      <td>0</td>\n",
       "      <td>0</td>\n",
       "      <td>1</td>\n",
       "      <td>0</td>\n",
       "      <td>0</td>\n",
       "      <td>0</td>\n",
       "      <td>...</td>\n",
       "      <td>0</td>\n",
       "      <td>0</td>\n",
       "      <td>1</td>\n",
       "      <td>0</td>\n",
       "      <td>0</td>\n",
       "      <td>0</td>\n",
       "      <td>1</td>\n",
       "      <td>0</td>\n",
       "      <td>0</td>\n",
       "      <td>EI</td>\n",
       "    </tr>\n",
       "    <tr>\n",
       "      <th>1</th>\n",
       "      <td>1</td>\n",
       "      <td>0</td>\n",
       "      <td>0</td>\n",
       "      <td>0</td>\n",
       "      <td>0</td>\n",
       "      <td>0</td>\n",
       "      <td>0</td>\n",
       "      <td>1</td>\n",
       "      <td>0</td>\n",
       "      <td>0</td>\n",
       "      <td>...</td>\n",
       "      <td>0</td>\n",
       "      <td>1</td>\n",
       "      <td>0</td>\n",
       "      <td>0</td>\n",
       "      <td>0</td>\n",
       "      <td>1</td>\n",
       "      <td>0</td>\n",
       "      <td>0</td>\n",
       "      <td>0</td>\n",
       "      <td>EI</td>\n",
       "    </tr>\n",
       "    <tr>\n",
       "      <th>2</th>\n",
       "      <td>0</td>\n",
       "      <td>0</td>\n",
       "      <td>1</td>\n",
       "      <td>0</td>\n",
       "      <td>0</td>\n",
       "      <td>1</td>\n",
       "      <td>0</td>\n",
       "      <td>0</td>\n",
       "      <td>0</td>\n",
       "      <td>0</td>\n",
       "      <td>...</td>\n",
       "      <td>0</td>\n",
       "      <td>0</td>\n",
       "      <td>1</td>\n",
       "      <td>0</td>\n",
       "      <td>0</td>\n",
       "      <td>0</td>\n",
       "      <td>1</td>\n",
       "      <td>0</td>\n",
       "      <td>0</td>\n",
       "      <td>EI</td>\n",
       "    </tr>\n",
       "    <tr>\n",
       "      <th>3</th>\n",
       "      <td>0</td>\n",
       "      <td>0</td>\n",
       "      <td>1</td>\n",
       "      <td>0</td>\n",
       "      <td>0</td>\n",
       "      <td>0</td>\n",
       "      <td>0</td>\n",
       "      <td>1</td>\n",
       "      <td>0</td>\n",
       "      <td>0</td>\n",
       "      <td>...</td>\n",
       "      <td>1</td>\n",
       "      <td>0</td>\n",
       "      <td>0</td>\n",
       "      <td>0</td>\n",
       "      <td>0</td>\n",
       "      <td>1</td>\n",
       "      <td>0</td>\n",
       "      <td>0</td>\n",
       "      <td>0</td>\n",
       "      <td>EI</td>\n",
       "    </tr>\n",
       "    <tr>\n",
       "      <th>4</th>\n",
       "      <td>0</td>\n",
       "      <td>0</td>\n",
       "      <td>1</td>\n",
       "      <td>0</td>\n",
       "      <td>0</td>\n",
       "      <td>0</td>\n",
       "      <td>1</td>\n",
       "      <td>0</td>\n",
       "      <td>0</td>\n",
       "      <td>0</td>\n",
       "      <td>...</td>\n",
       "      <td>1</td>\n",
       "      <td>0</td>\n",
       "      <td>0</td>\n",
       "      <td>0</td>\n",
       "      <td>0</td>\n",
       "      <td>0</td>\n",
       "      <td>0</td>\n",
       "      <td>1</td>\n",
       "      <td>0</td>\n",
       "      <td>EI</td>\n",
       "    </tr>\n",
       "  </tbody>\n",
       "</table>\n",
       "<p>5 rows × 286 columns</p>\n",
       "</div>"
      ],
      "text/plain": [
       "   0_A  0_C  0_G  0_T  0_Z  1_A  1_C  1_G  1_T  1_Z  ...    58_C  58_G  58_T  \\\n",
       "0    0    1    0    0    0    0    1    0    0    0  ...       0     0     1   \n",
       "1    1    0    0    0    0    0    0    1    0    0  ...       0     1     0   \n",
       "2    0    0    1    0    0    1    0    0    0    0  ...       0     0     1   \n",
       "3    0    0    1    0    0    0    0    1    0    0  ...       1     0     0   \n",
       "4    0    0    1    0    0    0    1    0    0    0  ...       1     0     0   \n",
       "\n",
       "   58_Z  59_A  59_C  59_G  59_T  59_Z  label  \n",
       "0     0     0     0     1     0     0     EI  \n",
       "1     0     0     1     0     0     0     EI  \n",
       "2     0     0     0     1     0     0     EI  \n",
       "3     0     0     1     0     0     0     EI  \n",
       "4     0     0     0     0     1     0     EI  \n",
       "\n",
       "[5 rows x 286 columns]"
      ]
     },
     "execution_count": 19,
     "metadata": {},
     "output_type": "execute_result"
    }
   ],
   "source": [
    "dummy.head()"
   ]
  },
  {
   "cell_type": "code",
   "execution_count": 20,
   "metadata": {},
   "outputs": [
    {
     "data": {
      "text/html": [
       "<div>\n",
       "<style scoped>\n",
       "    .dataframe tbody tr th:only-of-type {\n",
       "        vertical-align: middle;\n",
       "    }\n",
       "\n",
       "    .dataframe tbody tr th {\n",
       "        vertical-align: top;\n",
       "    }\n",
       "\n",
       "    .dataframe thead th {\n",
       "        text-align: right;\n",
       "    }\n",
       "</style>\n",
       "<table border=\"1\" class=\"dataframe\">\n",
       "  <thead>\n",
       "    <tr style=\"text-align: right;\">\n",
       "      <th></th>\n",
       "      <th>0</th>\n",
       "      <th>1</th>\n",
       "      <th>2</th>\n",
       "      <th>3</th>\n",
       "      <th>4</th>\n",
       "      <th>5</th>\n",
       "      <th>6</th>\n",
       "      <th>7</th>\n",
       "      <th>8</th>\n",
       "      <th>9</th>\n",
       "      <th>...</th>\n",
       "      <th>51</th>\n",
       "      <th>52</th>\n",
       "      <th>53</th>\n",
       "      <th>54</th>\n",
       "      <th>55</th>\n",
       "      <th>56</th>\n",
       "      <th>57</th>\n",
       "      <th>58</th>\n",
       "      <th>59</th>\n",
       "      <th>label</th>\n",
       "    </tr>\n",
       "  </thead>\n",
       "  <tbody>\n",
       "    <tr>\n",
       "      <th>0</th>\n",
       "      <td>0.50</td>\n",
       "      <td>0.50</td>\n",
       "      <td>0.25</td>\n",
       "      <td>0.75</td>\n",
       "      <td>0.50</td>\n",
       "      <td>1.00</td>\n",
       "      <td>0.75</td>\n",
       "      <td>0.50</td>\n",
       "      <td>0.25</td>\n",
       "      <td>1.00</td>\n",
       "      <td>...</td>\n",
       "      <td>0.75</td>\n",
       "      <td>0.50</td>\n",
       "      <td>0.50</td>\n",
       "      <td>0.25</td>\n",
       "      <td>0.75</td>\n",
       "      <td>1.00</td>\n",
       "      <td>0.50</td>\n",
       "      <td>1.00</td>\n",
       "      <td>0.75</td>\n",
       "      <td>EI</td>\n",
       "    </tr>\n",
       "    <tr>\n",
       "      <th>1</th>\n",
       "      <td>0.25</td>\n",
       "      <td>0.75</td>\n",
       "      <td>0.25</td>\n",
       "      <td>0.50</td>\n",
       "      <td>0.50</td>\n",
       "      <td>0.50</td>\n",
       "      <td>0.75</td>\n",
       "      <td>0.50</td>\n",
       "      <td>0.50</td>\n",
       "      <td>0.75</td>\n",
       "      <td>...</td>\n",
       "      <td>1.00</td>\n",
       "      <td>0.75</td>\n",
       "      <td>0.50</td>\n",
       "      <td>0.50</td>\n",
       "      <td>0.50</td>\n",
       "      <td>0.50</td>\n",
       "      <td>0.50</td>\n",
       "      <td>0.75</td>\n",
       "      <td>0.50</td>\n",
       "      <td>EI</td>\n",
       "    </tr>\n",
       "    <tr>\n",
       "      <th>2</th>\n",
       "      <td>0.75</td>\n",
       "      <td>0.25</td>\n",
       "      <td>0.75</td>\n",
       "      <td>0.75</td>\n",
       "      <td>1.00</td>\n",
       "      <td>0.75</td>\n",
       "      <td>0.25</td>\n",
       "      <td>0.25</td>\n",
       "      <td>0.75</td>\n",
       "      <td>0.75</td>\n",
       "      <td>...</td>\n",
       "      <td>0.25</td>\n",
       "      <td>0.50</td>\n",
       "      <td>0.75</td>\n",
       "      <td>0.75</td>\n",
       "      <td>0.75</td>\n",
       "      <td>0.75</td>\n",
       "      <td>0.25</td>\n",
       "      <td>1.00</td>\n",
       "      <td>0.75</td>\n",
       "      <td>EI</td>\n",
       "    </tr>\n",
       "    <tr>\n",
       "      <th>3</th>\n",
       "      <td>0.75</td>\n",
       "      <td>0.75</td>\n",
       "      <td>0.75</td>\n",
       "      <td>0.50</td>\n",
       "      <td>1.00</td>\n",
       "      <td>0.75</td>\n",
       "      <td>0.50</td>\n",
       "      <td>0.75</td>\n",
       "      <td>1.00</td>\n",
       "      <td>1.00</td>\n",
       "      <td>...</td>\n",
       "      <td>0.75</td>\n",
       "      <td>1.00</td>\n",
       "      <td>1.00</td>\n",
       "      <td>1.00</td>\n",
       "      <td>1.00</td>\n",
       "      <td>0.50</td>\n",
       "      <td>0.50</td>\n",
       "      <td>0.50</td>\n",
       "      <td>0.50</td>\n",
       "      <td>EI</td>\n",
       "    </tr>\n",
       "    <tr>\n",
       "      <th>4</th>\n",
       "      <td>0.75</td>\n",
       "      <td>0.50</td>\n",
       "      <td>1.00</td>\n",
       "      <td>0.50</td>\n",
       "      <td>0.25</td>\n",
       "      <td>0.75</td>\n",
       "      <td>0.50</td>\n",
       "      <td>0.50</td>\n",
       "      <td>0.50</td>\n",
       "      <td>0.50</td>\n",
       "      <td>...</td>\n",
       "      <td>0.50</td>\n",
       "      <td>1.00</td>\n",
       "      <td>1.00</td>\n",
       "      <td>0.75</td>\n",
       "      <td>0.25</td>\n",
       "      <td>0.50</td>\n",
       "      <td>0.50</td>\n",
       "      <td>0.50</td>\n",
       "      <td>1.00</td>\n",
       "      <td>EI</td>\n",
       "    </tr>\n",
       "  </tbody>\n",
       "</table>\n",
       "<p>5 rows × 61 columns</p>\n",
       "</div>"
      ],
      "text/plain": [
       "      0     1     2     3     4     5     6     7     8     9  ...      51  \\\n",
       "0  0.50  0.50  0.25  0.75  0.50  1.00  0.75  0.50  0.25  1.00  ...    0.75   \n",
       "1  0.25  0.75  0.25  0.50  0.50  0.50  0.75  0.50  0.50  0.75  ...    1.00   \n",
       "2  0.75  0.25  0.75  0.75  1.00  0.75  0.25  0.25  0.75  0.75  ...    0.25   \n",
       "3  0.75  0.75  0.75  0.50  1.00  0.75  0.50  0.75  1.00  1.00  ...    0.75   \n",
       "4  0.75  0.50  1.00  0.50  0.25  0.75  0.50  0.50  0.50  0.50  ...    0.50   \n",
       "\n",
       "     52    53    54    55    56    57    58    59  label  \n",
       "0  0.50  0.50  0.25  0.75  1.00  0.50  1.00  0.75     EI  \n",
       "1  0.75  0.50  0.50  0.50  0.50  0.50  0.75  0.50     EI  \n",
       "2  0.50  0.75  0.75  0.75  0.75  0.25  1.00  0.75     EI  \n",
       "3  1.00  1.00  1.00  1.00  0.50  0.50  0.50  0.50     EI  \n",
       "4  1.00  1.00  0.75  0.25  0.50  0.50  0.50  1.00     EI  \n",
       "\n",
       "[5 rows x 61 columns]"
      ]
     },
     "execution_count": 20,
     "metadata": {},
     "output_type": "execute_result"
    }
   ],
   "source": [
    "labeldata[\"label\"]=data2[\"label\"]\n",
    "labeldata.head()"
   ]
  },
  {
   "cell_type": "code",
   "execution_count": 21,
   "metadata": {},
   "outputs": [
    {
     "data": {
      "text/plain": [
       "(3190, 286)"
      ]
     },
     "execution_count": 21,
     "metadata": {},
     "output_type": "execute_result"
    }
   ],
   "source": [
    "dummy.shape"
   ]
  },
  {
   "cell_type": "code",
   "execution_count": 22,
   "metadata": {},
   "outputs": [
    {
     "name": "stdout",
     "output_type": "stream",
     "text": [
      "(3190, 285)\n",
      "(3190,)\n"
     ]
    }
   ],
   "source": [
    "\n",
    "X = dummy.drop(['label'], axis = 1)\n",
    "y = dummy['label']\n",
    "\n",
    "# X = labeldata.drop(['label'], axis = 1)\n",
    "# y = labeldata['label']\n",
    "\n",
    "print(X.shape)\n",
    "print(y.shape)"
   ]
  },
  {
   "cell_type": "code",
   "execution_count": 23,
   "metadata": {},
   "outputs": [
    {
     "name": "stdout",
     "output_type": "stream",
     "text": [
      "      0_A  0_C  0_G  0_T  0_Z  1_A  1_C  1_G  1_T  1_Z  ...   58_A  58_C  \\\n",
      "533     0    0    1    0    0    0    0    1    0    0  ...      0     1   \n",
      "1937    0    0    1    0    0    0    1    0    0    0  ...      0     1   \n",
      "2609    1    0    0    0    0    0    0    0    1    0  ...      0     0   \n",
      "2307    1    0    0    0    0    0    0    1    0    0  ...      0     1   \n",
      "2509    0    1    0    0    0    0    0    1    0    0  ...      0     0   \n",
      "\n",
      "      58_G  58_T  58_Z  59_A  59_C  59_G  59_T  59_Z  \n",
      "533      0     0     0     0     0     0     1     0  \n",
      "1937     0     0     0     0     1     0     0     0  \n",
      "2609     0     1     0     0     0     0     1     0  \n",
      "2307     0     0     0     1     0     0     0     0  \n",
      "2509     0     1     0     0     0     0     1     0  \n",
      "\n",
      "[5 rows x 285 columns]\n"
     ]
    }
   ],
   "source": [
    "\n",
    "\n",
    "X_train, X_test, y_train, y_test = train_test_split(X, y, test_size=0.20, random_state = 42)\n",
    "\n",
    "print(X_train[0:5])"
   ]
  },
  {
   "cell_type": "code",
   "execution_count": 24,
   "metadata": {
    "scrolled": true
   },
   "outputs": [
    {
     "name": "stdout",
     "output_type": "stream",
     "text": [
      "Train on 2041 samples, validate on 511 samples\n",
      "Epoch 1/200\n",
      "2041/2041 [==============================] - 0s 153us/step - loss: 0.7520 - acc: 0.6703 - val_loss: 0.3532 - val_acc: 0.9041\n",
      "Epoch 2/200\n",
      "2041/2041 [==============================] - 0s 53us/step - loss: 0.3052 - acc: 0.8956 - val_loss: 0.1966 - val_acc: 0.9491\n",
      "Epoch 3/200\n",
      "2041/2041 [==============================] - 0s 48us/step - loss: 0.1906 - acc: 0.9358 - val_loss: 0.1654 - val_acc: 0.9491\n",
      "Epoch 4/200\n",
      "2041/2041 [==============================] - 0s 46us/step - loss: 0.1445 - acc: 0.9559 - val_loss: 0.1572 - val_acc: 0.9413\n",
      "Epoch 5/200\n",
      "2041/2041 [==============================] - 0s 45us/step - loss: 0.1331 - acc: 0.9579 - val_loss: 0.1502 - val_acc: 0.9452\n",
      "Epoch 6/200\n",
      "2041/2041 [==============================] - 0s 45us/step - loss: 0.1112 - acc: 0.9672 - val_loss: 0.1566 - val_acc: 0.9452\n",
      "Epoch 7/200\n",
      "2041/2041 [==============================] - 0s 50us/step - loss: 0.0814 - acc: 0.9731 - val_loss: 0.1540 - val_acc: 0.9491\n",
      "Epoch 8/200\n",
      "2041/2041 [==============================] - 0s 46us/step - loss: 0.0699 - acc: 0.9833 - val_loss: 0.1594 - val_acc: 0.9413\n",
      "Epoch 9/200\n",
      "2041/2041 [==============================] - 0s 45us/step - loss: 0.0643 - acc: 0.9848 - val_loss: 0.1583 - val_acc: 0.9452\n",
      "Epoch 10/200\n",
      "2041/2041 [==============================] - 0s 48us/step - loss: 0.0581 - acc: 0.9838 - val_loss: 0.1590 - val_acc: 0.9491\n",
      "Epoch 11/200\n",
      "2041/2041 [==============================] - 0s 46us/step - loss: 0.0494 - acc: 0.9863 - val_loss: 0.1755 - val_acc: 0.9393\n",
      "Epoch 12/200\n",
      "2041/2041 [==============================] - 0s 47us/step - loss: 0.0433 - acc: 0.9878 - val_loss: 0.1883 - val_acc: 0.9374\n",
      "Epoch 13/200\n",
      "2041/2041 [==============================] - 0s 44us/step - loss: 0.0358 - acc: 0.9897 - val_loss: 0.1765 - val_acc: 0.9413\n",
      "Epoch 14/200\n",
      "2041/2041 [==============================] - 0s 44us/step - loss: 0.0381 - acc: 0.9878 - val_loss: 0.1967 - val_acc: 0.9354\n",
      "Epoch 15/200\n",
      "2041/2041 [==============================] - 0s 44us/step - loss: 0.0314 - acc: 0.9927 - val_loss: 0.1848 - val_acc: 0.9432\n",
      "Epoch 16/200\n",
      "2041/2041 [==============================] - 0s 45us/step - loss: 0.0291 - acc: 0.9936 - val_loss: 0.1964 - val_acc: 0.9374\n",
      "Epoch 17/200\n",
      "2041/2041 [==============================] - 0s 43us/step - loss: 0.0260 - acc: 0.9951 - val_loss: 0.2027 - val_acc: 0.9393\n",
      "Epoch 18/200\n",
      "2041/2041 [==============================] - 0s 43us/step - loss: 0.0247 - acc: 0.9922 - val_loss: 0.1963 - val_acc: 0.9374\n",
      "Epoch 19/200\n",
      "2041/2041 [==============================] - 0s 44us/step - loss: 0.0182 - acc: 0.9966 - val_loss: 0.2154 - val_acc: 0.9413\n",
      "Epoch 20/200\n",
      "2041/2041 [==============================] - 0s 43us/step - loss: 0.0154 - acc: 0.9966 - val_loss: 0.2117 - val_acc: 0.9393\n",
      "Epoch 21/200\n",
      "2041/2041 [==============================] - 0s 47us/step - loss: 0.0148 - acc: 0.9980 - val_loss: 0.2093 - val_acc: 0.9413\n",
      "Epoch 22/200\n",
      "2041/2041 [==============================] - 0s 46us/step - loss: 0.0175 - acc: 0.9971 - val_loss: 0.2174 - val_acc: 0.9374\n",
      "Epoch 23/200\n",
      "2041/2041 [==============================] - 0s 44us/step - loss: 0.0192 - acc: 0.9931 - val_loss: 0.2212 - val_acc: 0.9393\n",
      "Epoch 24/200\n",
      "2041/2041 [==============================] - 0s 47us/step - loss: 0.0139 - acc: 0.9976 - val_loss: 0.2194 - val_acc: 0.9432\n",
      "Epoch 25/200\n",
      "2041/2041 [==============================] - 0s 43us/step - loss: 0.0121 - acc: 0.9976 - val_loss: 0.2295 - val_acc: 0.9374\n",
      "Epoch 00025: early stopping\n",
      "638/638 [==============================] - 0s 38us/step\n"
     ]
    }
   ],
   "source": [
    "from keras.callbacks import EarlyStopping\n",
    "\n",
    "def create_model():\n",
    "    # create model\n",
    "    model = Sequential()\n",
    "    model.add(Dense(120,input_dim=X.shape[1], activation='relu'))\n",
    "    model.add(Dropout(0.5))\n",
    "    #model.add(Dense(150, activation='relu'))\n",
    "    #model.add(Dropout(0.2))\n",
    "    #odel.add(Dense(10, activation='relu'))\n",
    "    #odel.add(Dropout(0.5))\n",
    "    model.add(Dense(3, activation='softmax'))\n",
    "    # Compile model\n",
    "    model.compile(loss='categorical_crossentropy', optimizer='adam', metrics=['accuracy'])\n",
    "    return model\n",
    "\n",
    "monitor = EarlyStopping(monitor ='val_loss' , mode ='auto', patience=20, verbose=1 )\n",
    "callbacks=[monitor]\n",
    "#to avoid overfitting, set an early stopping criteria for the model\n",
    "\n",
    "\n",
    "estimator = KerasClassifier(build_fn=create_model, epochs = 200, batch_size= 20, verbose=1, callbacks=callbacks, validation_split=0.20)\n",
    "\n",
    "estimator.fit(X_train, y_train)\n",
    "\n",
    "y_pred = estimator.predict(X_test)\n",
    "\n"
   ]
  },
  {
   "cell_type": "markdown",
   "metadata": {},
   "source": [
    "---\n",
    "\n",
    "### Number of hidden layer node and number of Hidden layers were not closely related to the output of the results of classification \n",
    "\n",
    "## 1. To avoid overfitting there the validation loss was chosen as a threshold for epochs\n",
    "## 2. dropout was also set to avoid overfitting\n",
    "\n",
    "\n",
    "---"
   ]
  },
  {
   "cell_type": "code",
   "execution_count": 25,
   "metadata": {},
   "outputs": [],
   "source": [
    "def ploting(cm, classes,\n",
    "                    normalize=False,\n",
    "                    title='Confusion matrix',\n",
    "                    cmap=plt.cm.Blues):\n",
    "    \"\"\"\n",
    "    This inner function plots the confusion matrix.\n",
    "    Normalization can be applied by setting `normalize=True`.\n",
    "\n",
    "    :param: cm/ConfusionMatrixo object, normalize=true/false, title=(str) , cmap= plt.cm.Blues ( color )\n",
    "    :return: None\n",
    "    \"\"\"\n",
    "    if normalize:\n",
    "        cm = cm.astype('float') / cm.sum(axis=1)[:, np.newaxis]\n",
    "        print(\"Normalized confusion matrix\")\n",
    "    else:\n",
    "        print('Confusion matrix, without normalization')\n",
    "\n",
    "    print(cm)\n",
    "\n",
    "    plt.imshow(cm, interpolation='nearest', cmap=cmap)\n",
    "    plt.title(title)\n",
    "    plt.colorbar()\n",
    "    tick_marks = np.arange(len(classes))\n",
    "    plt.xticks(tick_marks, classes, rotation=45)\n",
    "    plt.yticks(tick_marks, classes)\n",
    "\n",
    "    fmt = '.2f' if normalize else 'd'\n",
    "    thresh = cm.max() / 2.\n",
    "    for i, j in itertools.product(range(cm.shape[0]), range(cm.shape[1])):\n",
    "        plt.text(j, i, format(cm[i, j], fmt),\n",
    "                    horizontalalignment=\"center\",\n",
    "                    color=\"white\" if cm[i, j] > thresh else \"black\")\n",
    "\n",
    "    plt.ylabel('True label')\n",
    "    plt.xlabel('Predicted label')\n",
    "    plt.tight_layout()\n",
    "\n",
    "def confusion(y_pred):\n",
    "\n",
    "    # Compute confusion matrix\n",
    "    cnf_matrix = confusion_matrix(y_test, y_pred)\n",
    "    np.set_printoptions(precision=2)\n",
    "\n",
    "    # Plot non-normalized confusion matrix\n",
    "    plt.figure()\n",
    "    ploting(cnf_matrix, classes=dummy[\"label\"].unique(),\n",
    "                            title='Confusion matrix, without normalization')\n",
    "\n",
    "    # Plot normalized confusion matrix\n",
    "    plt.figure()\n",
    "    ploting(cnf_matrix, classes=dummy[\"label\"].unique(), normalize=True,\n",
    "                            title='Normalized confusion matrix')\n",
    "\n",
    "    plt.show()"
   ]
  },
  {
   "cell_type": "code",
   "execution_count": 26,
   "metadata": {},
   "outputs": [
    {
     "name": "stdout",
     "output_type": "stream",
     "text": [
      "FeedForward Neural network Accuracy:  0.9498432601880877\n",
      "              precision    recall  f1-score   support\n",
      "\n",
      "          EI       0.92      0.96      0.94       179\n",
      "          IE       0.93      0.92      0.92       140\n",
      "           N       0.97      0.96      0.97       319\n",
      "\n",
      "   micro avg       0.95      0.95      0.95       638\n",
      "   macro avg       0.94      0.95      0.94       638\n",
      "weighted avg       0.95      0.95      0.95       638\n",
      "\n",
      "Confusion matrix, without normalization\n",
      "[[172   4   3]\n",
      " [  6 129   5]\n",
      " [  8   6 305]]\n",
      "Normalized confusion matrix\n",
      "[[0.96 0.02 0.02]\n",
      " [0.04 0.92 0.04]\n",
      " [0.03 0.02 0.96]]\n"
     ]
    },
    {
     "data": {
      "image/png": "[encoded data removed]",
      "text/plain": [
       "<Figure size 432x288 with 2 Axes>"
      ]
     },
     "metadata": {
      "needs_background": "light"
     },
     "output_type": "display_data"
    },
    {
     "data": {
      "image/png": "[encoded data removed]",
      "text/plain": [
       "<Figure size 432x288 with 2 Axes>"
      ]
     },
     "metadata": {
      "needs_background": "light"
     },
     "output_type": "display_data"
    }
   ],
   "source": [
    "accuracy = accuracy_score(y_test, y_pred)\n",
    "print(\"FeedForward Neural network Accuracy: \" , accuracy)\n",
    "\n",
    "#classification report for each label\n",
    "print(classification_report(y_test, y_pred))\n",
    "\n",
    "confusion(y_pred)"
   ]
  },
  {
   "cell_type": "markdown",
   "metadata": {},
   "source": [
    "### Confusion matrix visualizes the classication errors and accuracy\n",
    "\n",
    "---"
   ]
  },
  {
   "cell_type": "code",
   "execution_count": 27,
   "metadata": {},
   "outputs": [],
   "source": [
    "# kfold = KFold(n_splits=10, shuffle=True, random_state=42)\n",
    "# results = cross_val_score(estimator, X_train, y_train, cv=kfold)\n",
    "# print(\"Baseline: %.2f%% (%.2f%%)\" % (results.mean()*100, results.std()*100))\n",
    "# accuracy = accuracy_score(y_test, results)\n",
    "# print(\"Crossvalidation Accuracy: \" , accuracy)\n"
   ]
  },
  {
   "cell_type": "code",
   "execution_count": 28,
   "metadata": {},
   "outputs": [
    {
     "name": "stdout",
     "output_type": "stream",
     "text": [
      "k_neighbor Accuracy:  0.9278996865203761\n",
      "              precision    recall  f1-score   support\n",
      "\n",
      "          EI       0.94      0.88      0.91       179\n",
      "          IE       0.88      0.93      0.90       140\n",
      "           N       0.94      0.95      0.95       319\n",
      "\n",
      "   micro avg       0.93      0.93      0.93       638\n",
      "   macro avg       0.92      0.92      0.92       638\n",
      "weighted avg       0.93      0.93      0.93       638\n",
      "\n",
      "Confusion matrix, without normalization\n",
      "[[158   9  12]\n",
      " [  4 130   6]\n",
      " [  6   9 304]]\n",
      "Normalized confusion matrix\n",
      "[[0.88 0.05 0.07]\n",
      " [0.03 0.93 0.04]\n",
      " [0.02 0.03 0.95]]\n"
     ]
    },
    {
     "data": {
      "image/png": "[encoded data removed]",
      "text/plain": [
       "<Figure size 432x288 with 2 Axes>"
      ]
     },
     "metadata": {
      "needs_background": "light"
     },
     "output_type": "display_data"
    },
    {
     "data": {
      "image/png": "[encoded data removed]",
      "text/plain": [
       "<Figure size 432x288 with 2 Axes>"
      ]
     },
     "metadata": {
      "needs_background": "light"
     },
     "output_type": "display_data"
    }
   ],
   "source": [
    "\n",
    "knn = KNeighborsClassifier(n_neighbors=500, leaf_size=3)\n",
    "\n",
    "knn.fit(X_train, y_train)\n",
    "y_pred = knn.predict(X_test)\n",
    "\n",
    "accuracy = accuracy_score(y_test, y_pred)\n",
    "print(\"k_neighbor Accuracy: \" , accuracy)\n",
    "\n",
    "#classification report for each label\n",
    "print(classification_report(y_test, y_pred))\n",
    "\n",
    "confusion(y_pred)"
   ]
  },
  {
   "cell_type": "code",
   "execution_count": 29,
   "metadata": {},
   "outputs": [
    {
     "name": "stdout",
     "output_type": "stream",
     "text": [
      "Gaussian Naive Bayes Accuracy:  0.9561128526645768\n",
      "              precision    recall  f1-score   support\n",
      "\n",
      "          EI       0.95      0.96      0.96       179\n",
      "          IE       0.91      0.96      0.93       140\n",
      "           N       0.98      0.95      0.97       319\n",
      "\n",
      "   micro avg       0.96      0.96      0.96       638\n",
      "   macro avg       0.95      0.96      0.95       638\n",
      "weighted avg       0.96      0.96      0.96       638\n",
      "\n",
      "Confusion matrix, without normalization\n",
      "[[172   6   1]\n",
      " [  1 135   4]\n",
      " [  8   8 303]]\n",
      "Normalized confusion matrix\n",
      "[[0.96 0.03 0.01]\n",
      " [0.01 0.96 0.03]\n",
      " [0.03 0.03 0.95]]\n"
     ]
    },
    {
     "data": {
      "image/png": "[encoded data removed]",
      "text/plain": [
       "<Figure size 432x288 with 2 Axes>"
      ]
     },
     "metadata": {
      "needs_background": "light"
     },
     "output_type": "display_data"
    },
    {
     "data": {
      "image/png": "[encoded data removed]",
      "text/plain": [
       "<Figure size 432x288 with 2 Axes>"
      ]
     },
     "metadata": {
      "needs_background": "light"
     },
     "output_type": "display_data"
    }
   ],
   "source": [
    "gnb= GaussianNB(var_smoothing = 0.1)\n",
    "\n",
    "\n",
    "gnb.fit(X_train, y_train)\n",
    "y_pred = gnb.predict(X_test)\n",
    "\n",
    "accuracy = accuracy_score(y_test, y_pred)\n",
    "print(\"Gaussian Naive Bayes Accuracy: \" , accuracy)\n",
    "\n",
    "#classification report for each label\n",
    "print(classification_report(y_test, y_pred))\n",
    "\n",
    "confusion(y_pred)"
   ]
  },
  {
   "cell_type": "code",
   "execution_count": 30,
   "metadata": {},
   "outputs": [
    {
     "name": "stderr",
     "output_type": "stream",
     "text": [
      "D:\\anaconda\\lib\\site-packages\\sklearn\\svm\\base.py:196: FutureWarning: The default value of gamma will change from 'auto' to 'scale' in version 0.22 to account better for unscaled features. Set gamma explicitly to 'auto' or 'scale' to avoid this warning.\n",
      "  \"avoid this warning.\", FutureWarning)\n"
     ]
    },
    {
     "name": "stdout",
     "output_type": "stream",
     "text": [
      "Support Vector Machine Accuracy:  0.9561128526645768\n",
      "              precision    recall  f1-score   support\n",
      "\n",
      "          EI       0.96      0.97      0.96       179\n",
      "          IE       0.90      0.94      0.92       140\n",
      "           N       0.98      0.95      0.97       319\n",
      "\n",
      "   micro avg       0.96      0.96      0.96       638\n",
      "   macro avg       0.95      0.96      0.95       638\n",
      "weighted avg       0.96      0.96      0.96       638\n",
      "\n",
      "Confusion matrix, without normalization\n",
      "[[174   5   0]\n",
      " [  3 132   5]\n",
      " [  5  10 304]]\n",
      "Normalized confusion matrix\n",
      "[[0.97 0.03 0.  ]\n",
      " [0.02 0.94 0.04]\n",
      " [0.02 0.03 0.95]]\n"
     ]
    },
    {
     "data": {
      "image/png": "[encoded data removed]",
      "text/plain": [
       "<Figure size 432x288 with 2 Axes>"
      ]
     },
     "metadata": {
      "needs_background": "light"
     },
     "output_type": "display_data"
    },
    {
     "data": {
      "image/png": "[encoded data removed]",
      "text/plain": [
       "<Figure size 432x288 with 2 Axes>"
      ]
     },
     "metadata": {
      "needs_background": "light"
     },
     "output_type": "display_data"
    }
   ],
   "source": [
    "svc = SVC()\n",
    "\n",
    "\n",
    "svc.fit(X_train, y_train)\n",
    "y_pred = svc.predict(X_test)\n",
    "\n",
    "accuracy = accuracy_score(y_test, y_pred)\n",
    "print(\"Support Vector Machine Accuracy: \" , accuracy)\n",
    "\n",
    "#classification report for each label\n",
    "print(classification_report(y_test, y_pred))\n",
    "\n",
    "confusion(y_pred)"
   ]
  },
  {
   "cell_type": "code",
   "execution_count": 31,
   "metadata": {},
   "outputs": [
    {
     "name": "stdout",
     "output_type": "stream",
     "text": [
      "RandomForestClassifier Accuracy:  0.9717868338557993\n",
      "              precision    recall  f1-score   support\n",
      "\n",
      "          EI       0.98      0.97      0.98       179\n",
      "          IE       0.94      0.97      0.95       140\n",
      "           N       0.98      0.97      0.98       319\n",
      "\n",
      "   micro avg       0.97      0.97      0.97       638\n",
      "   macro avg       0.97      0.97      0.97       638\n",
      "weighted avg       0.97      0.97      0.97       638\n",
      "\n",
      "Confusion matrix, without normalization\n",
      "[[174   2   3]\n",
      " [  1 136   3]\n",
      " [  2   7 310]]\n",
      "Normalized confusion matrix\n",
      "[[0.97 0.01 0.02]\n",
      " [0.01 0.97 0.02]\n",
      " [0.01 0.02 0.97]]\n"
     ]
    },
    {
     "data": {
      "image/png": "[encoded data removed]",
      "text/plain": [
       "<Figure size 432x288 with 2 Axes>"
      ]
     },
     "metadata": {
      "needs_background": "light"
     },
     "output_type": "display_data"
    },
    {
     "data": {
      "image/png": "[encoded data removed]",
      "text/plain": [
       "<Figure size 432x288 with 2 Axes>"
      ]
     },
     "metadata": {
      "needs_background": "light"
     },
     "output_type": "display_data"
    }
   ],
   "source": [
    "rnf = RandomForestClassifier(n_estimators=250, max_depth=15,\n",
    "                              random_state=0)\n",
    "\n",
    "rnf.fit(X_train, y_train)\n",
    "y_pred = rnf.predict(X_test)\n",
    "\n",
    "accuracy = accuracy_score(y_test, y_pred)\n",
    "print(\"RandomForestClassifier Accuracy: \" , accuracy)\n",
    "\n",
    "#classification report for each label\n",
    "print(classification_report(y_test, y_pred))\n",
    "\n",
    "confusion(y_pred)"
   ]
  },
  {
   "cell_type": "code",
   "execution_count": 32,
   "metadata": {},
   "outputs": [
    {
     "name": "stdout",
     "output_type": "stream",
     "text": [
      "DecisionTreeClassifier Accuracy:  0.9498432601880877\n",
      "              precision    recall  f1-score   support\n",
      "\n",
      "          EI       0.96      0.97      0.96       179\n",
      "          IE       0.87      0.94      0.90       140\n",
      "           N       0.99      0.94      0.96       319\n",
      "\n",
      "   micro avg       0.95      0.95      0.95       638\n",
      "   macro avg       0.94      0.95      0.94       638\n",
      "weighted avg       0.95      0.95      0.95       638\n",
      "\n",
      "Confusion matrix, without normalization\n",
      "[[174   5   0]\n",
      " [  5 131   4]\n",
      " [  3  15 301]]\n",
      "Normalized confusion matrix\n",
      "[[0.97 0.03 0.  ]\n",
      " [0.04 0.94 0.03]\n",
      " [0.01 0.05 0.94]]\n"
     ]
    },
    {
     "data": {
      "image/png": "[encoded data removed]",
      "text/plain": [
       "<Figure size 432x288 with 2 Axes>"
      ]
     },
     "metadata": {
      "needs_background": "light"
     },
     "output_type": "display_data"
    },
    {
     "data": {
      "image/png": "[encoded data removed]",
      "text/plain": [
       "<Figure size 432x288 with 2 Axes>"
      ]
     },
     "metadata": {
      "needs_background": "light"
     },
     "output_type": "display_data"
    }
   ],
   "source": [
    "\n",
    "dct = DecisionTreeClassifier(max_depth=5, min_samples_split=3 )\n",
    "\n",
    "dct.fit(X_train, y_train)\n",
    "y_pred = dct.predict(X_test)\n",
    "\n",
    "accuracy = accuracy_score(y_test, y_pred)\n",
    "print(\"DecisionTreeClassifier Accuracy: \" , accuracy)\n",
    "\n",
    "#classification report for each label\n",
    "print(classification_report(y_test, y_pred))\n",
    "\n",
    "confusion(y_pred)\n"
   ]
  },
  {
   "cell_type": "code",
   "execution_count": 33,
   "metadata": {},
   "outputs": [
    {
     "name": "stdout",
     "output_type": "stream",
     "text": [
      "[0]\tvalidation_0-merror:0.021944\tvalidation_0-mlogloss:1.06452\tvalidation_1-merror:0.050157\tvalidation_1-mlogloss:1.06628\n",
      "Multiple eval metrics have been passed: 'validation_1-mlogloss' will be used for early stopping.\n",
      "\n",
      "Will train until validation_1-mlogloss hasn't improved in 20 rounds.\n",
      "[1]\tvalidation_0-merror:0.019201\tvalidation_0-mlogloss:1.03178\tvalidation_1-merror:0.047022\tvalidation_1-mlogloss:1.03521\n",
      "[2]\tvalidation_0-merror:0.018417\tvalidation_0-mlogloss:1.00054\tvalidation_1-merror:0.047022\tvalidation_1-mlogloss:1.00562\n",
      "[3]\tvalidation_0-merror:0.017633\tvalidation_0-mlogloss:0.97056\tvalidation_1-merror:0.045455\tvalidation_1-mlogloss:0.97697\n",
      "[4]\tvalidation_0-merror:0.015282\tvalidation_0-mlogloss:0.941755\tvalidation_1-merror:0.043887\tvalidation_1-mlogloss:0.949514\n",
      "[5]\tvalidation_0-merror:0.01489\tvalidation_0-mlogloss:0.914257\tvalidation_1-merror:0.040752\tvalidation_1-mlogloss:0.923253\n",
      "[6]\tvalidation_0-merror:0.014498\tvalidation_0-mlogloss:0.887631\tvalidation_1-merror:0.040752\tvalidation_1-mlogloss:0.898135\n",
      "[7]\tvalidation_0-merror:0.014498\tvalidation_0-mlogloss:0.862037\tvalidation_1-merror:0.043887\tvalidation_1-mlogloss:0.873797\n",
      "[8]\tvalidation_0-merror:0.014107\tvalidation_0-mlogloss:0.837516\tvalidation_1-merror:0.043887\tvalidation_1-mlogloss:0.850483\n",
      "[9]\tvalidation_0-merror:0.014107\tvalidation_0-mlogloss:0.813832\tvalidation_1-merror:0.04232\tvalidation_1-mlogloss:0.828185\n",
      "[10]\tvalidation_0-merror:0.013715\tvalidation_0-mlogloss:0.791011\tvalidation_1-merror:0.040752\tvalidation_1-mlogloss:0.806444\n",
      "[11]\tvalidation_0-merror:0.012931\tvalidation_0-mlogloss:0.769041\tvalidation_1-merror:0.040752\tvalidation_1-mlogloss:0.78574\n",
      "[12]\tvalidation_0-merror:0.013323\tvalidation_0-mlogloss:0.747853\tvalidation_1-merror:0.037618\tvalidation_1-mlogloss:0.765693\n",
      "[13]\tvalidation_0-merror:0.012931\tvalidation_0-mlogloss:0.727419\tvalidation_1-merror:0.03605\tvalidation_1-mlogloss:0.74646\n",
      "[14]\tvalidation_0-merror:0.013715\tvalidation_0-mlogloss:0.707691\tvalidation_1-merror:0.03605\tvalidation_1-mlogloss:0.727929\n",
      "[15]\tvalidation_0-merror:0.013323\tvalidation_0-mlogloss:0.68862\tvalidation_1-merror:0.03605\tvalidation_1-mlogloss:0.70996\n",
      "[16]\tvalidation_0-merror:0.012539\tvalidation_0-mlogloss:0.670227\tvalidation_1-merror:0.03605\tvalidation_1-mlogloss:0.692682\n",
      "[17]\tvalidation_0-merror:0.011755\tvalidation_0-mlogloss:0.652351\tvalidation_1-merror:0.034483\tvalidation_1-mlogloss:0.676004\n",
      "[18]\tvalidation_0-merror:0.012147\tvalidation_0-mlogloss:0.635126\tvalidation_1-merror:0.034483\tvalidation_1-mlogloss:0.659783\n",
      "[19]\tvalidation_0-merror:0.011364\tvalidation_0-mlogloss:0.618474\tvalidation_1-merror:0.034483\tvalidation_1-mlogloss:0.64416\n",
      "[20]\tvalidation_0-merror:0.011364\tvalidation_0-mlogloss:0.602326\tvalidation_1-merror:0.034483\tvalidation_1-mlogloss:0.628862\n",
      "[21]\tvalidation_0-merror:0.011364\tvalidation_0-mlogloss:0.586754\tvalidation_1-merror:0.032915\tvalidation_1-mlogloss:0.614274\n",
      "[22]\tvalidation_0-merror:0.011364\tvalidation_0-mlogloss:0.571592\tvalidation_1-merror:0.034483\tvalidation_1-mlogloss:0.600092\n",
      "[23]\tvalidation_0-merror:0.011364\tvalidation_0-mlogloss:0.556943\tvalidation_1-merror:0.03605\tvalidation_1-mlogloss:0.586541\n",
      "[24]\tvalidation_0-merror:0.010972\tvalidation_0-mlogloss:0.542751\tvalidation_1-merror:0.03605\tvalidation_1-mlogloss:0.573329\n",
      "[25]\tvalidation_0-merror:0.01058\tvalidation_0-mlogloss:0.528965\tvalidation_1-merror:0.03605\tvalidation_1-mlogloss:0.560438\n",
      "[26]\tvalidation_0-merror:0.01058\tvalidation_0-mlogloss:0.515664\tvalidation_1-merror:0.03605\tvalidation_1-mlogloss:0.548054\n",
      "[27]\tvalidation_0-merror:0.01058\tvalidation_0-mlogloss:0.502701\tvalidation_1-merror:0.03605\tvalidation_1-mlogloss:0.535952\n",
      "[28]\tvalidation_0-merror:0.010188\tvalidation_0-mlogloss:0.490165\tvalidation_1-merror:0.03605\tvalidation_1-mlogloss:0.524339\n",
      "[29]\tvalidation_0-merror:0.010188\tvalidation_0-mlogloss:0.478004\tvalidation_1-merror:0.03605\tvalidation_1-mlogloss:0.513102\n",
      "[30]\tvalidation_0-merror:0.010188\tvalidation_0-mlogloss:0.466154\tvalidation_1-merror:0.03605\tvalidation_1-mlogloss:0.502044\n",
      "[31]\tvalidation_0-merror:0.009796\tvalidation_0-mlogloss:0.454671\tvalidation_1-merror:0.03605\tvalidation_1-mlogloss:0.491487\n",
      "[32]\tvalidation_0-merror:0.009404\tvalidation_0-mlogloss:0.443571\tvalidation_1-merror:0.03605\tvalidation_1-mlogloss:0.481319\n",
      "[33]\tvalidation_0-merror:0.009796\tvalidation_0-mlogloss:0.432766\tvalidation_1-merror:0.037618\tvalidation_1-mlogloss:0.471506\n",
      "[34]\tvalidation_0-merror:0.009013\tvalidation_0-mlogloss:0.422275\tvalidation_1-merror:0.037618\tvalidation_1-mlogloss:0.461742\n",
      "[35]\tvalidation_0-merror:0.009013\tvalidation_0-mlogloss:0.412064\tvalidation_1-merror:0.037618\tvalidation_1-mlogloss:0.452399\n",
      "[36]\tvalidation_0-merror:0.008621\tvalidation_0-mlogloss:0.402153\tvalidation_1-merror:0.037618\tvalidation_1-mlogloss:0.443358\n",
      "[37]\tvalidation_0-merror:0.008229\tvalidation_0-mlogloss:0.392555\tvalidation_1-merror:0.037618\tvalidation_1-mlogloss:0.434404\n",
      "[38]\tvalidation_0-merror:0.008229\tvalidation_0-mlogloss:0.383196\tvalidation_1-merror:0.039185\tvalidation_1-mlogloss:0.425904\n",
      "[39]\tvalidation_0-merror:0.008229\tvalidation_0-mlogloss:0.374106\tvalidation_1-merror:0.03605\tvalidation_1-mlogloss:0.41752\n",
      "[40]\tvalidation_0-merror:0.008229\tvalidation_0-mlogloss:0.36525\tvalidation_1-merror:0.037618\tvalidation_1-mlogloss:0.409488\n",
      "[41]\tvalidation_0-merror:0.008229\tvalidation_0-mlogloss:0.356631\tvalidation_1-merror:0.037618\tvalidation_1-mlogloss:0.401679\n",
      "[42]\tvalidation_0-merror:0.008229\tvalidation_0-mlogloss:0.348296\tvalidation_1-merror:0.037618\tvalidation_1-mlogloss:0.394016\n",
      "[43]\tvalidation_0-merror:0.008229\tvalidation_0-mlogloss:0.340143\tvalidation_1-merror:0.037618\tvalidation_1-mlogloss:0.386586\n",
      "[44]\tvalidation_0-merror:0.007445\tvalidation_0-mlogloss:0.332219\tvalidation_1-merror:0.037618\tvalidation_1-mlogloss:0.379433\n",
      "[45]\tvalidation_0-merror:0.007445\tvalidation_0-mlogloss:0.324554\tvalidation_1-merror:0.037618\tvalidation_1-mlogloss:0.372388\n",
      "[46]\tvalidation_0-merror:0.007445\tvalidation_0-mlogloss:0.317088\tvalidation_1-merror:0.037618\tvalidation_1-mlogloss:0.365691\n",
      "[47]\tvalidation_0-merror:0.007445\tvalidation_0-mlogloss:0.309827\tvalidation_1-merror:0.037618\tvalidation_1-mlogloss:0.359198\n",
      "[48]\tvalidation_0-merror:0.007053\tvalidation_0-mlogloss:0.302767\tvalidation_1-merror:0.037618\tvalidation_1-mlogloss:0.352798\n",
      "[49]\tvalidation_0-merror:0.007053\tvalidation_0-mlogloss:0.295861\tvalidation_1-merror:0.037618\tvalidation_1-mlogloss:0.346693\n",
      "[50]\tvalidation_0-merror:0.007053\tvalidation_0-mlogloss:0.289161\tvalidation_1-merror:0.037618\tvalidation_1-mlogloss:0.340822\n",
      "[51]\tvalidation_0-merror:0.007053\tvalidation_0-mlogloss:0.282685\tvalidation_1-merror:0.037618\tvalidation_1-mlogloss:0.334896\n",
      "[52]\tvalidation_0-merror:0.007053\tvalidation_0-mlogloss:0.276314\tvalidation_1-merror:0.037618\tvalidation_1-mlogloss:0.329309\n",
      "[53]\tvalidation_0-merror:0.007053\tvalidation_0-mlogloss:0.270172\tvalidation_1-merror:0.037618\tvalidation_1-mlogloss:0.323948\n",
      "[54]\tvalidation_0-merror:0.007053\tvalidation_0-mlogloss:0.264179\tvalidation_1-merror:0.037618\tvalidation_1-mlogloss:0.318628\n",
      "[55]\tvalidation_0-merror:0.007053\tvalidation_0-mlogloss:0.258337\tvalidation_1-merror:0.039185\tvalidation_1-mlogloss:0.313374\n",
      "[56]\tvalidation_0-merror:0.007053\tvalidation_0-mlogloss:0.252648\tvalidation_1-merror:0.039185\tvalidation_1-mlogloss:0.308403\n",
      "[57]\tvalidation_0-merror:0.007053\tvalidation_0-mlogloss:0.247094\tvalidation_1-merror:0.039185\tvalidation_1-mlogloss:0.303583\n",
      "[58]\tvalidation_0-merror:0.007053\tvalidation_0-mlogloss:0.241703\tvalidation_1-merror:0.039185\tvalidation_1-mlogloss:0.298893\n",
      "[59]\tvalidation_0-merror:0.007053\tvalidation_0-mlogloss:0.236449\tvalidation_1-merror:0.039185\tvalidation_1-mlogloss:0.294248\n",
      "[60]\tvalidation_0-merror:0.007053\tvalidation_0-mlogloss:0.231361\tvalidation_1-merror:0.039185\tvalidation_1-mlogloss:0.289823\n",
      "[61]\tvalidation_0-merror:0.007053\tvalidation_0-mlogloss:0.226375\tvalidation_1-merror:0.039185\tvalidation_1-mlogloss:0.285414\n",
      "[62]\tvalidation_0-merror:0.007053\tvalidation_0-mlogloss:0.221502\tvalidation_1-merror:0.039185\tvalidation_1-mlogloss:0.281201\n",
      "[63]\tvalidation_0-merror:0.007053\tvalidation_0-mlogloss:0.216754\tvalidation_1-merror:0.039185\tvalidation_1-mlogloss:0.277147\n",
      "[64]\tvalidation_0-merror:0.007053\tvalidation_0-mlogloss:0.212156\tvalidation_1-merror:0.039185\tvalidation_1-mlogloss:0.273215\n"
     ]
    },
    {
     "name": "stdout",
     "output_type": "stream",
     "text": [
      "[65]\tvalidation_0-merror:0.007053\tvalidation_0-mlogloss:0.20758\tvalidation_1-merror:0.039185\tvalidation_1-mlogloss:0.26917\n",
      "[66]\tvalidation_0-merror:0.007053\tvalidation_0-mlogloss:0.203131\tvalidation_1-merror:0.039185\tvalidation_1-mlogloss:0.265296\n",
      "[67]\tvalidation_0-merror:0.006661\tvalidation_0-mlogloss:0.198752\tvalidation_1-merror:0.039185\tvalidation_1-mlogloss:0.261654\n",
      "[68]\tvalidation_0-merror:0.006661\tvalidation_0-mlogloss:0.194477\tvalidation_1-merror:0.040752\tvalidation_1-mlogloss:0.257978\n",
      "[69]\tvalidation_0-merror:0.006661\tvalidation_0-mlogloss:0.190327\tvalidation_1-merror:0.040752\tvalidation_1-mlogloss:0.254465\n",
      "[70]\tvalidation_0-merror:0.00627\tvalidation_0-mlogloss:0.18629\tvalidation_1-merror:0.040752\tvalidation_1-mlogloss:0.250937\n",
      "[71]\tvalidation_0-merror:0.00627\tvalidation_0-mlogloss:0.182352\tvalidation_1-merror:0.04232\tvalidation_1-mlogloss:0.247587\n",
      "[72]\tvalidation_0-merror:0.00627\tvalidation_0-mlogloss:0.178497\tvalidation_1-merror:0.04232\tvalidation_1-mlogloss:0.244259\n",
      "[73]\tvalidation_0-merror:0.00627\tvalidation_0-mlogloss:0.17477\tvalidation_1-merror:0.04232\tvalidation_1-mlogloss:0.241083\n",
      "[74]\tvalidation_0-merror:0.00627\tvalidation_0-mlogloss:0.171152\tvalidation_1-merror:0.04232\tvalidation_1-mlogloss:0.238\n",
      "[75]\tvalidation_0-merror:0.00627\tvalidation_0-mlogloss:0.167615\tvalidation_1-merror:0.04232\tvalidation_1-mlogloss:0.23504\n",
      "[76]\tvalidation_0-merror:0.005878\tvalidation_0-mlogloss:0.16416\tvalidation_1-merror:0.04232\tvalidation_1-mlogloss:0.2321\n",
      "[77]\tvalidation_0-merror:0.005878\tvalidation_0-mlogloss:0.160773\tvalidation_1-merror:0.04232\tvalidation_1-mlogloss:0.229233\n",
      "[78]\tvalidation_0-merror:0.005878\tvalidation_0-mlogloss:0.15746\tvalidation_1-merror:0.04232\tvalidation_1-mlogloss:0.226451\n",
      "[79]\tvalidation_0-merror:0.005878\tvalidation_0-mlogloss:0.154243\tvalidation_1-merror:0.04232\tvalidation_1-mlogloss:0.223793\n",
      "[80]\tvalidation_0-merror:0.005878\tvalidation_0-mlogloss:0.151126\tvalidation_1-merror:0.04232\tvalidation_1-mlogloss:0.221179\n",
      "[81]\tvalidation_0-merror:0.005878\tvalidation_0-mlogloss:0.14805\tvalidation_1-merror:0.04232\tvalidation_1-mlogloss:0.218677\n",
      "[82]\tvalidation_0-merror:0.005878\tvalidation_0-mlogloss:0.145064\tvalidation_1-merror:0.04232\tvalidation_1-mlogloss:0.216151\n",
      "[83]\tvalidation_0-merror:0.005486\tvalidation_0-mlogloss:0.142151\tvalidation_1-merror:0.043887\tvalidation_1-mlogloss:0.213708\n",
      "[84]\tvalidation_0-merror:0.005486\tvalidation_0-mlogloss:0.139299\tvalidation_1-merror:0.043887\tvalidation_1-mlogloss:0.211273\n",
      "[85]\tvalidation_0-merror:0.005486\tvalidation_0-mlogloss:0.136524\tvalidation_1-merror:0.043887\tvalidation_1-mlogloss:0.208899\n",
      "[86]\tvalidation_0-merror:0.005486\tvalidation_0-mlogloss:0.133809\tvalidation_1-merror:0.045455\tvalidation_1-mlogloss:0.206665\n",
      "[87]\tvalidation_0-merror:0.005486\tvalidation_0-mlogloss:0.131176\tvalidation_1-merror:0.045455\tvalidation_1-mlogloss:0.20448\n",
      "[88]\tvalidation_0-merror:0.005486\tvalidation_0-mlogloss:0.128598\tvalidation_1-merror:0.045455\tvalidation_1-mlogloss:0.202384\n",
      "[89]\tvalidation_0-merror:0.005486\tvalidation_0-mlogloss:0.126053\tvalidation_1-merror:0.045455\tvalidation_1-mlogloss:0.200255\n",
      "[90]\tvalidation_0-merror:0.005486\tvalidation_0-mlogloss:0.1236\tvalidation_1-merror:0.045455\tvalidation_1-mlogloss:0.198171\n",
      "[91]\tvalidation_0-merror:0.005486\tvalidation_0-mlogloss:0.121194\tvalidation_1-merror:0.045455\tvalidation_1-mlogloss:0.196177\n",
      "[92]\tvalidation_0-merror:0.005486\tvalidation_0-mlogloss:0.118841\tvalidation_1-merror:0.045455\tvalidation_1-mlogloss:0.194192\n",
      "[93]\tvalidation_0-merror:0.005486\tvalidation_0-mlogloss:0.116555\tvalidation_1-merror:0.043887\tvalidation_1-mlogloss:0.192283\n",
      "[94]\tvalidation_0-merror:0.005486\tvalidation_0-mlogloss:0.114331\tvalidation_1-merror:0.043887\tvalidation_1-mlogloss:0.190423\n",
      "[95]\tvalidation_0-merror:0.005486\tvalidation_0-mlogloss:0.11214\tvalidation_1-merror:0.043887\tvalidation_1-mlogloss:0.188649\n",
      "[96]\tvalidation_0-merror:0.005486\tvalidation_0-mlogloss:0.110024\tvalidation_1-merror:0.043887\tvalidation_1-mlogloss:0.186765\n",
      "[97]\tvalidation_0-merror:0.005486\tvalidation_0-mlogloss:0.107975\tvalidation_1-merror:0.043887\tvalidation_1-mlogloss:0.185085\n",
      "[98]\tvalidation_0-merror:0.005486\tvalidation_0-mlogloss:0.105945\tvalidation_1-merror:0.043887\tvalidation_1-mlogloss:0.183183\n",
      "[99]\tvalidation_0-merror:0.005094\tvalidation_0-mlogloss:0.103956\tvalidation_1-merror:0.04232\tvalidation_1-mlogloss:0.181394\n",
      "[100]\tvalidation_0-merror:0.004702\tvalidation_0-mlogloss:0.102013\tvalidation_1-merror:0.04232\tvalidation_1-mlogloss:0.179686\n",
      "[101]\tvalidation_0-merror:0.004702\tvalidation_0-mlogloss:0.100123\tvalidation_1-merror:0.04232\tvalidation_1-mlogloss:0.177962\n",
      "[102]\tvalidation_0-merror:0.004702\tvalidation_0-mlogloss:0.098273\tvalidation_1-merror:0.040752\tvalidation_1-mlogloss:0.176423\n",
      "[103]\tvalidation_0-merror:0.004702\tvalidation_0-mlogloss:0.096467\tvalidation_1-merror:0.040752\tvalidation_1-mlogloss:0.17489\n",
      "[104]\tvalidation_0-merror:0.00431\tvalidation_0-mlogloss:0.094698\tvalidation_1-merror:0.039185\tvalidation_1-mlogloss:0.173337\n",
      "[105]\tvalidation_0-merror:0.003918\tvalidation_0-mlogloss:0.092977\tvalidation_1-merror:0.037618\tvalidation_1-mlogloss:0.171804\n",
      "[106]\tvalidation_0-merror:0.003918\tvalidation_0-mlogloss:0.09127\tvalidation_1-merror:0.037618\tvalidation_1-mlogloss:0.170423\n",
      "[107]\tvalidation_0-merror:0.003527\tvalidation_0-mlogloss:0.089616\tvalidation_1-merror:0.037618\tvalidation_1-mlogloss:0.169082\n",
      "[108]\tvalidation_0-merror:0.003527\tvalidation_0-mlogloss:0.087995\tvalidation_1-merror:0.039185\tvalidation_1-mlogloss:0.167791\n",
      "[109]\tvalidation_0-merror:0.003527\tvalidation_0-mlogloss:0.086408\tvalidation_1-merror:0.039185\tvalidation_1-mlogloss:0.166477\n",
      "[110]\tvalidation_0-merror:0.003527\tvalidation_0-mlogloss:0.084855\tvalidation_1-merror:0.039185\tvalidation_1-mlogloss:0.165168\n",
      "[111]\tvalidation_0-merror:0.003527\tvalidation_0-mlogloss:0.083349\tvalidation_1-merror:0.039185\tvalidation_1-mlogloss:0.163882\n",
      "[112]\tvalidation_0-merror:0.003527\tvalidation_0-mlogloss:0.081874\tvalidation_1-merror:0.039185\tvalidation_1-mlogloss:0.162605\n",
      "[113]\tvalidation_0-merror:0.003527\tvalidation_0-mlogloss:0.080445\tvalidation_1-merror:0.039185\tvalidation_1-mlogloss:0.161503\n",
      "[114]\tvalidation_0-merror:0.003527\tvalidation_0-mlogloss:0.079045\tvalidation_1-merror:0.039185\tvalidation_1-mlogloss:0.160376\n",
      "[115]\tvalidation_0-merror:0.003527\tvalidation_0-mlogloss:0.077652\tvalidation_1-merror:0.039185\tvalidation_1-mlogloss:0.159341\n",
      "[116]\tvalidation_0-merror:0.003527\tvalidation_0-mlogloss:0.076303\tvalidation_1-merror:0.039185\tvalidation_1-mlogloss:0.158288\n",
      "[117]\tvalidation_0-merror:0.003527\tvalidation_0-mlogloss:0.074963\tvalidation_1-merror:0.039185\tvalidation_1-mlogloss:0.15733\n",
      "[118]\tvalidation_0-merror:0.003527\tvalidation_0-mlogloss:0.07367\tvalidation_1-merror:0.039185\tvalidation_1-mlogloss:0.156368\n",
      "[119]\tvalidation_0-merror:0.003527\tvalidation_0-mlogloss:0.072389\tvalidation_1-merror:0.039185\tvalidation_1-mlogloss:0.155335\n",
      "[120]\tvalidation_0-merror:0.003527\tvalidation_0-mlogloss:0.071155\tvalidation_1-merror:0.039185\tvalidation_1-mlogloss:0.154449\n",
      "[121]\tvalidation_0-merror:0.003527\tvalidation_0-mlogloss:0.069947\tvalidation_1-merror:0.039185\tvalidation_1-mlogloss:0.153532\n",
      "[122]\tvalidation_0-merror:0.003527\tvalidation_0-mlogloss:0.068761\tvalidation_1-merror:0.039185\tvalidation_1-mlogloss:0.152626\n",
      "[123]\tvalidation_0-merror:0.003527\tvalidation_0-mlogloss:0.067594\tvalidation_1-merror:0.039185\tvalidation_1-mlogloss:0.151838\n",
      "[124]\tvalidation_0-merror:0.003527\tvalidation_0-mlogloss:0.066469\tvalidation_1-merror:0.040752\tvalidation_1-mlogloss:0.150967\n",
      "[125]\tvalidation_0-merror:0.003527\tvalidation_0-mlogloss:0.065356\tvalidation_1-merror:0.040752\tvalidation_1-mlogloss:0.150187\n",
      "[126]\tvalidation_0-merror:0.003527\tvalidation_0-mlogloss:0.064275\tvalidation_1-merror:0.040752\tvalidation_1-mlogloss:0.149347\n",
      "[127]\tvalidation_0-merror:0.003527\tvalidation_0-mlogloss:0.063217\tvalidation_1-merror:0.040752\tvalidation_1-mlogloss:0.148453\n",
      "[128]\tvalidation_0-merror:0.003527\tvalidation_0-mlogloss:0.062186\tvalidation_1-merror:0.040752\tvalidation_1-mlogloss:0.14778\n",
      "[129]\tvalidation_0-merror:0.003527\tvalidation_0-mlogloss:0.06117\tvalidation_1-merror:0.040752\tvalidation_1-mlogloss:0.146917\n",
      "[130]\tvalidation_0-merror:0.003527\tvalidation_0-mlogloss:0.060193\tvalidation_1-merror:0.040752\tvalidation_1-mlogloss:0.146227\n"
     ]
    },
    {
     "name": "stdout",
     "output_type": "stream",
     "text": [
      "[131]\tvalidation_0-merror:0.003527\tvalidation_0-mlogloss:0.059232\tvalidation_1-merror:0.040752\tvalidation_1-mlogloss:0.14537\n",
      "[132]\tvalidation_0-merror:0.003527\tvalidation_0-mlogloss:0.058291\tvalidation_1-merror:0.040752\tvalidation_1-mlogloss:0.144481\n",
      "[133]\tvalidation_0-merror:0.003527\tvalidation_0-mlogloss:0.057372\tvalidation_1-merror:0.039185\tvalidation_1-mlogloss:0.143704\n",
      "[134]\tvalidation_0-merror:0.003527\tvalidation_0-mlogloss:0.056465\tvalidation_1-merror:0.040752\tvalidation_1-mlogloss:0.142934\n",
      "[135]\tvalidation_0-merror:0.003527\tvalidation_0-mlogloss:0.055588\tvalidation_1-merror:0.040752\tvalidation_1-mlogloss:0.142185\n",
      "[136]\tvalidation_0-merror:0.003527\tvalidation_0-mlogloss:0.054719\tvalidation_1-merror:0.040752\tvalidation_1-mlogloss:0.141347\n",
      "[137]\tvalidation_0-merror:0.003527\tvalidation_0-mlogloss:0.053871\tvalidation_1-merror:0.040752\tvalidation_1-mlogloss:0.140613\n",
      "[138]\tvalidation_0-merror:0.003527\tvalidation_0-mlogloss:0.053043\tvalidation_1-merror:0.040752\tvalidation_1-mlogloss:0.139827\n",
      "[139]\tvalidation_0-merror:0.003527\tvalidation_0-mlogloss:0.052234\tvalidation_1-merror:0.039185\tvalidation_1-mlogloss:0.139142\n",
      "[140]\tvalidation_0-merror:0.003527\tvalidation_0-mlogloss:0.051436\tvalidation_1-merror:0.040752\tvalidation_1-mlogloss:0.138444\n",
      "[141]\tvalidation_0-merror:0.003135\tvalidation_0-mlogloss:0.050659\tvalidation_1-merror:0.040752\tvalidation_1-mlogloss:0.137694\n",
      "[142]\tvalidation_0-merror:0.003135\tvalidation_0-mlogloss:0.049891\tvalidation_1-merror:0.040752\tvalidation_1-mlogloss:0.137008\n",
      "[143]\tvalidation_0-merror:0.003135\tvalidation_0-mlogloss:0.049128\tvalidation_1-merror:0.040752\tvalidation_1-mlogloss:0.136513\n",
      "[144]\tvalidation_0-merror:0.003135\tvalidation_0-mlogloss:0.048381\tvalidation_1-merror:0.040752\tvalidation_1-mlogloss:0.135779\n",
      "[145]\tvalidation_0-merror:0.003135\tvalidation_0-mlogloss:0.047641\tvalidation_1-merror:0.039185\tvalidation_1-mlogloss:0.135173\n",
      "[146]\tvalidation_0-merror:0.003135\tvalidation_0-mlogloss:0.046924\tvalidation_1-merror:0.039185\tvalidation_1-mlogloss:0.134698\n",
      "[147]\tvalidation_0-merror:0.003135\tvalidation_0-mlogloss:0.046225\tvalidation_1-merror:0.039185\tvalidation_1-mlogloss:0.134131\n",
      "[148]\tvalidation_0-merror:0.003135\tvalidation_0-mlogloss:0.04554\tvalidation_1-merror:0.039185\tvalidation_1-mlogloss:0.133577\n",
      "[149]\tvalidation_0-merror:0.003135\tvalidation_0-mlogloss:0.04487\tvalidation_1-merror:0.039185\tvalidation_1-mlogloss:0.133124\n",
      "[150]\tvalidation_0-merror:0.003135\tvalidation_0-mlogloss:0.044217\tvalidation_1-merror:0.040752\tvalidation_1-mlogloss:0.132585\n",
      "[151]\tvalidation_0-merror:0.003135\tvalidation_0-mlogloss:0.043571\tvalidation_1-merror:0.040752\tvalidation_1-mlogloss:0.132047\n",
      "[152]\tvalidation_0-merror:0.003135\tvalidation_0-mlogloss:0.042942\tvalidation_1-merror:0.040752\tvalidation_1-mlogloss:0.131616\n",
      "[153]\tvalidation_0-merror:0.003135\tvalidation_0-mlogloss:0.042325\tvalidation_1-merror:0.040752\tvalidation_1-mlogloss:0.131179\n",
      "[154]\tvalidation_0-merror:0.003135\tvalidation_0-mlogloss:0.041718\tvalidation_1-merror:0.040752\tvalidation_1-mlogloss:0.130734\n",
      "[155]\tvalidation_0-merror:0.003135\tvalidation_0-mlogloss:0.041122\tvalidation_1-merror:0.039185\tvalidation_1-mlogloss:0.13016\n",
      "[156]\tvalidation_0-merror:0.003135\tvalidation_0-mlogloss:0.040542\tvalidation_1-merror:0.039185\tvalidation_1-mlogloss:0.12973\n",
      "[157]\tvalidation_0-merror:0.003135\tvalidation_0-mlogloss:0.039969\tvalidation_1-merror:0.040752\tvalidation_1-mlogloss:0.129258\n",
      "[158]\tvalidation_0-merror:0.003135\tvalidation_0-mlogloss:0.039412\tvalidation_1-merror:0.040752\tvalidation_1-mlogloss:0.128809\n",
      "[159]\tvalidation_0-merror:0.003135\tvalidation_0-mlogloss:0.038863\tvalidation_1-merror:0.040752\tvalidation_1-mlogloss:0.128339\n",
      "[160]\tvalidation_0-merror:0.002743\tvalidation_0-mlogloss:0.038323\tvalidation_1-merror:0.040752\tvalidation_1-mlogloss:0.12784\n",
      "[161]\tvalidation_0-merror:0.002743\tvalidation_0-mlogloss:0.037798\tvalidation_1-merror:0.040752\tvalidation_1-mlogloss:0.127409\n",
      "[162]\tvalidation_0-merror:0.002743\tvalidation_0-mlogloss:0.037285\tvalidation_1-merror:0.040752\tvalidation_1-mlogloss:0.127057\n",
      "[163]\tvalidation_0-merror:0.002743\tvalidation_0-mlogloss:0.036782\tvalidation_1-merror:0.040752\tvalidation_1-mlogloss:0.126635\n",
      "[164]\tvalidation_0-merror:0.002743\tvalidation_0-mlogloss:0.036279\tvalidation_1-merror:0.040752\tvalidation_1-mlogloss:0.126268\n",
      "[165]\tvalidation_0-merror:0.002351\tvalidation_0-mlogloss:0.03579\tvalidation_1-merror:0.04232\tvalidation_1-mlogloss:0.125831\n",
      "[166]\tvalidation_0-merror:0.002351\tvalidation_0-mlogloss:0.035311\tvalidation_1-merror:0.039185\tvalidation_1-mlogloss:0.125414\n",
      "[167]\tvalidation_0-merror:0.002351\tvalidation_0-mlogloss:0.034842\tvalidation_1-merror:0.039185\tvalidation_1-mlogloss:0.125058\n",
      "[168]\tvalidation_0-merror:0.002351\tvalidation_0-mlogloss:0.034384\tvalidation_1-merror:0.040752\tvalidation_1-mlogloss:0.124608\n",
      "[169]\tvalidation_0-merror:0.002351\tvalidation_0-mlogloss:0.033933\tvalidation_1-merror:0.039185\tvalidation_1-mlogloss:0.12416\n",
      "[170]\tvalidation_0-merror:0.002351\tvalidation_0-mlogloss:0.033488\tvalidation_1-merror:0.039185\tvalidation_1-mlogloss:0.123805\n",
      "[171]\tvalidation_0-merror:0.002351\tvalidation_0-mlogloss:0.033061\tvalidation_1-merror:0.039185\tvalidation_1-mlogloss:0.123394\n",
      "[172]\tvalidation_0-merror:0.002351\tvalidation_0-mlogloss:0.032632\tvalidation_1-merror:0.039185\tvalidation_1-mlogloss:0.123102\n",
      "[173]\tvalidation_0-merror:0.002351\tvalidation_0-mlogloss:0.032231\tvalidation_1-merror:0.039185\tvalidation_1-mlogloss:0.122775\n",
      "[174]\tvalidation_0-merror:0.002351\tvalidation_0-mlogloss:0.031828\tvalidation_1-merror:0.039185\tvalidation_1-mlogloss:0.122484\n",
      "[175]\tvalidation_0-merror:0.001959\tvalidation_0-mlogloss:0.031427\tvalidation_1-merror:0.039185\tvalidation_1-mlogloss:0.122146\n",
      "[176]\tvalidation_0-merror:0.001959\tvalidation_0-mlogloss:0.031049\tvalidation_1-merror:0.039185\tvalidation_1-mlogloss:0.12182\n",
      "[177]\tvalidation_0-merror:0.001959\tvalidation_0-mlogloss:0.030667\tvalidation_1-merror:0.039185\tvalidation_1-mlogloss:0.12151\n",
      "[178]\tvalidation_0-merror:0.001959\tvalidation_0-mlogloss:0.030301\tvalidation_1-merror:0.039185\tvalidation_1-mlogloss:0.121272\n",
      "[179]\tvalidation_0-merror:0.001959\tvalidation_0-mlogloss:0.029931\tvalidation_1-merror:0.039185\tvalidation_1-mlogloss:0.121017\n",
      "[180]\tvalidation_0-merror:0.001959\tvalidation_0-mlogloss:0.029577\tvalidation_1-merror:0.039185\tvalidation_1-mlogloss:0.120644\n",
      "[181]\tvalidation_0-merror:0.001959\tvalidation_0-mlogloss:0.029224\tvalidation_1-merror:0.039185\tvalidation_1-mlogloss:0.120412\n",
      "[182]\tvalidation_0-merror:0.001959\tvalidation_0-mlogloss:0.028887\tvalidation_1-merror:0.039185\tvalidation_1-mlogloss:0.120028\n",
      "[183]\tvalidation_0-merror:0.001959\tvalidation_0-mlogloss:0.028558\tvalidation_1-merror:0.039185\tvalidation_1-mlogloss:0.119651\n",
      "[184]\tvalidation_0-merror:0.001959\tvalidation_0-mlogloss:0.028235\tvalidation_1-merror:0.039185\tvalidation_1-mlogloss:0.119429\n",
      "[185]\tvalidation_0-merror:0.001959\tvalidation_0-mlogloss:0.02791\tvalidation_1-merror:0.039185\tvalidation_1-mlogloss:0.119218\n",
      "[186]\tvalidation_0-merror:0.001959\tvalidation_0-mlogloss:0.027601\tvalidation_1-merror:0.039185\tvalidation_1-mlogloss:0.118825\n",
      "[187]\tvalidation_0-merror:0.001567\tvalidation_0-mlogloss:0.02729\tvalidation_1-merror:0.039185\tvalidation_1-mlogloss:0.118544\n",
      "[188]\tvalidation_0-merror:0.001567\tvalidation_0-mlogloss:0.026984\tvalidation_1-merror:0.039185\tvalidation_1-mlogloss:0.118365\n",
      "[189]\tvalidation_0-merror:0.001567\tvalidation_0-mlogloss:0.026689\tvalidation_1-merror:0.039185\tvalidation_1-mlogloss:0.118066\n",
      "[190]\tvalidation_0-merror:0.001567\tvalidation_0-mlogloss:0.026399\tvalidation_1-merror:0.039185\tvalidation_1-mlogloss:0.117802\n",
      "[191]\tvalidation_0-merror:0.001176\tvalidation_0-mlogloss:0.026105\tvalidation_1-merror:0.039185\tvalidation_1-mlogloss:0.11759\n",
      "[192]\tvalidation_0-merror:0.001176\tvalidation_0-mlogloss:0.025825\tvalidation_1-merror:0.039185\tvalidation_1-mlogloss:0.117334\n",
      "[193]\tvalidation_0-merror:0.001176\tvalidation_0-mlogloss:0.025544\tvalidation_1-merror:0.039185\tvalidation_1-mlogloss:0.117111\n",
      "[194]\tvalidation_0-merror:0.001176\tvalidation_0-mlogloss:0.025272\tvalidation_1-merror:0.037618\tvalidation_1-mlogloss:0.116757\n",
      "[195]\tvalidation_0-merror:0.001176\tvalidation_0-mlogloss:0.025\tvalidation_1-merror:0.037618\tvalidation_1-mlogloss:0.116594\n",
      "[196]\tvalidation_0-merror:0.001176\tvalidation_0-mlogloss:0.024737\tvalidation_1-merror:0.037618\tvalidation_1-mlogloss:0.116325\n"
     ]
    },
    {
     "name": "stdout",
     "output_type": "stream",
     "text": [
      "[197]\tvalidation_0-merror:0.001176\tvalidation_0-mlogloss:0.024476\tvalidation_1-merror:0.037618\tvalidation_1-mlogloss:0.116146\n",
      "[198]\tvalidation_0-merror:0.001176\tvalidation_0-mlogloss:0.024213\tvalidation_1-merror:0.037618\tvalidation_1-mlogloss:0.115943\n",
      "[199]\tvalidation_0-merror:0.001176\tvalidation_0-mlogloss:0.023961\tvalidation_1-merror:0.037618\tvalidation_1-mlogloss:0.115686\n",
      "[200]\tvalidation_0-merror:0.001176\tvalidation_0-mlogloss:0.023711\tvalidation_1-merror:0.037618\tvalidation_1-mlogloss:0.115552\n",
      "[201]\tvalidation_0-merror:0.001176\tvalidation_0-mlogloss:0.02347\tvalidation_1-merror:0.037618\tvalidation_1-mlogloss:0.115262\n",
      "[202]\tvalidation_0-merror:0.001176\tvalidation_0-mlogloss:0.023229\tvalidation_1-merror:0.037618\tvalidation_1-mlogloss:0.115122\n",
      "[203]\tvalidation_0-merror:0.001176\tvalidation_0-mlogloss:0.022988\tvalidation_1-merror:0.037618\tvalidation_1-mlogloss:0.114991\n",
      "[204]\tvalidation_0-merror:0.001176\tvalidation_0-mlogloss:0.022756\tvalidation_1-merror:0.037618\tvalidation_1-mlogloss:0.11478\n",
      "[205]\tvalidation_0-merror:0.001176\tvalidation_0-mlogloss:0.022532\tvalidation_1-merror:0.037618\tvalidation_1-mlogloss:0.114503\n",
      "[206]\tvalidation_0-merror:0.001176\tvalidation_0-mlogloss:0.02231\tvalidation_1-merror:0.037618\tvalidation_1-mlogloss:0.114277\n",
      "[207]\tvalidation_0-merror:0.001176\tvalidation_0-mlogloss:0.022089\tvalidation_1-merror:0.037618\tvalidation_1-mlogloss:0.114141\n",
      "[208]\tvalidation_0-merror:0.001176\tvalidation_0-mlogloss:0.021868\tvalidation_1-merror:0.037618\tvalidation_1-mlogloss:0.11395\n",
      "[209]\tvalidation_0-merror:0.001176\tvalidation_0-mlogloss:0.021654\tvalidation_1-merror:0.037618\tvalidation_1-mlogloss:0.113851\n",
      "[210]\tvalidation_0-merror:0.001176\tvalidation_0-mlogloss:0.021445\tvalidation_1-merror:0.037618\tvalidation_1-mlogloss:0.113671\n",
      "[211]\tvalidation_0-merror:0.001176\tvalidation_0-mlogloss:0.021235\tvalidation_1-merror:0.037618\tvalidation_1-mlogloss:0.11355\n",
      "[212]\tvalidation_0-merror:0.001176\tvalidation_0-mlogloss:0.021028\tvalidation_1-merror:0.037618\tvalidation_1-mlogloss:0.113356\n",
      "[213]\tvalidation_0-merror:0.001176\tvalidation_0-mlogloss:0.020832\tvalidation_1-merror:0.037618\tvalidation_1-mlogloss:0.113175\n",
      "[214]\tvalidation_0-merror:0.001176\tvalidation_0-mlogloss:0.020633\tvalidation_1-merror:0.037618\tvalidation_1-mlogloss:0.113052\n",
      "[215]\tvalidation_0-merror:0.001176\tvalidation_0-mlogloss:0.020442\tvalidation_1-merror:0.037618\tvalidation_1-mlogloss:0.112827\n",
      "[216]\tvalidation_0-merror:0.001176\tvalidation_0-mlogloss:0.020252\tvalidation_1-merror:0.037618\tvalidation_1-mlogloss:0.112647\n",
      "[217]\tvalidation_0-merror:0.001176\tvalidation_0-mlogloss:0.020065\tvalidation_1-merror:0.037618\tvalidation_1-mlogloss:0.112494\n",
      "[218]\tvalidation_0-merror:0.001176\tvalidation_0-mlogloss:0.019879\tvalidation_1-merror:0.037618\tvalidation_1-mlogloss:0.112369\n",
      "[219]\tvalidation_0-merror:0.001176\tvalidation_0-mlogloss:0.019702\tvalidation_1-merror:0.037618\tvalidation_1-mlogloss:0.112201\n",
      "[220]\tvalidation_0-merror:0.001176\tvalidation_0-mlogloss:0.019522\tvalidation_1-merror:0.037618\tvalidation_1-mlogloss:0.112087\n",
      "[221]\tvalidation_0-merror:0.001176\tvalidation_0-mlogloss:0.019341\tvalidation_1-merror:0.037618\tvalidation_1-mlogloss:0.112004\n",
      "[222]\tvalidation_0-merror:0.001176\tvalidation_0-mlogloss:0.019165\tvalidation_1-merror:0.037618\tvalidation_1-mlogloss:0.11187\n",
      "[223]\tvalidation_0-merror:0.001176\tvalidation_0-mlogloss:0.018992\tvalidation_1-merror:0.037618\tvalidation_1-mlogloss:0.111744\n",
      "[224]\tvalidation_0-merror:0.001176\tvalidation_0-mlogloss:0.018817\tvalidation_1-merror:0.037618\tvalidation_1-mlogloss:0.111679\n",
      "[225]\tvalidation_0-merror:0.001176\tvalidation_0-mlogloss:0.018647\tvalidation_1-merror:0.037618\tvalidation_1-mlogloss:0.11164\n",
      "[226]\tvalidation_0-merror:0.001176\tvalidation_0-mlogloss:0.018476\tvalidation_1-merror:0.037618\tvalidation_1-mlogloss:0.111505\n",
      "[227]\tvalidation_0-merror:0.001176\tvalidation_0-mlogloss:0.018311\tvalidation_1-merror:0.037618\tvalidation_1-mlogloss:0.111372\n",
      "[228]\tvalidation_0-merror:0.001176\tvalidation_0-mlogloss:0.018147\tvalidation_1-merror:0.037618\tvalidation_1-mlogloss:0.11118\n",
      "[229]\tvalidation_0-merror:0.000784\tvalidation_0-mlogloss:0.017985\tvalidation_1-merror:0.037618\tvalidation_1-mlogloss:0.111082\n",
      "[230]\tvalidation_0-merror:0.000784\tvalidation_0-mlogloss:0.017827\tvalidation_1-merror:0.037618\tvalidation_1-mlogloss:0.111019\n",
      "[231]\tvalidation_0-merror:0.000784\tvalidation_0-mlogloss:0.017668\tvalidation_1-merror:0.037618\tvalidation_1-mlogloss:0.111024\n",
      "[232]\tvalidation_0-merror:0.000784\tvalidation_0-mlogloss:0.017514\tvalidation_1-merror:0.037618\tvalidation_1-mlogloss:0.110821\n",
      "[233]\tvalidation_0-merror:0.000784\tvalidation_0-mlogloss:0.017361\tvalidation_1-merror:0.037618\tvalidation_1-mlogloss:0.110727\n",
      "[234]\tvalidation_0-merror:0.000784\tvalidation_0-mlogloss:0.017215\tvalidation_1-merror:0.037618\tvalidation_1-mlogloss:0.110673\n",
      "[235]\tvalidation_0-merror:0.000784\tvalidation_0-mlogloss:0.017068\tvalidation_1-merror:0.037618\tvalidation_1-mlogloss:0.110576\n",
      "[236]\tvalidation_0-merror:0.000784\tvalidation_0-mlogloss:0.016929\tvalidation_1-merror:0.037618\tvalidation_1-mlogloss:0.110492\n",
      "[237]\tvalidation_0-merror:0.000784\tvalidation_0-mlogloss:0.016787\tvalidation_1-merror:0.037618\tvalidation_1-mlogloss:0.110399\n",
      "[238]\tvalidation_0-merror:0.000784\tvalidation_0-mlogloss:0.016652\tvalidation_1-merror:0.039185\tvalidation_1-mlogloss:0.110387\n",
      "[239]\tvalidation_0-merror:0.000784\tvalidation_0-mlogloss:0.016515\tvalidation_1-merror:0.039185\tvalidation_1-mlogloss:0.110264\n",
      "[240]\tvalidation_0-merror:0.000784\tvalidation_0-mlogloss:0.01638\tvalidation_1-merror:0.039185\tvalidation_1-mlogloss:0.110165\n",
      "[241]\tvalidation_0-merror:0.000784\tvalidation_0-mlogloss:0.016251\tvalidation_1-merror:0.037618\tvalidation_1-mlogloss:0.110036\n",
      "[242]\tvalidation_0-merror:0.000784\tvalidation_0-mlogloss:0.016121\tvalidation_1-merror:0.039185\tvalidation_1-mlogloss:0.109939\n",
      "[243]\tvalidation_0-merror:0.000784\tvalidation_0-mlogloss:0.015994\tvalidation_1-merror:0.037618\tvalidation_1-mlogloss:0.109851\n",
      "[244]\tvalidation_0-merror:0.000784\tvalidation_0-mlogloss:0.015868\tvalidation_1-merror:0.039185\tvalidation_1-mlogloss:0.109812\n",
      "[245]\tvalidation_0-merror:0.000784\tvalidation_0-mlogloss:0.015747\tvalidation_1-merror:0.039185\tvalidation_1-mlogloss:0.109688\n",
      "[246]\tvalidation_0-merror:0.000784\tvalidation_0-mlogloss:0.015622\tvalidation_1-merror:0.039185\tvalidation_1-mlogloss:0.109627\n",
      "[247]\tvalidation_0-merror:0.000784\tvalidation_0-mlogloss:0.015504\tvalidation_1-merror:0.039185\tvalidation_1-mlogloss:0.10951\n",
      "[248]\tvalidation_0-merror:0.000784\tvalidation_0-mlogloss:0.015383\tvalidation_1-merror:0.039185\tvalidation_1-mlogloss:0.109432\n",
      "[249]\tvalidation_0-merror:0.000784\tvalidation_0-mlogloss:0.015265\tvalidation_1-merror:0.039185\tvalidation_1-mlogloss:0.10934\n",
      "[250]\tvalidation_0-merror:0.000784\tvalidation_0-mlogloss:0.015147\tvalidation_1-merror:0.039185\tvalidation_1-mlogloss:0.109247\n",
      "[251]\tvalidation_0-merror:0.000784\tvalidation_0-mlogloss:0.015033\tvalidation_1-merror:0.039185\tvalidation_1-mlogloss:0.10923\n",
      "[252]\tvalidation_0-merror:0.000784\tvalidation_0-mlogloss:0.014916\tvalidation_1-merror:0.037618\tvalidation_1-mlogloss:0.109167\n",
      "[253]\tvalidation_0-merror:0.000784\tvalidation_0-mlogloss:0.014807\tvalidation_1-merror:0.039185\tvalidation_1-mlogloss:0.109093\n",
      "[254]\tvalidation_0-merror:0.000784\tvalidation_0-mlogloss:0.014692\tvalidation_1-merror:0.037618\tvalidation_1-mlogloss:0.109057\n",
      "[255]\tvalidation_0-merror:0.000784\tvalidation_0-mlogloss:0.014585\tvalidation_1-merror:0.037618\tvalidation_1-mlogloss:0.108964\n",
      "[256]\tvalidation_0-merror:0.000784\tvalidation_0-mlogloss:0.014476\tvalidation_1-merror:0.037618\tvalidation_1-mlogloss:0.108878\n",
      "[257]\tvalidation_0-merror:0.000784\tvalidation_0-mlogloss:0.014369\tvalidation_1-merror:0.037618\tvalidation_1-mlogloss:0.108781\n",
      "[258]\tvalidation_0-merror:0.000784\tvalidation_0-mlogloss:0.014266\tvalidation_1-merror:0.037618\tvalidation_1-mlogloss:0.108662\n",
      "[259]\tvalidation_0-merror:0.000784\tvalidation_0-mlogloss:0.014157\tvalidation_1-merror:0.039185\tvalidation_1-mlogloss:0.108553\n",
      "[260]\tvalidation_0-merror:0.000784\tvalidation_0-mlogloss:0.014054\tvalidation_1-merror:0.039185\tvalidation_1-mlogloss:0.108494\n",
      "[261]\tvalidation_0-merror:0.000784\tvalidation_0-mlogloss:0.013947\tvalidation_1-merror:0.037618\tvalidation_1-mlogloss:0.108451\n",
      "[262]\tvalidation_0-merror:0.000784\tvalidation_0-mlogloss:0.013849\tvalidation_1-merror:0.037618\tvalidation_1-mlogloss:0.108378\n"
     ]
    },
    {
     "name": "stdout",
     "output_type": "stream",
     "text": [
      "[263]\tvalidation_0-merror:0.000784\tvalidation_0-mlogloss:0.013755\tvalidation_1-merror:0.037618\tvalidation_1-mlogloss:0.108365\n",
      "[264]\tvalidation_0-merror:0.000784\tvalidation_0-mlogloss:0.013653\tvalidation_1-merror:0.037618\tvalidation_1-mlogloss:0.10822\n",
      "[265]\tvalidation_0-merror:0.000784\tvalidation_0-mlogloss:0.013555\tvalidation_1-merror:0.037618\tvalidation_1-mlogloss:0.108078\n",
      "[266]\tvalidation_0-merror:0.000784\tvalidation_0-mlogloss:0.013456\tvalidation_1-merror:0.037618\tvalidation_1-mlogloss:0.108038\n",
      "[267]\tvalidation_0-merror:0.000784\tvalidation_0-mlogloss:0.013364\tvalidation_1-merror:0.037618\tvalidation_1-mlogloss:0.107888\n",
      "[268]\tvalidation_0-merror:0.000784\tvalidation_0-mlogloss:0.013269\tvalidation_1-merror:0.037618\tvalidation_1-mlogloss:0.107819\n",
      "[269]\tvalidation_0-merror:0.000784\tvalidation_0-mlogloss:0.013179\tvalidation_1-merror:0.037618\tvalidation_1-mlogloss:0.107804\n",
      "[270]\tvalidation_0-merror:0.000784\tvalidation_0-mlogloss:0.013085\tvalidation_1-merror:0.037618\tvalidation_1-mlogloss:0.107737\n",
      "[271]\tvalidation_0-merror:0.000784\tvalidation_0-mlogloss:0.012995\tvalidation_1-merror:0.037618\tvalidation_1-mlogloss:0.107679\n",
      "[272]\tvalidation_0-merror:0.000784\tvalidation_0-mlogloss:0.012904\tvalidation_1-merror:0.037618\tvalidation_1-mlogloss:0.107584\n",
      "[273]\tvalidation_0-merror:0.000784\tvalidation_0-mlogloss:0.012824\tvalidation_1-merror:0.037618\tvalidation_1-mlogloss:0.107539\n",
      "[274]\tvalidation_0-merror:0.000784\tvalidation_0-mlogloss:0.012737\tvalidation_1-merror:0.037618\tvalidation_1-mlogloss:0.107494\n",
      "[275]\tvalidation_0-merror:0.000784\tvalidation_0-mlogloss:0.012656\tvalidation_1-merror:0.037618\tvalidation_1-mlogloss:0.107405\n",
      "[276]\tvalidation_0-merror:0.000784\tvalidation_0-mlogloss:0.012568\tvalidation_1-merror:0.037618\tvalidation_1-mlogloss:0.107321\n",
      "[277]\tvalidation_0-merror:0.000784\tvalidation_0-mlogloss:0.012491\tvalidation_1-merror:0.037618\tvalidation_1-mlogloss:0.107282\n",
      "[278]\tvalidation_0-merror:0.000784\tvalidation_0-mlogloss:0.012408\tvalidation_1-merror:0.037618\tvalidation_1-mlogloss:0.107226\n",
      "[279]\tvalidation_0-merror:0.000784\tvalidation_0-mlogloss:0.01233\tvalidation_1-merror:0.037618\tvalidation_1-mlogloss:0.107222\n",
      "[280]\tvalidation_0-merror:0.000784\tvalidation_0-mlogloss:0.012248\tvalidation_1-merror:0.037618\tvalidation_1-mlogloss:0.107123\n",
      "[281]\tvalidation_0-merror:0.000784\tvalidation_0-mlogloss:0.012169\tvalidation_1-merror:0.037618\tvalidation_1-mlogloss:0.107089\n",
      "[282]\tvalidation_0-merror:0.000784\tvalidation_0-mlogloss:0.012098\tvalidation_1-merror:0.037618\tvalidation_1-mlogloss:0.107053\n",
      "[283]\tvalidation_0-merror:0.000784\tvalidation_0-mlogloss:0.012013\tvalidation_1-merror:0.037618\tvalidation_1-mlogloss:0.106987\n",
      "[284]\tvalidation_0-merror:0.000784\tvalidation_0-mlogloss:0.011937\tvalidation_1-merror:0.037618\tvalidation_1-mlogloss:0.106908\n",
      "[285]\tvalidation_0-merror:0.000784\tvalidation_0-mlogloss:0.01186\tvalidation_1-merror:0.037618\tvalidation_1-mlogloss:0.106953\n",
      "[286]\tvalidation_0-merror:0.000784\tvalidation_0-mlogloss:0.011781\tvalidation_1-merror:0.037618\tvalidation_1-mlogloss:0.106867\n",
      "[287]\tvalidation_0-merror:0.000784\tvalidation_0-mlogloss:0.011711\tvalidation_1-merror:0.037618\tvalidation_1-mlogloss:0.106933\n",
      "[288]\tvalidation_0-merror:0.000784\tvalidation_0-mlogloss:0.011633\tvalidation_1-merror:0.037618\tvalidation_1-mlogloss:0.106874\n",
      "[289]\tvalidation_0-merror:0.000784\tvalidation_0-mlogloss:0.011565\tvalidation_1-merror:0.037618\tvalidation_1-mlogloss:0.106881\n",
      "[290]\tvalidation_0-merror:0.000784\tvalidation_0-mlogloss:0.011488\tvalidation_1-merror:0.037618\tvalidation_1-mlogloss:0.106797\n",
      "[291]\tvalidation_0-merror:0.000784\tvalidation_0-mlogloss:0.011413\tvalidation_1-merror:0.037618\tvalidation_1-mlogloss:0.106726\n",
      "[292]\tvalidation_0-merror:0.000784\tvalidation_0-mlogloss:0.011342\tvalidation_1-merror:0.037618\tvalidation_1-mlogloss:0.106686\n",
      "[293]\tvalidation_0-merror:0.000784\tvalidation_0-mlogloss:0.011269\tvalidation_1-merror:0.037618\tvalidation_1-mlogloss:0.106605\n",
      "[294]\tvalidation_0-merror:0.000784\tvalidation_0-mlogloss:0.0112\tvalidation_1-merror:0.037618\tvalidation_1-mlogloss:0.106544\n",
      "[295]\tvalidation_0-merror:0.000784\tvalidation_0-mlogloss:0.011128\tvalidation_1-merror:0.037618\tvalidation_1-mlogloss:0.106454\n",
      "[296]\tvalidation_0-merror:0.000784\tvalidation_0-mlogloss:0.011067\tvalidation_1-merror:0.037618\tvalidation_1-mlogloss:0.106456\n",
      "[297]\tvalidation_0-merror:0.000784\tvalidation_0-mlogloss:0.010996\tvalidation_1-merror:0.037618\tvalidation_1-mlogloss:0.106435\n",
      "[298]\tvalidation_0-merror:0.000784\tvalidation_0-mlogloss:0.01093\tvalidation_1-merror:0.037618\tvalidation_1-mlogloss:0.106333\n",
      "[299]\tvalidation_0-merror:0.000784\tvalidation_0-mlogloss:0.010865\tvalidation_1-merror:0.037618\tvalidation_1-mlogloss:0.106265\n",
      "[300]\tvalidation_0-merror:0.000784\tvalidation_0-mlogloss:0.010802\tvalidation_1-merror:0.037618\tvalidation_1-mlogloss:0.106189\n",
      "[301]\tvalidation_0-merror:0.000784\tvalidation_0-mlogloss:0.010741\tvalidation_1-merror:0.039185\tvalidation_1-mlogloss:0.106184\n",
      "[302]\tvalidation_0-merror:0.000784\tvalidation_0-mlogloss:0.010674\tvalidation_1-merror:0.039185\tvalidation_1-mlogloss:0.106104\n",
      "[303]\tvalidation_0-merror:0.000784\tvalidation_0-mlogloss:0.010614\tvalidation_1-merror:0.039185\tvalidation_1-mlogloss:0.106123\n",
      "[304]\tvalidation_0-merror:0.000784\tvalidation_0-mlogloss:0.010548\tvalidation_1-merror:0.039185\tvalidation_1-mlogloss:0.105999\n",
      "[305]\tvalidation_0-merror:0.000784\tvalidation_0-mlogloss:0.01049\tvalidation_1-merror:0.039185\tvalidation_1-mlogloss:0.106042\n",
      "[306]\tvalidation_0-merror:0.000784\tvalidation_0-mlogloss:0.010427\tvalidation_1-merror:0.039185\tvalidation_1-mlogloss:0.105964\n",
      "[307]\tvalidation_0-merror:0.000784\tvalidation_0-mlogloss:0.010372\tvalidation_1-merror:0.039185\tvalidation_1-mlogloss:0.105898\n",
      "[308]\tvalidation_0-merror:0.000784\tvalidation_0-mlogloss:0.010317\tvalidation_1-merror:0.039185\tvalidation_1-mlogloss:0.105949\n",
      "[309]\tvalidation_0-merror:0.000784\tvalidation_0-mlogloss:0.010257\tvalidation_1-merror:0.039185\tvalidation_1-mlogloss:0.105865\n",
      "[310]\tvalidation_0-merror:0.000784\tvalidation_0-mlogloss:0.010199\tvalidation_1-merror:0.039185\tvalidation_1-mlogloss:0.105809\n",
      "[311]\tvalidation_0-merror:0.000784\tvalidation_0-mlogloss:0.010141\tvalidation_1-merror:0.039185\tvalidation_1-mlogloss:0.105787\n",
      "[312]\tvalidation_0-merror:0.000784\tvalidation_0-mlogloss:0.010089\tvalidation_1-merror:0.039185\tvalidation_1-mlogloss:0.105726\n",
      "[313]\tvalidation_0-merror:0.000784\tvalidation_0-mlogloss:0.010034\tvalidation_1-merror:0.039185\tvalidation_1-mlogloss:0.105735\n",
      "[314]\tvalidation_0-merror:0.000784\tvalidation_0-mlogloss:0.009978\tvalidation_1-merror:0.039185\tvalidation_1-mlogloss:0.105716\n",
      "[315]\tvalidation_0-merror:0.000784\tvalidation_0-mlogloss:0.009924\tvalidation_1-merror:0.039185\tvalidation_1-mlogloss:0.105735\n",
      "[316]\tvalidation_0-merror:0.000784\tvalidation_0-mlogloss:0.009869\tvalidation_1-merror:0.039185\tvalidation_1-mlogloss:0.105607\n",
      "[317]\tvalidation_0-merror:0.000784\tvalidation_0-mlogloss:0.009818\tvalidation_1-merror:0.039185\tvalidation_1-mlogloss:0.105541\n",
      "[318]\tvalidation_0-merror:0.000784\tvalidation_0-mlogloss:0.009765\tvalidation_1-merror:0.039185\tvalidation_1-mlogloss:0.105521\n",
      "[319]\tvalidation_0-merror:0.000784\tvalidation_0-mlogloss:0.009714\tvalidation_1-merror:0.039185\tvalidation_1-mlogloss:0.105538\n",
      "[320]\tvalidation_0-merror:0.000784\tvalidation_0-mlogloss:0.009666\tvalidation_1-merror:0.039185\tvalidation_1-mlogloss:0.105587\n",
      "[321]\tvalidation_0-merror:0.000784\tvalidation_0-mlogloss:0.009613\tvalidation_1-merror:0.039185\tvalidation_1-mlogloss:0.105504\n",
      "[322]\tvalidation_0-merror:0.000784\tvalidation_0-mlogloss:0.009563\tvalidation_1-merror:0.039185\tvalidation_1-mlogloss:0.105557\n",
      "[323]\tvalidation_0-merror:0.000784\tvalidation_0-mlogloss:0.009511\tvalidation_1-merror:0.039185\tvalidation_1-mlogloss:0.105548\n",
      "[324]\tvalidation_0-merror:0.000784\tvalidation_0-mlogloss:0.009463\tvalidation_1-merror:0.039185\tvalidation_1-mlogloss:0.105495\n",
      "[325]\tvalidation_0-merror:0.000784\tvalidation_0-mlogloss:0.009417\tvalidation_1-merror:0.039185\tvalidation_1-mlogloss:0.10546\n",
      "[326]\tvalidation_0-merror:0.000784\tvalidation_0-mlogloss:0.009365\tvalidation_1-merror:0.039185\tvalidation_1-mlogloss:0.105359\n",
      "[327]\tvalidation_0-merror:0.000784\tvalidation_0-mlogloss:0.009321\tvalidation_1-merror:0.039185\tvalidation_1-mlogloss:0.105345\n",
      "[328]\tvalidation_0-merror:0.000784\tvalidation_0-mlogloss:0.009273\tvalidation_1-merror:0.039185\tvalidation_1-mlogloss:0.105306\n"
     ]
    },
    {
     "name": "stdout",
     "output_type": "stream",
     "text": [
      "[329]\tvalidation_0-merror:0.000784\tvalidation_0-mlogloss:0.009228\tvalidation_1-merror:0.039185\tvalidation_1-mlogloss:0.105312\n",
      "[330]\tvalidation_0-merror:0.000784\tvalidation_0-mlogloss:0.009179\tvalidation_1-merror:0.039185\tvalidation_1-mlogloss:0.105229\n",
      "[331]\tvalidation_0-merror:0.000784\tvalidation_0-mlogloss:0.009134\tvalidation_1-merror:0.039185\tvalidation_1-mlogloss:0.105274\n",
      "[332]\tvalidation_0-merror:0.000784\tvalidation_0-mlogloss:0.009089\tvalidation_1-merror:0.039185\tvalidation_1-mlogloss:0.105232\n",
      "[333]\tvalidation_0-merror:0.000784\tvalidation_0-mlogloss:0.009045\tvalidation_1-merror:0.039185\tvalidation_1-mlogloss:0.105212\n",
      "[334]\tvalidation_0-merror:0.000784\tvalidation_0-mlogloss:0.008999\tvalidation_1-merror:0.039185\tvalidation_1-mlogloss:0.105172\n",
      "[335]\tvalidation_0-merror:0.000784\tvalidation_0-mlogloss:0.008955\tvalidation_1-merror:0.039185\tvalidation_1-mlogloss:0.105181\n",
      "[336]\tvalidation_0-merror:0.000784\tvalidation_0-mlogloss:0.008912\tvalidation_1-merror:0.039185\tvalidation_1-mlogloss:0.105197\n",
      "[337]\tvalidation_0-merror:0.000784\tvalidation_0-mlogloss:0.008869\tvalidation_1-merror:0.039185\tvalidation_1-mlogloss:0.105161\n",
      "[338]\tvalidation_0-merror:0.000784\tvalidation_0-mlogloss:0.008832\tvalidation_1-merror:0.039185\tvalidation_1-mlogloss:0.105142\n",
      "[339]\tvalidation_0-merror:0.000784\tvalidation_0-mlogloss:0.00879\tvalidation_1-merror:0.039185\tvalidation_1-mlogloss:0.105078\n",
      "[340]\tvalidation_0-merror:0.000784\tvalidation_0-mlogloss:0.008748\tvalidation_1-merror:0.039185\tvalidation_1-mlogloss:0.105118\n",
      "[341]\tvalidation_0-merror:0.000784\tvalidation_0-mlogloss:0.008707\tvalidation_1-merror:0.039185\tvalidation_1-mlogloss:0.105092\n",
      "[342]\tvalidation_0-merror:0.000784\tvalidation_0-mlogloss:0.008666\tvalidation_1-merror:0.039185\tvalidation_1-mlogloss:0.105012\n",
      "[343]\tvalidation_0-merror:0.000784\tvalidation_0-mlogloss:0.008626\tvalidation_1-merror:0.039185\tvalidation_1-mlogloss:0.10501\n",
      "[344]\tvalidation_0-merror:0.000784\tvalidation_0-mlogloss:0.008589\tvalidation_1-merror:0.039185\tvalidation_1-mlogloss:0.104959\n",
      "[345]\tvalidation_0-merror:0.000784\tvalidation_0-mlogloss:0.008549\tvalidation_1-merror:0.039185\tvalidation_1-mlogloss:0.10489\n",
      "[346]\tvalidation_0-merror:0.000784\tvalidation_0-mlogloss:0.008511\tvalidation_1-merror:0.039185\tvalidation_1-mlogloss:0.10491\n",
      "[347]\tvalidation_0-merror:0.000784\tvalidation_0-mlogloss:0.008472\tvalidation_1-merror:0.039185\tvalidation_1-mlogloss:0.104863\n",
      "[348]\tvalidation_0-merror:0.000784\tvalidation_0-mlogloss:0.008433\tvalidation_1-merror:0.039185\tvalidation_1-mlogloss:0.104872\n",
      "[349]\tvalidation_0-merror:0.000784\tvalidation_0-mlogloss:0.008398\tvalidation_1-merror:0.039185\tvalidation_1-mlogloss:0.104863\n",
      "[350]\tvalidation_0-merror:0.000784\tvalidation_0-mlogloss:0.008361\tvalidation_1-merror:0.039185\tvalidation_1-mlogloss:0.104782\n",
      "[351]\tvalidation_0-merror:0.000784\tvalidation_0-mlogloss:0.008323\tvalidation_1-merror:0.039185\tvalidation_1-mlogloss:0.104801\n",
      "[352]\tvalidation_0-merror:0.000784\tvalidation_0-mlogloss:0.008286\tvalidation_1-merror:0.039185\tvalidation_1-mlogloss:0.104836\n",
      "[353]\tvalidation_0-merror:0.000784\tvalidation_0-mlogloss:0.008252\tvalidation_1-merror:0.039185\tvalidation_1-mlogloss:0.104853\n",
      "[354]\tvalidation_0-merror:0.000784\tvalidation_0-mlogloss:0.008216\tvalidation_1-merror:0.039185\tvalidation_1-mlogloss:0.104837\n",
      "[355]\tvalidation_0-merror:0.000784\tvalidation_0-mlogloss:0.008179\tvalidation_1-merror:0.039185\tvalidation_1-mlogloss:0.104923\n",
      "[356]\tvalidation_0-merror:0.000784\tvalidation_0-mlogloss:0.008144\tvalidation_1-merror:0.039185\tvalidation_1-mlogloss:0.104933\n",
      "[357]\tvalidation_0-merror:0.000784\tvalidation_0-mlogloss:0.008109\tvalidation_1-merror:0.039185\tvalidation_1-mlogloss:0.104875\n",
      "[358]\tvalidation_0-merror:0.000784\tvalidation_0-mlogloss:0.008074\tvalidation_1-merror:0.039185\tvalidation_1-mlogloss:0.104931\n",
      "[359]\tvalidation_0-merror:0.000784\tvalidation_0-mlogloss:0.008041\tvalidation_1-merror:0.039185\tvalidation_1-mlogloss:0.104817\n",
      "[360]\tvalidation_0-merror:0.000784\tvalidation_0-mlogloss:0.008006\tvalidation_1-merror:0.039185\tvalidation_1-mlogloss:0.104877\n",
      "[361]\tvalidation_0-merror:0.000784\tvalidation_0-mlogloss:0.007972\tvalidation_1-merror:0.039185\tvalidation_1-mlogloss:0.104931\n",
      "[362]\tvalidation_0-merror:0.000784\tvalidation_0-mlogloss:0.007939\tvalidation_1-merror:0.039185\tvalidation_1-mlogloss:0.10493\n",
      "[363]\tvalidation_0-merror:0.000784\tvalidation_0-mlogloss:0.007907\tvalidation_1-merror:0.039185\tvalidation_1-mlogloss:0.104905\n",
      "[364]\tvalidation_0-merror:0.000784\tvalidation_0-mlogloss:0.007875\tvalidation_1-merror:0.039185\tvalidation_1-mlogloss:0.104907\n",
      "[365]\tvalidation_0-merror:0.000784\tvalidation_0-mlogloss:0.007843\tvalidation_1-merror:0.039185\tvalidation_1-mlogloss:0.10494\n",
      "[366]\tvalidation_0-merror:0.000784\tvalidation_0-mlogloss:0.007812\tvalidation_1-merror:0.039185\tvalidation_1-mlogloss:0.104908\n",
      "[367]\tvalidation_0-merror:0.000784\tvalidation_0-mlogloss:0.007779\tvalidation_1-merror:0.039185\tvalidation_1-mlogloss:0.104918\n",
      "[368]\tvalidation_0-merror:0.000784\tvalidation_0-mlogloss:0.007746\tvalidation_1-merror:0.039185\tvalidation_1-mlogloss:0.104895\n",
      "[369]\tvalidation_0-merror:0.000784\tvalidation_0-mlogloss:0.007714\tvalidation_1-merror:0.039185\tvalidation_1-mlogloss:0.10498\n",
      "[370]\tvalidation_0-merror:0.000392\tvalidation_0-mlogloss:0.007682\tvalidation_1-merror:0.039185\tvalidation_1-mlogloss:0.104981\n",
      "Stopping. Best iteration:\n",
      "[350]\tvalidation_0-merror:0.000784\tvalidation_0-mlogloss:0.008361\tvalidation_1-merror:0.039185\tvalidation_1-mlogloss:0.104782\n",
      "\n",
      "XGBoost classifier Accuracy:  0.9608150470219435\n",
      "              precision    recall  f1-score   support\n",
      "\n",
      "          EI       0.96      0.98      0.97       179\n",
      "          IE       0.92      0.96      0.94       140\n",
      "           N       0.98      0.95      0.96       319\n",
      "\n",
      "   micro avg       0.96      0.96      0.96       638\n",
      "   macro avg       0.95      0.96      0.96       638\n",
      "weighted avg       0.96      0.96      0.96       638\n",
      "\n",
      "Confusion matrix, without normalization\n",
      "[[176   2   1]\n",
      " [  1 134   5]\n",
      " [  6  10 303]]\n",
      "Normalized confusion matrix\n",
      "[[0.98 0.01 0.01]\n",
      " [0.01 0.96 0.04]\n",
      " [0.02 0.03 0.95]]\n"
     ]
    },
    {
     "data": {
      "image/png": "[encoded data removed]",
      "text/plain": [
       "<Figure size 432x288 with 2 Axes>"
      ]
     },
     "metadata": {
      "needs_background": "light"
     },
     "output_type": "display_data"
    },
    {
     "data": {
      "image/png": "[encoded data removed]",
      "text/plain": [
       "<Figure size 432x288 with 2 Axes>"
      ]
     },
     "metadata": {
      "needs_background": "light"
     },
     "output_type": "display_data"
    }
   ],
   "source": [
    "eval_set=[(X_train, y_train), (X_test, y_test)]\n",
    "\n",
    "xgb = xgboost.sklearn.XGBClassifier(\n",
    "    objective=\"multi:softprob\",\n",
    "    learning_rate=0.025,\n",
    "    seed=9616, #seed that is not random\n",
    "    max_depth=20,\n",
    "    gamma=0,\n",
    "    n_estimators=500)\n",
    "\n",
    "xgb.fit(X_train, y_train, early_stopping_rounds=20, eval_metric=[\"merror\", \"mlogloss\"], eval_set=eval_set, verbose=False)\n",
    "y_pred = xgb.predict(X_test)\n",
    "\n",
    "accuracy = accuracy_score(y_test, y_pred)\n",
    "print(\"XGBoost classifier Accuracy: \" , accuracy)\n",
    "\n",
    "#classification report for each label\n",
    "print(classification_report(y_test, y_pred))\n",
    "\n",
    "confusion(y_pred)"
   ]
  },
  {
   "cell_type": "code",
   "execution_count": 34,
   "metadata": {},
   "outputs": [
    {
     "name": "stdout",
     "output_type": "stream",
     "text": [
      "MultinomialNB Accuracy:  0.9435736677115988\n",
      "              precision    recall  f1-score   support\n",
      "\n",
      "          EI       0.95      0.92      0.94       179\n",
      "          IE       0.91      0.93      0.92       140\n",
      "           N       0.95      0.96      0.96       319\n",
      "\n",
      "   micro avg       0.94      0.94      0.94       638\n",
      "   macro avg       0.94      0.94      0.94       638\n",
      "weighted avg       0.94      0.94      0.94       638\n",
      "\n",
      "Confusion matrix, without normalization\n",
      "[[165   6   8]\n",
      " [  3 130   7]\n",
      " [  5   7 307]]\n",
      "Normalized confusion matrix\n",
      "[[0.92 0.03 0.04]\n",
      " [0.02 0.93 0.05]\n",
      " [0.02 0.02 0.96]]\n"
     ]
    },
    {
     "data": {
      "image/png": "[encoded data removed]",
      "text/plain": [
       "<Figure size 432x288 with 2 Axes>"
      ]
     },
     "metadata": {
      "needs_background": "light"
     },
     "output_type": "display_data"
    },
    {
     "data": {
      "image/png": "[encoded data removed]",
      "text/plain": [
       "<Figure size 432x288 with 2 Axes>"
      ]
     },
     "metadata": {
      "needs_background": "light"
     },
     "output_type": "display_data"
    }
   ],
   "source": [
    "classifier = MultinomialNB()\n",
    "classifier.fit(X_train, y_train)\n",
    "y_pred = classifier.predict(X_test)\n",
    "\n",
    "accuracy = accuracy_score(y_test, y_pred)\n",
    "print(\"MultinomialNB Accuracy: \" , accuracy)\n",
    "\n",
    "#classification report for each label\n",
    "print(classification_report(y_test, y_pred))\n",
    "\n",
    "confusion(y_pred)"
   ]
  },
  {
   "cell_type": "markdown",
   "metadata": {},
   "source": [
    "(trivial hyperparameters adjusted, \n",
    "with same data training set)\n",
    "\n",
    "### DL algorithm : \n",
    "\n",
    "FeedForward Neural network Accuracy:  0.9545454545454546\n",
    "\n",
    "---\n",
    "\n",
    "### Classical Machine learning algorithms : \n",
    "Values can differ with regard to seed or random states\n",
    "\n",
    "    1. k_neighbor Accuracy:  0.9278996865203761\n",
    "    2. Gaussian Naive Bayes Accuracy:  0.9561128526645768\n",
    "    3. Support Vector Machine Accuracy:  0.9561128526645768\n",
    "    4. RandomForestClassifier Accuracy:  0.9717868338557993\n",
    "    5. DecisionTreeClassifier Accuracy:  0.9498432601880877\n",
    "    6. XGBoost classifier Accuracy:  0.9608150470219435\n",
    "    7. MultinomialNB Accuracy:  0.9435736677115988\n"
   ]
  },
  {
   "cell_type": "markdown",
   "metadata": {},
   "source": [
    "# Remarks\n",
    "---\n",
    "Initially, I predicted that it was necessary to implement several hidden layers to classify these dna sequences into three categories. Therefore, I tried to add hidden layers and adjust the number of nodes or learning rates of the DL algorithm. However, it turned out that having only one hidden layer and a few hidden nodes were enough to classify these sequences. (resulting in 95%> accuracy) "
   ]
  },
  {
   "cell_type": "markdown",
   "metadata": {},
   "source": [
    "Also, I supposed that for complex data such having 285 columns when onehot encoded, it would be likely that DL perform much better than classical machine learning algorithms. Instead, the result showed that some classical machine learning algorithms even performed better than DL algorithm. This suggest that dna sequence feature was not deeply complicated data, and that classical ML algorithms are much more faster in classifying small data. \n",
    "\n",
    "--- "
   ]
  },
  {
   "cell_type": "markdown",
   "metadata": {},
   "source": [
    "### Process\n",
    "\n",
    "**1. Tried to use kmer word count vectorizer because I assumed that dna sequences are turned into protein in chunks of sequences.**\n",
    "    1. Kmer performed worse than one hot encoding \n",
    "    2. Made feature unnecessarily complex\n",
    "**2. Tried to use heatmap to describe feature importance**\n",
    "    1. It turned out that for dna sequences it is not possible or feasible to choose certain columns that has more correlation to the label. \n",
    "    2. Therefore, I just included all 60 sequences in the data\n",
    "**3. For some algorithms cross validations were used to assess overfitting of the model**\n"
   ]
  },
  {
   "cell_type": "markdown",
   "metadata": {},
   "source": [
    "# Conclusion\n",
    "___\n",
    "\n",
    "### ML algorithms performed better in classification task in terms of speed and accuracy, but the difference were trivial.\n"
   ]
  },
  {
   "cell_type": "markdown",
   "metadata": {},
   "source": [
    "notebook by Tae Min Ha / taemin410@gmail.com / 01077943915 / 852+67163002 \n"
   ]
  },
  {
   "cell_type": "code",
   "execution_count": null,
   "metadata": {},
   "outputs": [],
   "source": []
  }
 ],
 "metadata": {
  "kernelspec": {
   "display_name": "Python 3",
   "language": "python",
   "name": "python3"
  },
  "language_info": {
   "codemirror_mode": {
    "name": "ipython",
    "version": 3
   },
   "file_extension": ".py",
   "mimetype": "text/x-python",
   "name": "python",
   "nbconvert_exporter": "python",
   "pygments_lexer": "ipython3",
   "version": "3.6.8"
  }
 },
 "nbformat": 4,
 "nbformat_minor": 2
}
