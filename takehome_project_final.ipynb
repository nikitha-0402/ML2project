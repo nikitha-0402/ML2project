{
 "cells": [
  {
   "cell_type": "code",
   "execution_count": 1,
   "metadata": {},
   "outputs": [
    {
     "name": "stderr",
     "output_type": "stream",
     "text": [
      "Using TensorFlow backend.\n"
     ]
    }
   ],
   "source": [
    "import numpy as np\n",
    "import pandas as pd\n",
    "from sklearn.preprocessing import OneHotEncoder\n",
    "import re\n",
    "from sklearn.metrics import classification_report, confusion_matrix\n",
    "import matplotlib.pyplot as plt\n",
    "import itertools\n",
    "from sklearn.metrics import accuracy_score\n",
    "from sklearn.neighbors import KNeighborsClassifier\n",
    "from sklearn.model_selection import train_test_split\n",
    "from sklearn.ensemble import RandomForestClassifier\n",
    "from keras.models import Sequential\n",
    "from keras.layers import Dense, Dropout\n",
    "from keras.wrappers.scikit_learn import KerasClassifier\n",
    "from sklearn.model_selection import StratifiedKFold, cross_val_score, KFold\n",
    "from keras.utils import np_utils\n",
    "from sklearn.preprocessing import LabelEncoder\n",
    "from sklearn.tree import DecisionTreeClassifier\n",
    "import xgboost\n",
    "from sklearn.naive_bayes import GaussianNB\n",
    "from sklearn.svm import SVC\n",
    "\n"
   ]
  },
  {
   "cell_type": "markdown",
   "metadata": {},
   "source": [
    "# Tasks \n",
    "\n",
    "### Generate a model in any DL/ML frameworks and use this data to learn to classify a 60 element DNA sequence into the categories of IE, EI or neither.\n",
    "### Compare performance of classical machine learning models and deep learning models.\n",
    "__Focus on making a thoughtful analysis on the comparison than raising the absolute perfomances of the methods.__\n",
    "\n",
    "\n",
    "\n",
    "# Dataset\n",
    "\n",
    "This is a dataset of DNA sequences that define the boundaries between regions that are spliced out during protein creation (introns) or retained for protein creation (exons).\n",
    "\n",
    "There are 3 classes: boundaries between exon and intron sequences (EI), boundaries between intron and exon sequences (IE), or sequences that are neither.\n",
    "\n",
    "The dataset has 3190 examples of DNA sequences.\n",
    "Each sequence is 60 base-pairs long.\n",
    "\n",
    "\n"
   ]
  },
  {
   "cell_type": "markdown",
   "metadata": {},
   "source": [
    "# Approaches\n",
    "\n",
    "### 1. Classical machine learning algorithms\n",
    "### 2. Deep learning algorithms using Keras neural network\n"
   ]
  },
  {
   "cell_type": "markdown",
   "metadata": {},
   "source": [
    "# Feature selection and preprocessing"
   ]
  },
  {
   "cell_type": "code",
   "execution_count": 2,
   "metadata": {},
   "outputs": [],
   "source": [
    "label_encoder = LabelEncoder()\n",
    "label_encoder.fit(np.array(['A','C','G','T','Z']))\n",
    "#Z for variables that are not A C G T , \n",
    "#Variables other than 4 characters are regarded equally.\n",
    "\n",
    "def one_hot_encoder(array):\n",
    "    integer_encoded = label_encoder.transform(array)\n",
    "    onehot_encoder = OneHotEncoder(sparse=False, dtype=int, categories=[range(5)])\n",
    "    integer_encoded = integer_encoded.reshape(len(integer_encoded), 1)\n",
    "    onehot_encoded = onehot_encoder.fit_transform(integer_encoded)\n",
    "    onehot_encoded = np.delete(onehot_encoded, -1, 1)\n",
    "    return onehot_encoded\n",
    "\n",
    "def dummy_data(data, columns):\n",
    "    for column in columns:\n",
    "        data = pd.concat([data, pd.get_dummies(data[column], prefix = column )], axis=1 )\n",
    "        data = data.drop(column, axis=1 )\n",
    "    return data\n",
    "\n",
    "\n",
    "    "
   ]
  },
  {
   "cell_type": "code",
   "execution_count": 3,
   "metadata": {},
   "outputs": [],
   "source": [
    "#label encoder to float numbers\n",
    "def ordinal_encoder(my_array):\n",
    "    integer_encoded = label_encoder.transform(my_array)\n",
    "    float_encoded = integer_encoded.astype(float)\n",
    "    float_encoded[float_encoded == 0] = 0.25 # A\n",
    "    float_encoded[float_encoded == 1] = 0.50 # C\n",
    "    float_encoded[float_encoded == 2] = 0.75 # G\n",
    "    float_encoded[float_encoded == 3] = 1.00 # T\n",
    "    float_encoded[float_encoded == 4] = 0.00 # anything else, z\n",
    "    return float_encoded\n",
    "\n",
    "#change the string sequence to array\n",
    "def string_to_array(my_string):\n",
    "    my_string = re.sub('[^ACGT]', 'Z', my_string)\n",
    "    my_array = np.array(list(my_string))\n",
    "    return my_array\n"
   ]
  },
  {
   "cell_type": "code",
   "execution_count": 4,
   "metadata": {},
   "outputs": [],
   "source": [
    "# read data with pandas\n",
    "data = pd.read_csv(\"splice.data\",names = [\"label\", \"attributes\", \"sequence\"])\n",
    "data2 = data.copy()"
   ]
  },
  {
   "cell_type": "code",
   "execution_count": 5,
   "metadata": {},
   "outputs": [
    {
     "data": {
      "text/plain": [
       "(3190, 3)"
      ]
     },
     "execution_count": 5,
     "metadata": {},
     "output_type": "execute_result"
    }
   ],
   "source": [
    "data.shape"
   ]
  },
  {
   "cell_type": "code",
   "execution_count": 6,
   "metadata": {},
   "outputs": [
    {
     "data": {
      "text/html": [
       "<div>\n",
       "<style scoped>\n",
       "    .dataframe tbody tr th:only-of-type {\n",
       "        vertical-align: middle;\n",
       "    }\n",
       "\n",
       "    .dataframe tbody tr th {\n",
       "        vertical-align: top;\n",
       "    }\n",
       "\n",
       "    .dataframe thead th {\n",
       "        text-align: right;\n",
       "    }\n",
       "</style>\n",
       "<table border=\"1\" class=\"dataframe\">\n",
       "  <thead>\n",
       "    <tr style=\"text-align: right;\">\n",
       "      <th></th>\n",
       "      <th>label</th>\n",
       "      <th>attributes</th>\n",
       "      <th>sequence</th>\n",
       "    </tr>\n",
       "  </thead>\n",
       "  <tbody>\n",
       "    <tr>\n",
       "      <th>0</th>\n",
       "      <td>EI</td>\n",
       "      <td>ATRINS-DONOR-521</td>\n",
       "      <td>CCAGCTGCATCACAGGAGGCCAGCGAGCAGG...</td>\n",
       "    </tr>\n",
       "    <tr>\n",
       "      <th>1</th>\n",
       "      <td>EI</td>\n",
       "      <td>ATRINS-DONOR-905</td>\n",
       "      <td>AGACCCGCCGGGAGGCGGAGGACCTGCAGGG...</td>\n",
       "    </tr>\n",
       "    <tr>\n",
       "      <th>2</th>\n",
       "      <td>EI</td>\n",
       "      <td>BABAPOE-DONOR-30</td>\n",
       "      <td>GAGGTGAAGGACGTCCTTCCCCAGGAGCCGG...</td>\n",
       "    </tr>\n",
       "    <tr>\n",
       "      <th>3</th>\n",
       "      <td>EI</td>\n",
       "      <td>BABAPOE-DONOR-867</td>\n",
       "      <td>GGGCTGCGTTGCTGGTCACATTCCTGGCAGGT...</td>\n",
       "    </tr>\n",
       "    <tr>\n",
       "      <th>4</th>\n",
       "      <td>EI</td>\n",
       "      <td>BABAPOE-DONOR-2817</td>\n",
       "      <td>GCTCAGCCCCCAGGTCACCCAGGAACTGACGTG...</td>\n",
       "    </tr>\n",
       "  </tbody>\n",
       "</table>\n",
       "</div>"
      ],
      "text/plain": [
       "  label              attributes  \\\n",
       "0    EI        ATRINS-DONOR-521   \n",
       "1    EI        ATRINS-DONOR-905   \n",
       "2    EI        BABAPOE-DONOR-30   \n",
       "3    EI       BABAPOE-DONOR-867   \n",
       "4    EI      BABAPOE-DONOR-2817   \n",
       "\n",
       "                                            sequence  \n",
       "0                 CCAGCTGCATCACAGGAGGCCAGCGAGCAGG...  \n",
       "1                 AGACCCGCCGGGAGGCGGAGGACCTGCAGGG...  \n",
       "2                 GAGGTGAAGGACGTCCTTCCCCAGGAGCCGG...  \n",
       "3                GGGCTGCGTTGCTGGTCACATTCCTGGCAGGT...  \n",
       "4               GCTCAGCCCCCAGGTCACCCAGGAACTGACGTG...  "
      ]
     },
     "execution_count": 6,
     "metadata": {},
     "output_type": "execute_result"
    }
   ],
   "source": [
    "data.head()"
   ]
  },
  {
   "cell_type": "markdown",
   "metadata": {},
   "source": [
    "---\n",
    "\n",
    "### The attributes column was not reliable for the analysis.\n",
    "\n",
    "The column consisted of data that was stricted related to the label. \n",
    "(e.g. the DONOR -> EI , NEG -> N ) \n",
    "\n",
    "__Therefore, in this task the column should be deleted__ \n",
    "\n",
    "---"
   ]
  },
  {
   "cell_type": "code",
   "execution_count": 7,
   "metadata": {},
   "outputs": [],
   "source": [
    "data.sequence = data.sequence.str.lstrip()\n",
    "#erase the empty space in front of sequence column\n",
    "\n",
    "def getKmers(sequence, size=6):\n",
    "    return [sequence[x:x+size].lower() for x in range(len(sequence) - size + 1)]\n",
    "\n",
    "data['words'] = data.apply(lambda x: getKmers(x['sequence']), axis=1)\n",
    "data = data.drop('sequence', axis=1)\n"
   ]
  },
  {
   "cell_type": "code",
   "execution_count": 8,
   "metadata": {},
   "outputs": [],
   "source": [
    "dna_texts = list(data['words'])"
   ]
  },
  {
   "cell_type": "code",
   "execution_count": 9,
   "metadata": {},
   "outputs": [],
   "source": [
    "for item in range(len(dna_texts)):\n",
    "    dna_texts[item] = ' '.join(dna_texts[item])\n",
    "y_dna = data.iloc[:, 0].values"
   ]
  },
  {
   "cell_type": "code",
   "execution_count": 10,
   "metadata": {},
   "outputs": [
    {
     "data": {
      "text/plain": [
       "'ccagct cagctg agctgc gctgca ctgcat tgcatc gcatca catcac atcaca tcacag cacagg acagga caggag aggagg ggaggc gaggcc aggcca ggccag gccagc ccagcg cagcga agcgag gcgagc cgagca gagcag agcagg gcaggt caggtc aggtct ggtctg gtctgt tctgtt ctgttc tgttcc gttcca ttccaa tccaag ccaagg caaggg aagggc agggcc gggcct ggcctt gccttc ccttcg cttcga ttcgag tcgagc cgagcc gagcca agccag gccagt ccagtc cagtct agtctg'"
      ]
     },
     "execution_count": 10,
     "metadata": {},
     "output_type": "execute_result"
    }
   ],
   "source": [
    "dna_texts[0]"
   ]
  },
  {
   "cell_type": "code",
   "execution_count": 11,
   "metadata": {},
   "outputs": [],
   "source": [
    "from sklearn.feature_extraction.text import CountVectorizer\n",
    "cv = CountVectorizer()\n",
    "X = cv.fit_transform(dna_texts)\n",
    "#use count vectorizer to vectorize and count sequences of equal length "
   ]
  },
  {
   "cell_type": "code",
   "execution_count": 12,
   "metadata": {},
   "outputs": [],
   "source": [
    "from sklearn.model_selection import train_test_split\n",
    "X_train, X_test, y_train, y_test = train_test_split(X, \n",
    "                                                    y_dna, \n",
    "                                                    test_size = 0.20)\n",
    "\n",
    "# print(y_train)"
   ]
  },
  {
   "cell_type": "code",
   "execution_count": 13,
   "metadata": {},
   "outputs": [
    {
     "name": "stdout",
     "output_type": "stream",
     "text": [
      "Confusion matrix\n",
      "\n",
      "Predicted  EI   IE    N\n",
      "Actual                 \n",
      "EI         90   13   35\n",
      "IE         11  102   40\n",
      "N          48   62  237\n",
      "accuracy = 0.672 \n",
      "precision = 0.682 \n",
      "recall = 0.672 \n",
      "f1 = 0.675\n"
     ]
    }
   ],
   "source": [
    "from sklearn.naive_bayes import MultinomialNB\n",
    "classifier = MultinomialNB()\n",
    "classifier.fit(X_train, y_train)\n",
    "y_pred = classifier.predict(X_test)\n",
    "from sklearn.metrics import accuracy_score, f1_score, precision_score, recall_score\n",
    "print(\"Confusion matrix\\n\")\n",
    "print(pd.crosstab(pd.Series(y_test, name='Actual'), pd.Series(y_pred, name='Predicted')))\n",
    "def get_metrics(y_test, y_predicted):\n",
    "    accuracy = accuracy_score(y_test, y_predicted)\n",
    "    precision = precision_score(y_test, y_predicted, average='weighted')\n",
    "    recall = recall_score(y_test, y_predicted, average='weighted')\n",
    "    f1 = f1_score(y_test, y_predicted, average='weighted')\n",
    "    return accuracy, precision, recall, f1\n",
    "accuracy, precision, recall, f1 = get_metrics(y_test, y_pred)\n",
    "print(\"accuracy = %.3f \\nprecision = %.3f \\nrecall = %.3f \\nf1 = %.3f\" % (accuracy, precision, recall, f1))\n"
   ]
  },
  {
   "cell_type": "markdown",
   "metadata": {},
   "source": [
    "### Above codes only demonstrates that using kmer algorithm to group dna sequences into groups were not very successful in achieving classification \n",
    "---\n",
    "### Therefore, the onehot encoding and label encoding were used in feature selection process\n",
    "\n",
    "---"
   ]
  },
  {
   "cell_type": "code",
   "execution_count": 14,
   "metadata": {},
   "outputs": [
    {
     "data": {
      "text/html": [
       "<div>\n",
       "<style scoped>\n",
       "    .dataframe tbody tr th:only-of-type {\n",
       "        vertical-align: middle;\n",
       "    }\n",
       "\n",
       "    .dataframe tbody tr th {\n",
       "        vertical-align: top;\n",
       "    }\n",
       "\n",
       "    .dataframe thead th {\n",
       "        text-align: right;\n",
       "    }\n",
       "</style>\n",
       "<table border=\"1\" class=\"dataframe\">\n",
       "  <thead>\n",
       "    <tr style=\"text-align: right;\">\n",
       "      <th></th>\n",
       "      <th>label</th>\n",
       "      <th>attributes</th>\n",
       "      <th>sequence</th>\n",
       "    </tr>\n",
       "  </thead>\n",
       "  <tbody>\n",
       "    <tr>\n",
       "      <th>0</th>\n",
       "      <td>EI</td>\n",
       "      <td>ATRINS-DONOR-521</td>\n",
       "      <td>[C, C, A, G, C, T, G, C, A, T, C, A, C, A, G, ...</td>\n",
       "    </tr>\n",
       "    <tr>\n",
       "      <th>1</th>\n",
       "      <td>EI</td>\n",
       "      <td>ATRINS-DONOR-905</td>\n",
       "      <td>[A, G, A, C, C, C, G, C, C, G, G, G, A, G, G, ...</td>\n",
       "    </tr>\n",
       "    <tr>\n",
       "      <th>2</th>\n",
       "      <td>EI</td>\n",
       "      <td>BABAPOE-DONOR-30</td>\n",
       "      <td>[G, A, G, G, T, G, A, A, G, G, A, C, G, T, C, ...</td>\n",
       "    </tr>\n",
       "    <tr>\n",
       "      <th>3</th>\n",
       "      <td>EI</td>\n",
       "      <td>BABAPOE-DONOR-867</td>\n",
       "      <td>[G, G, G, C, T, G, C, G, T, T, G, C, T, G, G, ...</td>\n",
       "    </tr>\n",
       "    <tr>\n",
       "      <th>4</th>\n",
       "      <td>EI</td>\n",
       "      <td>BABAPOE-DONOR-2817</td>\n",
       "      <td>[G, C, T, C, A, G, C, C, C, C, C, A, G, G, T, ...</td>\n",
       "    </tr>\n",
       "  </tbody>\n",
       "</table>\n",
       "</div>"
      ],
      "text/plain": [
       "  label              attributes  \\\n",
       "0    EI        ATRINS-DONOR-521   \n",
       "1    EI        ATRINS-DONOR-905   \n",
       "2    EI        BABAPOE-DONOR-30   \n",
       "3    EI       BABAPOE-DONOR-867   \n",
       "4    EI      BABAPOE-DONOR-2817   \n",
       "\n",
       "                                            sequence  \n",
       "0  [C, C, A, G, C, T, G, C, A, T, C, A, C, A, G, ...  \n",
       "1  [A, G, A, C, C, C, G, C, C, G, G, G, A, G, G, ...  \n",
       "2  [G, A, G, G, T, G, A, A, G, G, A, C, G, T, C, ...  \n",
       "3  [G, G, G, C, T, G, C, G, T, T, G, C, T, G, G, ...  \n",
       "4  [G, C, T, C, A, G, C, C, C, C, C, A, G, G, T, ...  "
      ]
     },
     "execution_count": 14,
     "metadata": {},
     "output_type": "execute_result"
    }
   ],
   "source": [
    "#erase empty space on the left\n",
    "data2.sequence = data2.sequence.str.lstrip()\n",
    "\n",
    "#change string sequence into array\n",
    "data2[\"sequence\"]= data2[\"sequence\"].apply(string_to_array)\n",
    "\n",
    "data2.head()"
   ]
  },
  {
   "cell_type": "code",
   "execution_count": 15,
   "metadata": {},
   "outputs": [
    {
     "data": {
      "text/html": [
       "<div>\n",
       "<style scoped>\n",
       "    .dataframe tbody tr th:only-of-type {\n",
       "        vertical-align: middle;\n",
       "    }\n",
       "\n",
       "    .dataframe tbody tr th {\n",
       "        vertical-align: top;\n",
       "    }\n",
       "\n",
       "    .dataframe thead th {\n",
       "        text-align: right;\n",
       "    }\n",
       "</style>\n",
       "<table border=\"1\" class=\"dataframe\">\n",
       "  <thead>\n",
       "    <tr style=\"text-align: right;\">\n",
       "      <th></th>\n",
       "      <th>0</th>\n",
       "      <th>1</th>\n",
       "      <th>2</th>\n",
       "      <th>3</th>\n",
       "      <th>4</th>\n",
       "      <th>5</th>\n",
       "      <th>6</th>\n",
       "      <th>7</th>\n",
       "      <th>8</th>\n",
       "      <th>9</th>\n",
       "      <th>...</th>\n",
       "      <th>50</th>\n",
       "      <th>51</th>\n",
       "      <th>52</th>\n",
       "      <th>53</th>\n",
       "      <th>54</th>\n",
       "      <th>55</th>\n",
       "      <th>56</th>\n",
       "      <th>57</th>\n",
       "      <th>58</th>\n",
       "      <th>59</th>\n",
       "    </tr>\n",
       "  </thead>\n",
       "  <tbody>\n",
       "    <tr>\n",
       "      <th>0</th>\n",
       "      <td>0.50</td>\n",
       "      <td>0.50</td>\n",
       "      <td>0.25</td>\n",
       "      <td>0.75</td>\n",
       "      <td>0.50</td>\n",
       "      <td>1.00</td>\n",
       "      <td>0.75</td>\n",
       "      <td>0.50</td>\n",
       "      <td>0.25</td>\n",
       "      <td>1.00</td>\n",
       "      <td>...</td>\n",
       "      <td>0.25</td>\n",
       "      <td>0.75</td>\n",
       "      <td>0.50</td>\n",
       "      <td>0.50</td>\n",
       "      <td>0.25</td>\n",
       "      <td>0.75</td>\n",
       "      <td>1.00</td>\n",
       "      <td>0.50</td>\n",
       "      <td>1.00</td>\n",
       "      <td>0.75</td>\n",
       "    </tr>\n",
       "    <tr>\n",
       "      <th>1</th>\n",
       "      <td>0.25</td>\n",
       "      <td>0.75</td>\n",
       "      <td>0.25</td>\n",
       "      <td>0.50</td>\n",
       "      <td>0.50</td>\n",
       "      <td>0.50</td>\n",
       "      <td>0.75</td>\n",
       "      <td>0.50</td>\n",
       "      <td>0.50</td>\n",
       "      <td>0.75</td>\n",
       "      <td>...</td>\n",
       "      <td>0.75</td>\n",
       "      <td>1.00</td>\n",
       "      <td>0.75</td>\n",
       "      <td>0.50</td>\n",
       "      <td>0.50</td>\n",
       "      <td>0.50</td>\n",
       "      <td>0.50</td>\n",
       "      <td>0.50</td>\n",
       "      <td>0.75</td>\n",
       "      <td>0.50</td>\n",
       "    </tr>\n",
       "    <tr>\n",
       "      <th>2</th>\n",
       "      <td>0.75</td>\n",
       "      <td>0.25</td>\n",
       "      <td>0.75</td>\n",
       "      <td>0.75</td>\n",
       "      <td>1.00</td>\n",
       "      <td>0.75</td>\n",
       "      <td>0.25</td>\n",
       "      <td>0.25</td>\n",
       "      <td>0.75</td>\n",
       "      <td>0.75</td>\n",
       "      <td>...</td>\n",
       "      <td>0.50</td>\n",
       "      <td>0.25</td>\n",
       "      <td>0.50</td>\n",
       "      <td>0.75</td>\n",
       "      <td>0.75</td>\n",
       "      <td>0.75</td>\n",
       "      <td>0.75</td>\n",
       "      <td>0.25</td>\n",
       "      <td>1.00</td>\n",
       "      <td>0.75</td>\n",
       "    </tr>\n",
       "    <tr>\n",
       "      <th>3</th>\n",
       "      <td>0.75</td>\n",
       "      <td>0.75</td>\n",
       "      <td>0.75</td>\n",
       "      <td>0.50</td>\n",
       "      <td>1.00</td>\n",
       "      <td>0.75</td>\n",
       "      <td>0.50</td>\n",
       "      <td>0.75</td>\n",
       "      <td>1.00</td>\n",
       "      <td>1.00</td>\n",
       "      <td>...</td>\n",
       "      <td>0.75</td>\n",
       "      <td>0.75</td>\n",
       "      <td>1.00</td>\n",
       "      <td>1.00</td>\n",
       "      <td>1.00</td>\n",
       "      <td>1.00</td>\n",
       "      <td>0.50</td>\n",
       "      <td>0.50</td>\n",
       "      <td>0.50</td>\n",
       "      <td>0.50</td>\n",
       "    </tr>\n",
       "    <tr>\n",
       "      <th>4</th>\n",
       "      <td>0.75</td>\n",
       "      <td>0.50</td>\n",
       "      <td>1.00</td>\n",
       "      <td>0.50</td>\n",
       "      <td>0.25</td>\n",
       "      <td>0.75</td>\n",
       "      <td>0.50</td>\n",
       "      <td>0.50</td>\n",
       "      <td>0.50</td>\n",
       "      <td>0.50</td>\n",
       "      <td>...</td>\n",
       "      <td>0.50</td>\n",
       "      <td>0.50</td>\n",
       "      <td>1.00</td>\n",
       "      <td>1.00</td>\n",
       "      <td>0.75</td>\n",
       "      <td>0.25</td>\n",
       "      <td>0.50</td>\n",
       "      <td>0.50</td>\n",
       "      <td>0.50</td>\n",
       "      <td>1.00</td>\n",
       "    </tr>\n",
       "  </tbody>\n",
       "</table>\n",
       "<p>5 rows × 60 columns</p>\n",
       "</div>"
      ],
      "text/plain": [
       "     0     1     2     3     4     5     6     7     8     9   ...     50  \\\n",
       "0  0.50  0.50  0.25  0.75  0.50  1.00  0.75  0.50  0.25  1.00  ...   0.25   \n",
       "1  0.25  0.75  0.25  0.50  0.50  0.50  0.75  0.50  0.50  0.75  ...   0.75   \n",
       "2  0.75  0.25  0.75  0.75  1.00  0.75  0.25  0.25  0.75  0.75  ...   0.50   \n",
       "3  0.75  0.75  0.75  0.50  1.00  0.75  0.50  0.75  1.00  1.00  ...   0.75   \n",
       "4  0.75  0.50  1.00  0.50  0.25  0.75  0.50  0.50  0.50  0.50  ...   0.50   \n",
       "\n",
       "     51    52    53    54    55    56    57    58    59  \n",
       "0  0.75  0.50  0.50  0.25  0.75  1.00  0.50  1.00  0.75  \n",
       "1  1.00  0.75  0.50  0.50  0.50  0.50  0.50  0.75  0.50  \n",
       "2  0.25  0.50  0.75  0.75  0.75  0.75  0.25  1.00  0.75  \n",
       "3  0.75  1.00  1.00  1.00  1.00  0.50  0.50  0.50  0.50  \n",
       "4  0.50  1.00  1.00  0.75  0.25  0.50  0.50  0.50  1.00  \n",
       "\n",
       "[5 rows x 60 columns]"
      ]
     },
     "execution_count": 15,
     "metadata": {},
     "output_type": "execute_result"
    }
   ],
   "source": [
    "#for each array index create a column\n",
    "OHEdata= data2.sequence.apply(pd.Series, index=list(range(0,60)))\n",
    "\n",
    "data2[\"sequence\"]= data2[\"sequence\"].apply(ordinal_encoder) \n",
    "#comment out for the case of label encoding\n",
    "\n",
    "labeldata= data2.sequence.apply(pd.Series, index=list(range(0,60)))\n",
    "\n",
    "labeldata.head()"
   ]
  },
  {
   "cell_type": "markdown",
   "metadata": {},
   "source": [
    "# **Label encoded data were tested\n",
    "\n",
    "*__OneHot encoded dummy data performed better in classification tasks both for ML and DL__*\n",
    "\n",
    "---"
   ]
  },
  {
   "cell_type": "code",
   "execution_count": 16,
   "metadata": {},
   "outputs": [],
   "source": [
    "\n",
    "col = [OHEdata.columns]\n",
    "dummy= dummy_data(OHEdata, col)\n",
    "#make a dummy onehot encoded dataset\n",
    "\n",
    "dummy[\"label\"]=data[\"label\"]\n",
    "\n"
   ]
  },
  {
   "cell_type": "code",
   "execution_count": 17,
   "metadata": {},
   "outputs": [
    {
     "data": {
      "text/html": [
       "<div>\n",
       "<style scoped>\n",
       "    .dataframe tbody tr th:only-of-type {\n",
       "        vertical-align: middle;\n",
       "    }\n",
       "\n",
       "    .dataframe tbody tr th {\n",
       "        vertical-align: top;\n",
       "    }\n",
       "\n",
       "    .dataframe thead th {\n",
       "        text-align: right;\n",
       "    }\n",
       "</style>\n",
       "<table border=\"1\" class=\"dataframe\">\n",
       "  <thead>\n",
       "    <tr style=\"text-align: right;\">\n",
       "      <th></th>\n",
       "      <th>0_A</th>\n",
       "      <th>0_C</th>\n",
       "      <th>0_G</th>\n",
       "      <th>0_T</th>\n",
       "      <th>0_Z</th>\n",
       "      <th>1_A</th>\n",
       "      <th>1_C</th>\n",
       "      <th>1_G</th>\n",
       "      <th>1_T</th>\n",
       "      <th>1_Z</th>\n",
       "      <th>...</th>\n",
       "      <th>58_C</th>\n",
       "      <th>58_G</th>\n",
       "      <th>58_T</th>\n",
       "      <th>58_Z</th>\n",
       "      <th>59_A</th>\n",
       "      <th>59_C</th>\n",
       "      <th>59_G</th>\n",
       "      <th>59_T</th>\n",
       "      <th>59_Z</th>\n",
       "      <th>label</th>\n",
       "    </tr>\n",
       "  </thead>\n",
       "  <tbody>\n",
       "    <tr>\n",
       "      <th>0</th>\n",
       "      <td>0</td>\n",
       "      <td>1</td>\n",
       "      <td>0</td>\n",
       "      <td>0</td>\n",
       "      <td>0</td>\n",
       "      <td>0</td>\n",
       "      <td>1</td>\n",
       "      <td>0</td>\n",
       "      <td>0</td>\n",
       "      <td>0</td>\n",
       "      <td>...</td>\n",
       "      <td>0</td>\n",
       "      <td>0</td>\n",
       "      <td>1</td>\n",
       "      <td>0</td>\n",
       "      <td>0</td>\n",
       "      <td>0</td>\n",
       "      <td>1</td>\n",
       "      <td>0</td>\n",
       "      <td>0</td>\n",
       "      <td>EI</td>\n",
       "    </tr>\n",
       "    <tr>\n",
       "      <th>1</th>\n",
       "      <td>1</td>\n",
       "      <td>0</td>\n",
       "      <td>0</td>\n",
       "      <td>0</td>\n",
       "      <td>0</td>\n",
       "      <td>0</td>\n",
       "      <td>0</td>\n",
       "      <td>1</td>\n",
       "      <td>0</td>\n",
       "      <td>0</td>\n",
       "      <td>...</td>\n",
       "      <td>0</td>\n",
       "      <td>1</td>\n",
       "      <td>0</td>\n",
       "      <td>0</td>\n",
       "      <td>0</td>\n",
       "      <td>1</td>\n",
       "      <td>0</td>\n",
       "      <td>0</td>\n",
       "      <td>0</td>\n",
       "      <td>EI</td>\n",
       "    </tr>\n",
       "    <tr>\n",
       "      <th>2</th>\n",
       "      <td>0</td>\n",
       "      <td>0</td>\n",
       "      <td>1</td>\n",
       "      <td>0</td>\n",
       "      <td>0</td>\n",
       "      <td>1</td>\n",
       "      <td>0</td>\n",
       "      <td>0</td>\n",
       "      <td>0</td>\n",
       "      <td>0</td>\n",
       "      <td>...</td>\n",
       "      <td>0</td>\n",
       "      <td>0</td>\n",
       "      <td>1</td>\n",
       "      <td>0</td>\n",
       "      <td>0</td>\n",
       "      <td>0</td>\n",
       "      <td>1</td>\n",
       "      <td>0</td>\n",
       "      <td>0</td>\n",
       "      <td>EI</td>\n",
       "    </tr>\n",
       "    <tr>\n",
       "      <th>3</th>\n",
       "      <td>0</td>\n",
       "      <td>0</td>\n",
       "      <td>1</td>\n",
       "      <td>0</td>\n",
       "      <td>0</td>\n",
       "      <td>0</td>\n",
       "      <td>0</td>\n",
       "      <td>1</td>\n",
       "      <td>0</td>\n",
       "      <td>0</td>\n",
       "      <td>...</td>\n",
       "      <td>1</td>\n",
       "      <td>0</td>\n",
       "      <td>0</td>\n",
       "      <td>0</td>\n",
       "      <td>0</td>\n",
       "      <td>1</td>\n",
       "      <td>0</td>\n",
       "      <td>0</td>\n",
       "      <td>0</td>\n",
       "      <td>EI</td>\n",
       "    </tr>\n",
       "    <tr>\n",
       "      <th>4</th>\n",
       "      <td>0</td>\n",
       "      <td>0</td>\n",
       "      <td>1</td>\n",
       "      <td>0</td>\n",
       "      <td>0</td>\n",
       "      <td>0</td>\n",
       "      <td>1</td>\n",
       "      <td>0</td>\n",
       "      <td>0</td>\n",
       "      <td>0</td>\n",
       "      <td>...</td>\n",
       "      <td>1</td>\n",
       "      <td>0</td>\n",
       "      <td>0</td>\n",
       "      <td>0</td>\n",
       "      <td>0</td>\n",
       "      <td>0</td>\n",
       "      <td>0</td>\n",
       "      <td>1</td>\n",
       "      <td>0</td>\n",
       "      <td>EI</td>\n",
       "    </tr>\n",
       "  </tbody>\n",
       "</table>\n",
       "<p>5 rows × 286 columns</p>\n",
       "</div>"
      ],
      "text/plain": [
       "   0_A  0_C  0_G  0_T  0_Z  1_A  1_C  1_G  1_T  1_Z  ...    58_C  58_G  58_T  \\\n",
       "0    0    1    0    0    0    0    1    0    0    0  ...       0     0     1   \n",
       "1    1    0    0    0    0    0    0    1    0    0  ...       0     1     0   \n",
       "2    0    0    1    0    0    1    0    0    0    0  ...       0     0     1   \n",
       "3    0    0    1    0    0    0    0    1    0    0  ...       1     0     0   \n",
       "4    0    0    1    0    0    0    1    0    0    0  ...       1     0     0   \n",
       "\n",
       "   58_Z  59_A  59_C  59_G  59_T  59_Z  label  \n",
       "0     0     0     0     1     0     0     EI  \n",
       "1     0     0     1     0     0     0     EI  \n",
       "2     0     0     0     1     0     0     EI  \n",
       "3     0     0     1     0     0     0     EI  \n",
       "4     0     0     0     0     1     0     EI  \n",
       "\n",
       "[5 rows x 286 columns]"
      ]
     },
     "execution_count": 17,
     "metadata": {},
     "output_type": "execute_result"
    }
   ],
   "source": [
    "dummy.head()"
   ]
  },
  {
   "cell_type": "code",
   "execution_count": 18,
   "metadata": {},
   "outputs": [
    {
     "data": {
      "text/html": [
       "<div>\n",
       "<style scoped>\n",
       "    .dataframe tbody tr th:only-of-type {\n",
       "        vertical-align: middle;\n",
       "    }\n",
       "\n",
       "    .dataframe tbody tr th {\n",
       "        vertical-align: top;\n",
       "    }\n",
       "\n",
       "    .dataframe thead th {\n",
       "        text-align: right;\n",
       "    }\n",
       "</style>\n",
       "<table border=\"1\" class=\"dataframe\">\n",
       "  <thead>\n",
       "    <tr style=\"text-align: right;\">\n",
       "      <th></th>\n",
       "      <th>0</th>\n",
       "      <th>1</th>\n",
       "      <th>2</th>\n",
       "      <th>3</th>\n",
       "      <th>4</th>\n",
       "      <th>5</th>\n",
       "      <th>6</th>\n",
       "      <th>7</th>\n",
       "      <th>8</th>\n",
       "      <th>9</th>\n",
       "      <th>...</th>\n",
       "      <th>51</th>\n",
       "      <th>52</th>\n",
       "      <th>53</th>\n",
       "      <th>54</th>\n",
       "      <th>55</th>\n",
       "      <th>56</th>\n",
       "      <th>57</th>\n",
       "      <th>58</th>\n",
       "      <th>59</th>\n",
       "      <th>label</th>\n",
       "    </tr>\n",
       "  </thead>\n",
       "  <tbody>\n",
       "    <tr>\n",
       "      <th>0</th>\n",
       "      <td>0.50</td>\n",
       "      <td>0.50</td>\n",
       "      <td>0.25</td>\n",
       "      <td>0.75</td>\n",
       "      <td>0.50</td>\n",
       "      <td>1.00</td>\n",
       "      <td>0.75</td>\n",
       "      <td>0.50</td>\n",
       "      <td>0.25</td>\n",
       "      <td>1.00</td>\n",
       "      <td>...</td>\n",
       "      <td>0.75</td>\n",
       "      <td>0.50</td>\n",
       "      <td>0.50</td>\n",
       "      <td>0.25</td>\n",
       "      <td>0.75</td>\n",
       "      <td>1.00</td>\n",
       "      <td>0.50</td>\n",
       "      <td>1.00</td>\n",
       "      <td>0.75</td>\n",
       "      <td>EI</td>\n",
       "    </tr>\n",
       "    <tr>\n",
       "      <th>1</th>\n",
       "      <td>0.25</td>\n",
       "      <td>0.75</td>\n",
       "      <td>0.25</td>\n",
       "      <td>0.50</td>\n",
       "      <td>0.50</td>\n",
       "      <td>0.50</td>\n",
       "      <td>0.75</td>\n",
       "      <td>0.50</td>\n",
       "      <td>0.50</td>\n",
       "      <td>0.75</td>\n",
       "      <td>...</td>\n",
       "      <td>1.00</td>\n",
       "      <td>0.75</td>\n",
       "      <td>0.50</td>\n",
       "      <td>0.50</td>\n",
       "      <td>0.50</td>\n",
       "      <td>0.50</td>\n",
       "      <td>0.50</td>\n",
       "      <td>0.75</td>\n",
       "      <td>0.50</td>\n",
       "      <td>EI</td>\n",
       "    </tr>\n",
       "    <tr>\n",
       "      <th>2</th>\n",
       "      <td>0.75</td>\n",
       "      <td>0.25</td>\n",
       "      <td>0.75</td>\n",
       "      <td>0.75</td>\n",
       "      <td>1.00</td>\n",
       "      <td>0.75</td>\n",
       "      <td>0.25</td>\n",
       "      <td>0.25</td>\n",
       "      <td>0.75</td>\n",
       "      <td>0.75</td>\n",
       "      <td>...</td>\n",
       "      <td>0.25</td>\n",
       "      <td>0.50</td>\n",
       "      <td>0.75</td>\n",
       "      <td>0.75</td>\n",
       "      <td>0.75</td>\n",
       "      <td>0.75</td>\n",
       "      <td>0.25</td>\n",
       "      <td>1.00</td>\n",
       "      <td>0.75</td>\n",
       "      <td>EI</td>\n",
       "    </tr>\n",
       "    <tr>\n",
       "      <th>3</th>\n",
       "      <td>0.75</td>\n",
       "      <td>0.75</td>\n",
       "      <td>0.75</td>\n",
       "      <td>0.50</td>\n",
       "      <td>1.00</td>\n",
       "      <td>0.75</td>\n",
       "      <td>0.50</td>\n",
       "      <td>0.75</td>\n",
       "      <td>1.00</td>\n",
       "      <td>1.00</td>\n",
       "      <td>...</td>\n",
       "      <td>0.75</td>\n",
       "      <td>1.00</td>\n",
       "      <td>1.00</td>\n",
       "      <td>1.00</td>\n",
       "      <td>1.00</td>\n",
       "      <td>0.50</td>\n",
       "      <td>0.50</td>\n",
       "      <td>0.50</td>\n",
       "      <td>0.50</td>\n",
       "      <td>EI</td>\n",
       "    </tr>\n",
       "    <tr>\n",
       "      <th>4</th>\n",
       "      <td>0.75</td>\n",
       "      <td>0.50</td>\n",
       "      <td>1.00</td>\n",
       "      <td>0.50</td>\n",
       "      <td>0.25</td>\n",
       "      <td>0.75</td>\n",
       "      <td>0.50</td>\n",
       "      <td>0.50</td>\n",
       "      <td>0.50</td>\n",
       "      <td>0.50</td>\n",
       "      <td>...</td>\n",
       "      <td>0.50</td>\n",
       "      <td>1.00</td>\n",
       "      <td>1.00</td>\n",
       "      <td>0.75</td>\n",
       "      <td>0.25</td>\n",
       "      <td>0.50</td>\n",
       "      <td>0.50</td>\n",
       "      <td>0.50</td>\n",
       "      <td>1.00</td>\n",
       "      <td>EI</td>\n",
       "    </tr>\n",
       "  </tbody>\n",
       "</table>\n",
       "<p>5 rows × 61 columns</p>\n",
       "</div>"
      ],
      "text/plain": [
       "      0     1     2     3     4     5     6     7     8     9  ...      51  \\\n",
       "0  0.50  0.50  0.25  0.75  0.50  1.00  0.75  0.50  0.25  1.00  ...    0.75   \n",
       "1  0.25  0.75  0.25  0.50  0.50  0.50  0.75  0.50  0.50  0.75  ...    1.00   \n",
       "2  0.75  0.25  0.75  0.75  1.00  0.75  0.25  0.25  0.75  0.75  ...    0.25   \n",
       "3  0.75  0.75  0.75  0.50  1.00  0.75  0.50  0.75  1.00  1.00  ...    0.75   \n",
       "4  0.75  0.50  1.00  0.50  0.25  0.75  0.50  0.50  0.50  0.50  ...    0.50   \n",
       "\n",
       "     52    53    54    55    56    57    58    59  label  \n",
       "0  0.50  0.50  0.25  0.75  1.00  0.50  1.00  0.75     EI  \n",
       "1  0.75  0.50  0.50  0.50  0.50  0.50  0.75  0.50     EI  \n",
       "2  0.50  0.75  0.75  0.75  0.75  0.25  1.00  0.75     EI  \n",
       "3  1.00  1.00  1.00  1.00  0.50  0.50  0.50  0.50     EI  \n",
       "4  1.00  1.00  0.75  0.25  0.50  0.50  0.50  1.00     EI  \n",
       "\n",
       "[5 rows x 61 columns]"
      ]
     },
     "execution_count": 18,
     "metadata": {},
     "output_type": "execute_result"
    }
   ],
   "source": [
    "labeldata[\"label\"]=data2[\"label\"]\n",
    "labeldata.head()"
   ]
  },
  {
   "cell_type": "code",
   "execution_count": 33,
   "metadata": {},
   "outputs": [
    {
     "data": {
      "text/plain": [
       "(3190, 286)"
      ]
     },
     "execution_count": 33,
     "metadata": {},
     "output_type": "execute_result"
    }
   ],
   "source": [
    "dummy.shape"
   ]
  },
  {
   "cell_type": "code",
   "execution_count": 20,
   "metadata": {},
   "outputs": [
    {
     "name": "stdout",
     "output_type": "stream",
     "text": [
      "(3190, 285)\n",
      "(3190,)\n"
     ]
    }
   ],
   "source": [
    "\n",
    "X = dummy.drop(['label'], axis = 1)\n",
    "y = dummy['label']\n",
    "\n",
    "# X = labeldata.drop(['label'], axis = 1)\n",
    "# y = labeldata['label']\n",
    "\n",
    "print(X.shape)\n",
    "print(y.shape)"
   ]
  },
  {
   "cell_type": "code",
   "execution_count": 21,
   "metadata": {},
   "outputs": [
    {
     "name": "stdout",
     "output_type": "stream",
     "text": [
      "      0_A  0_C  0_G  0_T  0_Z  1_A  1_C  1_G  1_T  1_Z  ...   58_A  58_C  \\\n",
      "533     0    0    1    0    0    0    0    1    0    0  ...      0     1   \n",
      "1937    0    0    1    0    0    0    1    0    0    0  ...      0     1   \n",
      "2609    1    0    0    0    0    0    0    0    1    0  ...      0     0   \n",
      "2307    1    0    0    0    0    0    0    1    0    0  ...      0     1   \n",
      "2509    0    1    0    0    0    0    0    1    0    0  ...      0     0   \n",
      "\n",
      "      58_G  58_T  58_Z  59_A  59_C  59_G  59_T  59_Z  \n",
      "533      0     0     0     0     0     0     1     0  \n",
      "1937     0     0     0     0     1     0     0     0  \n",
      "2609     0     1     0     0     0     0     1     0  \n",
      "2307     0     0     0     1     0     0     0     0  \n",
      "2509     0     1     0     0     0     0     1     0  \n",
      "\n",
      "[5 rows x 285 columns]\n"
     ]
    }
   ],
   "source": [
    "\n",
    "\n",
    "X_train, X_test, y_train, y_test = train_test_split(X, y, test_size=0.20, random_state = 42)\n",
    "\n",
    "print(X_train[0:5])"
   ]
  },
  {
   "cell_type": "code",
   "execution_count": 22,
   "metadata": {
    "scrolled": true
   },
   "outputs": [],
   "source": [
    "from keras.callbacks import EarlyStopping\n",
    "\n",
    "def create_model():\n",
    "    # create model\n",
    "    model = Sequential()\n",
    "    model.add(Dense(120,input_dim=X.shape[1], activation='relu'))\n",
    "    model.add(Dropout(0.5))\n",
    "    #model.add(Dense(150, activation='relu'))\n",
    "    #model.add(Dropout(0.2))\n",
    "    #odel.add(Dense(10, activation='relu'))\n",
    "    #odel.add(Dropout(0.5))\n",
    "    model.add(Dense(3, activation='softmax'))\n",
    "    # Compile model\n",
    "    model.compile(loss='categorical_crossentropy', optimizer='adam', metrics=['accuracy'])\n",
    "    return model\n",
    "\n",
    "monitor = EarlyStopping(monitor ='val_loss' , mode ='auto', patience=20, verbose=0 )\n",
    "callbacks=[monitor]\n",
    "#to avoid overfitting, set an early stopping criteria for the model\n",
    "\n",
    "\n",
    "estimator = KerasClassifier(build_fn=create_model, epochs = 200, batch_size= 20, verbose=0, callbacks=callbacks, validation_split=0.20)\n",
    "\n",
    "estimator.fit(X_train, y_train)\n",
    "\n",
    "y_pred = estimator.predict(X_test)\n",
    "\n"
   ]
  },
  {
   "cell_type": "markdown",
   "metadata": {},
   "source": [
    "---\n",
    "\n",
    "### Number of hidden layer node and number of Hidden layers were not closely related to the output of the results of classification \n",
    "\n",
    "## 1. To avoid overfitting there the validation loss was chosen as a threshold for epochs\n",
    "## 2. dropout was also set to avoid overfitting\n",
    "\n",
    "\n",
    "---"
   ]
  },
  {
   "cell_type": "code",
   "execution_count": 23,
   "metadata": {},
   "outputs": [],
   "source": [
    "def ploting(cm, classes,\n",
    "                    normalize=False,\n",
    "                    title='Confusion matrix',\n",
    "                    cmap=plt.cm.Blues):\n",
    "    \"\"\"\n",
    "    This inner function plots the confusion matrix.\n",
    "    Normalization can be applied by setting `normalize=True`.\n",
    "\n",
    "    :param: cm/ConfusionMatrixo object, normalize=true/false, title=(str) , cmap= plt.cm.Blues ( color )\n",
    "    :return: None\n",
    "    \"\"\"\n",
    "    if normalize:\n",
    "        cm = cm.astype('float') / cm.sum(axis=1)[:, np.newaxis]\n",
    "        print(\"Normalized confusion matrix\")\n",
    "    else:\n",
    "        print('Confusion matrix, without normalization')\n",
    "\n",
    "    print(cm)\n",
    "\n",
    "    plt.imshow(cm, interpolation='nearest', cmap=cmap)\n",
    "    plt.title(title)\n",
    "    plt.colorbar()\n",
    "    tick_marks = np.arange(len(classes))\n",
    "    plt.xticks(tick_marks, classes, rotation=45)\n",
    "    plt.yticks(tick_marks, classes)\n",
    "\n",
    "    fmt = '.2f' if normalize else 'd'\n",
    "    thresh = cm.max() / 2.\n",
    "    for i, j in itertools.product(range(cm.shape[0]), range(cm.shape[1])):\n",
    "        plt.text(j, i, format(cm[i, j], fmt),\n",
    "                    horizontalalignment=\"center\",\n",
    "                    color=\"white\" if cm[i, j] > thresh else \"black\")\n",
    "\n",
    "    plt.ylabel('True label')\n",
    "    plt.xlabel('Predicted label')\n",
    "    plt.tight_layout()\n",
    "\n",
    "def confusion(y_pred):\n",
    "\n",
    "    # Compute confusion matrix\n",
    "    cnf_matrix = confusion_matrix(y_test, y_pred)\n",
    "    np.set_printoptions(precision=2)\n",
    "\n",
    "    # Plot non-normalized confusion matrix\n",
    "    plt.figure()\n",
    "    ploting(cnf_matrix, classes=dummy[\"label\"].unique(),\n",
    "                            title='Confusion matrix, without normalization')\n",
    "\n",
    "    # Plot normalized confusion matrix\n",
    "    plt.figure()\n",
    "    ploting(cnf_matrix, classes=dummy[\"label\"].unique(), normalize=True,\n",
    "                            title='Normalized confusion matrix')\n",
    "\n",
    "    plt.show()"
   ]
  },
  {
   "cell_type": "code",
   "execution_count": 24,
   "metadata": {},
   "outputs": [
    {
     "name": "stdout",
     "output_type": "stream",
     "text": [
      "FeedForward Neural network Accuracy:  0.9545454545454546\n",
      "              precision    recall  f1-score   support\n",
      "\n",
      "          EI       0.95      0.95      0.95       179\n",
      "          IE       0.91      0.94      0.93       140\n",
      "           N       0.98      0.96      0.97       319\n",
      "\n",
      "   micro avg       0.95      0.95      0.95       638\n",
      "   macro avg       0.95      0.95      0.95       638\n",
      "weighted avg       0.96      0.95      0.95       638\n",
      "\n",
      "Confusion matrix, without normalization\n",
      "[[170   6   3]\n",
      " [  4 132   4]\n",
      " [  5   7 307]]\n",
      "Normalized confusion matrix\n",
      "[[0.95 0.03 0.02]\n",
      " [0.03 0.94 0.03]\n",
      " [0.02 0.02 0.96]]\n"
     ]
    },
    {
     "data": {
      "image/png": "[encoded data removed]",
      "text/plain": [
       "<Figure size 432x288 with 2 Axes>"
      ]
     },
     "metadata": {
      "needs_background": "light"
     },
     "output_type": "display_data"
    },
    {
     "data": {
      "image/png": "[encoded data removed]",
      "text/plain": [
       "<Figure size 432x288 with 2 Axes>"
      ]
     },
     "metadata": {
      "needs_background": "light"
     },
     "output_type": "display_data"
    }
   ],
   "source": [
    "accuracy = accuracy_score(y_test, y_pred)\n",
    "print(\"FeedForward Neural network Accuracy: \" , accuracy)\n",
    "\n",
    "#classification report for each label\n",
    "print(classification_report(y_test, y_pred))\n",
    "\n",
    "confusion(y_pred)"
   ]
  },
  {
   "cell_type": "markdown",
   "metadata": {},
   "source": [
    "### Confusion matrix visualizes the classication errors and accuracy\n",
    "\n",
    "---"
   ]
  },
  {
   "cell_type": "code",
   "execution_count": 25,
   "metadata": {},
   "outputs": [],
   "source": [
    "# kfold = KFold(n_splits=10, shuffle=True, random_state=42)\n",
    "# results = cross_val_score(estimator, X_train, y_train, cv=kfold)\n",
    "# print(\"Baseline: %.2f%% (%.2f%%)\" % (results.mean()*100, results.std()*100))\n",
    "# accuracy = accuracy_score(y_test, results)\n",
    "# print(\"Crossvalidation Accuracy: \" , accuracy)\n"
   ]
  },
  {
   "cell_type": "code",
   "execution_count": 26,
   "metadata": {},
   "outputs": [
    {
     "name": "stdout",
     "output_type": "stream",
     "text": [
      "k_neighbor Accuracy:  0.9278996865203761\n",
      "              precision    recall  f1-score   support\n",
      "\n",
      "          EI       0.94      0.88      0.91       179\n",
      "          IE       0.88      0.93      0.90       140\n",
      "           N       0.94      0.95      0.95       319\n",
      "\n",
      "   micro avg       0.93      0.93      0.93       638\n",
      "   macro avg       0.92      0.92      0.92       638\n",
      "weighted avg       0.93      0.93      0.93       638\n",
      "\n",
      "Confusion matrix, without normalization\n",
      "[[158   9  12]\n",
      " [  4 130   6]\n",
      " [  6   9 304]]\n",
      "Normalized confusion matrix\n",
      "[[0.88 0.05 0.07]\n",
      " [0.03 0.93 0.04]\n",
      " [0.02 0.03 0.95]]\n"
     ]
    },
    {
     "data": {
      "image/png": "[encoded data removed]",
      "text/plain": [
       "<Figure size 432x288 with 2 Axes>"
      ]
     },
     "metadata": {
      "needs_background": "light"
     },
     "output_type": "display_data"
    },
    {
     "data": {
      "image/png": "[encoded data removed]",
      "text/plain": [
       "<Figure size 432x288 with 2 Axes>"
      ]
     },
     "metadata": {
      "needs_background": "light"
     },
     "output_type": "display_data"
    }
   ],
   "source": [
    "\n",
    "knn = KNeighborsClassifier(n_neighbors=500, leaf_size=3)\n",
    "\n",
    "knn.fit(X_train, y_train)\n",
    "y_pred = knn.predict(X_test)\n",
    "\n",
    "accuracy = accuracy_score(y_test, y_pred)\n",
    "print(\"k_neighbor Accuracy: \" , accuracy)\n",
    "\n",
    "#classification report for each label\n",
    "print(classification_report(y_test, y_pred))\n",
    "\n",
    "confusion(y_pred)"
   ]
  },
  {
   "cell_type": "code",
   "execution_count": 27,
   "metadata": {},
   "outputs": [
    {
     "name": "stdout",
     "output_type": "stream",
     "text": [
      "Gaussian Naive Bayes Accuracy:  0.9561128526645768\n",
      "              precision    recall  f1-score   support\n",
      "\n",
      "          EI       0.95      0.96      0.96       179\n",
      "          IE       0.91      0.96      0.93       140\n",
      "           N       0.98      0.95      0.97       319\n",
      "\n",
      "   micro avg       0.96      0.96      0.96       638\n",
      "   macro avg       0.95      0.96      0.95       638\n",
      "weighted avg       0.96      0.96      0.96       638\n",
      "\n",
      "Confusion matrix, without normalization\n",
      "[[172   6   1]\n",
      " [  1 135   4]\n",
      " [  8   8 303]]\n",
      "Normalized confusion matrix\n",
      "[[0.96 0.03 0.01]\n",
      " [0.01 0.96 0.03]\n",
      " [0.03 0.03 0.95]]\n"
     ]
    },
    {
     "data": {
      "image/png": "[encoded data removed]",
      "text/plain": [
       "<Figure size 432x288 with 2 Axes>"
      ]
     },
     "metadata": {
      "needs_background": "light"
     },
     "output_type": "display_data"
    },
    {
     "data": {
      "image/png": "[encoded data removed]",
      "text/plain": [
       "<Figure size 432x288 with 2 Axes>"
      ]
     },
     "metadata": {
      "needs_background": "light"
     },
     "output_type": "display_data"
    }
   ],
   "source": [
    "gnb= GaussianNB(var_smoothing = 0.1)\n",
    "\n",
    "\n",
    "gnb.fit(X_train, y_train)\n",
    "y_pred = gnb.predict(X_test)\n",
    "\n",
    "accuracy = accuracy_score(y_test, y_pred)\n",
    "print(\"Gaussian Naive Bayes Accuracy: \" , accuracy)\n",
    "\n",
    "#classification report for each label\n",
    "print(classification_report(y_test, y_pred))\n",
    "\n",
    "confusion(y_pred)"
   ]
  },
  {
   "cell_type": "code",
   "execution_count": 28,
   "metadata": {},
   "outputs": [
    {
     "name": "stderr",
     "output_type": "stream",
     "text": [
      "D:\\anaconda\\lib\\site-packages\\sklearn\\svm\\base.py:196: FutureWarning: The default value of gamma will change from 'auto' to 'scale' in version 0.22 to account better for unscaled features. Set gamma explicitly to 'auto' or 'scale' to avoid this warning.\n",
      "  \"avoid this warning.\", FutureWarning)\n"
     ]
    },
    {
     "name": "stdout",
     "output_type": "stream",
     "text": [
      "Support Vector Machine Accuracy:  0.9561128526645768\n",
      "              precision    recall  f1-score   support\n",
      "\n",
      "          EI       0.96      0.97      0.96       179\n",
      "          IE       0.90      0.94      0.92       140\n",
      "           N       0.98      0.95      0.97       319\n",
      "\n",
      "   micro avg       0.96      0.96      0.96       638\n",
      "   macro avg       0.95      0.96      0.95       638\n",
      "weighted avg       0.96      0.96      0.96       638\n",
      "\n",
      "Confusion matrix, without normalization\n",
      "[[174   5   0]\n",
      " [  3 132   5]\n",
      " [  5  10 304]]\n",
      "Normalized confusion matrix\n",
      "[[0.97 0.03 0.  ]\n",
      " [0.02 0.94 0.04]\n",
      " [0.02 0.03 0.95]]\n"
     ]
    },
    {
     "data": {
      "image/png": "[encoded data removed]",
      "text/plain": [
       "<Figure size 432x288 with 2 Axes>"
      ]
     },
     "metadata": {
      "needs_background": "light"
     },
     "output_type": "display_data"
    },
    {
     "data": {
      "image/png": "[encoded data removed]",
      "text/plain": [
       "<Figure size 432x288 with 2 Axes>"
      ]
     },
     "metadata": {
      "needs_background": "light"
     },
     "output_type": "display_data"
    }
   ],
   "source": [
    "svc = SVC()\n",
    "\n",
    "\n",
    "svc.fit(X_train, y_train)\n",
    "y_pred = svc.predict(X_test)\n",
    "\n",
    "accuracy = accuracy_score(y_test, y_pred)\n",
    "print(\"Support Vector Machine Accuracy: \" , accuracy)\n",
    "\n",
    "#classification report for each label\n",
    "print(classification_report(y_test, y_pred))\n",
    "\n",
    "confusion(y_pred)"
   ]
  },
  {
   "cell_type": "code",
   "execution_count": 29,
   "metadata": {},
   "outputs": [
    {
     "name": "stdout",
     "output_type": "stream",
     "text": [
      "RandomForestClassifier Accuracy:  0.9717868338557993\n",
      "              precision    recall  f1-score   support\n",
      "\n",
      "          EI       0.98      0.97      0.98       179\n",
      "          IE       0.94      0.97      0.95       140\n",
      "           N       0.98      0.97      0.98       319\n",
      "\n",
      "   micro avg       0.97      0.97      0.97       638\n",
      "   macro avg       0.97      0.97      0.97       638\n",
      "weighted avg       0.97      0.97      0.97       638\n",
      "\n",
      "Confusion matrix, without normalization\n",
      "[[174   2   3]\n",
      " [  1 136   3]\n",
      " [  2   7 310]]\n",
      "Normalized confusion matrix\n",
      "[[0.97 0.01 0.02]\n",
      " [0.01 0.97 0.02]\n",
      " [0.01 0.02 0.97]]\n"
     ]
    },
    {
     "data": {
      "image/png": "[encoded data removed]",
      "text/plain": [
       "<Figure size 432x288 with 2 Axes>"
      ]
     },
     "metadata": {
      "needs_background": "light"
     },
     "output_type": "display_data"
    },
    {
     "data": {
      "image/png": "[encoded data removed]",
      "text/plain": [
       "<Figure size 432x288 with 2 Axes>"
      ]
     },
     "metadata": {
      "needs_background": "light"
     },
     "output_type": "display_data"
    }
   ],
   "source": [
    "rnf = RandomForestClassifier(n_estimators=250, max_depth=15,\n",
    "                              random_state=0)\n",
    "\n",
    "rnf.fit(X_train, y_train)\n",
    "y_pred = rnf.predict(X_test)\n",
    "\n",
    "accuracy = accuracy_score(y_test, y_pred)\n",
    "print(\"RandomForestClassifier Accuracy: \" , accuracy)\n",
    "\n",
    "#classification report for each label\n",
    "print(classification_report(y_test, y_pred))\n",
    "\n",
    "confusion(y_pred)"
   ]
  },
  {
   "cell_type": "code",
   "execution_count": 30,
   "metadata": {},
   "outputs": [
    {
     "name": "stdout",
     "output_type": "stream",
     "text": [
      "DecisionTreeClassifier Accuracy:  0.9498432601880877\n",
      "              precision    recall  f1-score   support\n",
      "\n",
      "          EI       0.96      0.97      0.96       179\n",
      "          IE       0.87      0.94      0.90       140\n",
      "           N       0.99      0.94      0.96       319\n",
      "\n",
      "   micro avg       0.95      0.95      0.95       638\n",
      "   macro avg       0.94      0.95      0.94       638\n",
      "weighted avg       0.95      0.95      0.95       638\n",
      "\n",
      "Confusion matrix, without normalization\n",
      "[[174   5   0]\n",
      " [  5 131   4]\n",
      " [  3  15 301]]\n",
      "Normalized confusion matrix\n",
      "[[0.97 0.03 0.  ]\n",
      " [0.04 0.94 0.03]\n",
      " [0.01 0.05 0.94]]\n"
     ]
    },
    {
     "data": {
      "image/png": "[encoded data removed]",
      "text/plain": [
       "<Figure size 432x288 with 2 Axes>"
      ]
     },
     "metadata": {
      "needs_background": "light"
     },
     "output_type": "display_data"
    },
    {
     "data": {
      "image/png": "[encoded data removed]",
      "text/plain": [
       "<Figure size 432x288 with 2 Axes>"
      ]
     },
     "metadata": {
      "needs_background": "light"
     },
     "output_type": "display_data"
    }
   ],
   "source": [
    "\n",
    "dct = DecisionTreeClassifier(max_depth=5, min_samples_split=3 )\n",
    "\n",
    "dct.fit(X_train, y_train)\n",
    "y_pred = dct.predict(X_test)\n",
    "\n",
    "accuracy = accuracy_score(y_test, y_pred)\n",
    "print(\"DecisionTreeClassifier Accuracy: \" , accuracy)\n",
    "\n",
    "#classification report for each label\n",
    "print(classification_report(y_test, y_pred))\n",
    "\n",
    "confusion(y_pred)\n"
   ]
  },
  {
   "cell_type": "code",
   "execution_count": 31,
   "metadata": {},
   "outputs": [
    {
     "name": "stdout",
     "output_type": "stream",
     "text": [
      "XGBoost classifier Accuracy:  0.9608150470219435\n",
      "              precision    recall  f1-score   support\n",
      "\n",
      "          EI       0.96      0.98      0.97       179\n",
      "          IE       0.92      0.96      0.94       140\n",
      "           N       0.98      0.95      0.96       319\n",
      "\n",
      "   micro avg       0.96      0.96      0.96       638\n",
      "   macro avg       0.95      0.96      0.96       638\n",
      "weighted avg       0.96      0.96      0.96       638\n",
      "\n",
      "Confusion matrix, without normalization\n",
      "[[176   2   1]\n",
      " [  1 134   5]\n",
      " [  6  10 303]]\n",
      "Normalized confusion matrix\n",
      "[[0.98 0.01 0.01]\n",
      " [0.01 0.96 0.04]\n",
      " [0.02 0.03 0.95]]\n"
     ]
    },
    {
     "data": {
      "image/png": "[encoded data removed]",
      "text/plain": [
       "<Figure size 432x288 with 2 Axes>"
      ]
     },
     "metadata": {
      "needs_background": "light"
     },
     "output_type": "display_data"
    },
    {
     "data": {
      "image/png": "[encoded data removed]",
      "text/plain": [
       "<Figure size 432x288 with 2 Axes>"
      ]
     },
     "metadata": {
      "needs_background": "light"
     },
     "output_type": "display_data"
    }
   ],
   "source": [
    "eval_set=[(X_train, y_train), (X_test, y_test)]\n",
    "\n",
    "xgb = xgboost.sklearn.XGBClassifier(\n",
    "    objective=\"multi:softprob\",\n",
    "    learning_rate=0.025,\n",
    "    seed=9616, #seed that is not random\n",
    "    max_depth=20,\n",
    "    gamma=0,\n",
    "    n_estimators=500)\n",
    "\n",
    "xgb.fit(X_train, y_train, early_stopping_rounds=20, eval_metric=[\"merror\", \"mlogloss\"], eval_set=eval_set, verbose=False)\n",
    "y_pred = xgb.predict(X_test)\n",
    "\n",
    "accuracy = accuracy_score(y_test, y_pred)\n",
    "print(\"XGBoost classifier Accuracy: \" , accuracy)\n",
    "\n",
    "#classification report for each label\n",
    "print(classification_report(y_test, y_pred))\n",
    "\n",
    "confusion(y_pred)"
   ]
  },
  {
   "cell_type": "code",
   "execution_count": 32,
   "metadata": {},
   "outputs": [
    {
     "name": "stdout",
     "output_type": "stream",
     "text": [
      "MultinomialNB Accuracy:  0.9435736677115988\n",
      "              precision    recall  f1-score   support\n",
      "\n",
      "          EI       0.95      0.92      0.94       179\n",
      "          IE       0.91      0.93      0.92       140\n",
      "           N       0.95      0.96      0.96       319\n",
      "\n",
      "   micro avg       0.94      0.94      0.94       638\n",
      "   macro avg       0.94      0.94      0.94       638\n",
      "weighted avg       0.94      0.94      0.94       638\n",
      "\n",
      "Confusion matrix, without normalization\n",
      "[[165   6   8]\n",
      " [  3 130   7]\n",
      " [  5   7 307]]\n",
      "Normalized confusion matrix\n",
      "[[0.92 0.03 0.04]\n",
      " [0.02 0.93 0.05]\n",
      " [0.02 0.02 0.96]]\n"
     ]
    },
    {
     "data": {
      "image/png": "[encoded data removed]",
      "text/plain": [
       "<Figure size 432x288 with 2 Axes>"
      ]
     },
     "metadata": {
      "needs_background": "light"
     },
     "output_type": "display_data"
    },
    {
     "data": {
      "image/png": "[encoded data removed]",
      "text/plain": [
       "<Figure size 432x288 with 2 Axes>"
      ]
     },
     "metadata": {
      "needs_background": "light"
     },
     "output_type": "display_data"
    }
   ],
   "source": [
    "classifier = MultinomialNB()\n",
    "classifier.fit(X_train, y_train)\n",
    "y_pred = classifier.predict(X_test)\n",
    "\n",
    "accuracy = accuracy_score(y_test, y_pred)\n",
    "print(\"MultinomialNB Accuracy: \" , accuracy)\n",
    "\n",
    "#classification report for each label\n",
    "print(classification_report(y_test, y_pred))\n",
    "\n",
    "confusion(y_pred)"
   ]
  },
  {
   "cell_type": "markdown",
   "metadata": {},
   "source": [
    "(trivial hyperparameters adjusted, \n",
    "with same data training set)\n",
    "\n",
    "### DL algorithm : \n",
    "\n",
    "FeedForward Neural network Accuracy:  0.9545454545454546\n",
    "\n",
    "---\n",
    "\n",
    "### Classical Machine learning algorithms : \n",
    "Values can differ with regard to seed or random states\n",
    "\n",
    "    1. k_neighbor Accuracy:  0.9278996865203761\n",
    "    2. Gaussian Naive Bayes Accuracy:  0.9561128526645768\n",
    "    3. Support Vector Machine Accuracy:  0.9561128526645768\n",
    "    4. RandomForestClassifier Accuracy:  0.9717868338557993\n",
    "    5. DecisionTreeClassifier Accuracy:  0.9498432601880877\n",
    "    6. XGBoost classifier Accuracy:  0.9608150470219435\n",
    "    7. MultinomialNB Accuracy:  0.9435736677115988\n"
   ]
  },
  {
   "cell_type": "markdown",
   "metadata": {},
   "source": [
    "# Remarks\n",
    "---\n",
    "Initially, I predicted that it was necessary to implement several hidden layers to classify these dna sequences into three categories. Therefore, I tried to add hidden layers and adjust the number of nodes or learning rates of the DL algorithm. However, it turned out that having only one hidden layer and a few hidden nodes were enough to classify these sequences. (resulting in 95%> accuracy) "
   ]
  },
  {
   "cell_type": "markdown",
   "metadata": {},
   "source": [
    "Also, I supposed that for complex data such having 285 columns when onehot encoded, it would be likely that DL perform much better than classical machine learning algorithms. Instead, the result showed that some classical machine learning algorithms even performed better than DL algorithm. This suggest that dna sequence feature was not deeply complicated data, and that classical ML algorithms are much more faster in classifying small data. \n",
    "\n",
    "--- "
   ]
  },
  {
   "cell_type": "markdown",
   "metadata": {},
   "source": [
    "### Process\n",
    "\n",
    "**1. Tried to use kmer word count vectorizer because I assumed that dna sequences are turned into protein in chunks of sequences.**\n",
    "    1. Kmer performed worse than one hot encoding \n",
    "    2. Made feature unnecessarily complex\n",
    "**2. Tried to use heatmap to describe feature importance**\n",
    "    1. It turned out that for dna sequences it is not possible or feasible to choose certain columns that has more correlation to the label. \n",
    "    2. Therefore, I just included all 60 sequences in the data\n",
    "**3. For some algorithms cross validations were used to assess overfitting of the model**\n"
   ]
  },
  {
   "cell_type": "markdown",
   "metadata": {},
   "source": [
    "# Conclusion\n",
    "___\n",
    "\n",
    "### ML algorithms performed better in classification task in terms of speed and accuracy, but the difference were trivial.\n"
   ]
  },
  {
   "cell_type": "markdown",
   "metadata": {},
   "source": [
    "notebook by Tae Min Ha / taemin410@gmail.com / 01077943915 / 852+67163002 \n"
   ]
  },
  {
   "cell_type": "code",
   "execution_count": null,
   "metadata": {},
   "outputs": [],
   "source": []
  }
 ],
 "metadata": {
  "kernelspec": {
   "display_name": "Python 3",
   "language": "python",
   "name": "python3"
  },
  "language_info": {
   "codemirror_mode": {
    "name": "ipython",
    "version": 3
   },
   "file_extension": ".py",
   "mimetype": "text/x-python",
   "name": "python",
   "nbconvert_exporter": "python",
   "pygments_lexer": "ipython3",
   "version": "3.6.8"
  }
 },
 "nbformat": 4,
 "nbformat_minor": 2
}
